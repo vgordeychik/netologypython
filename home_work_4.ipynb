{
 "cells": [
  {
   "cell_type": "markdown",
   "metadata": {},
   "source": [
    "### Задание 1\n",
    " Напишите функцию date_range, которая возвращает список дней между датами start_date и end_date. Даты должны вводиться в формате YYYY-MM-DD."
   ]
  },
  {
   "cell_type": "code",
   "execution_count": 27,
   "metadata": {},
   "outputs": [
    {
     "name": "stdout",
     "output_type": "stream",
     "text": [
      "List of days between '2003-12-30' and '2004-01-05' : ['2003-12-31', '2004-01-01', '2004-01-02', '2004-01-03', '2004-01-04']\n"
     ]
    }
   ],
   "source": [
    "from datetime import datetime\n",
    "from datetime import timedelta\n",
    "\n",
    "def date_range(start, end, step) :\n",
    "    while start < end :\n",
    "        yield start\n",
    "        start += step\n",
    "    return None\n",
    "\n",
    "def get_dates_list(start_date, end_date):\n",
    "    start = datetime.strptime(start_date, \"%Y-%m-%d\")\n",
    "    end = datetime.strptime(end_date, \"%Y-%m-%d\")\n",
    "    delta = timedelta(days=1)\n",
    "    #skip first date\n",
    "    start += delta\n",
    "    return [x for x in date_range(start, end, delta)]\n",
    "\n",
    "def make_printable_date(d):\n",
    "    return d.strftime(\"%Y-%m-%d\")\n",
    "\n",
    "input = (\"2003-12-30\", \"2004-01-05\")\n",
    "dates = get_dates_list(input[0], input[1])\n",
    "print(\"List of days between '{0}' and '{1}' : {2}\".format(input[0], input[1], [make_printable_date(x) for x in dates]))\n",
    "\n"
   ]
  },
  {
   "cell_type": "markdown",
   "metadata": {},
   "source": [
    "### Задание 2\n",
    " Дополните функцию из первого задания проверкой на корректность дат. В случае неверного формата или если start_date > end_date должен возвращаться пустой список."
   ]
  },
  {
   "cell_type": "code",
   "execution_count": 28,
   "metadata": {},
   "outputs": [
    {
     "name": "stdout",
     "output_type": "stream",
     "text": [
      "List of days between '2004-01-05' and '2003-12-30' : []\n"
     ]
    }
   ],
   "source": [
    "input = (\"2004-01-05\", \"2003-12-30\")\n",
    "dates = get_dates_list(input[0], input[1])\n",
    "print(\"List of days between '{0}' and '{1}' : {2}\".format(input[0], input[1], [make_printable_date(x) for x in dates]))\n"
   ]
  },
  {
   "cell_type": "markdown",
   "metadata": {},
   "source": [
    "### Задание 3\n",
    " Дан поток дат в формате YYYY-MM-DD, в которых встречаются некорректные значения:\n",
    " stream = [‘2018-04-02’, ‘2018-02-29’, ‘2018-19-02’]\n",
    " Напишите функцию, которая проверяет эти даты на корректность. Т. е. для каждой даты возвращает True (дата корректна) или False (некорректная дата)."
   ]
  },
  {
   "cell_type": "code",
   "execution_count": 29,
   "metadata": {},
   "outputs": [
    {
     "name": "stdout",
     "output_type": "stream",
     "text": [
      "[('2018-04-02', True), ('2018-02-29', False), ('2018-19-02', False)]\n"
     ]
    }
   ],
   "source": [
    "def check_validity_check(dt) :\n",
    "    try:\n",
    "        datetime.strptime(dt, \"%Y-%m-%d\")\n",
    "    except ValueError:\n",
    "        return False\n",
    "    return True\n",
    "\n",
    "stream = ['2018-04-02', '2018-02-29', '2018-19-02']\n",
    "\n",
    "validity = [check_validity_check(x) for x in stream]\n",
    "\n",
    "result = zip(stream, validity)\n",
    "print(list(result))"
   ]
  },
  {
   "cell_type": "markdown",
   "metadata": {},
   "source": [
    "### Задание 4\n",
    " Напишите функцию, которая возвращает список дат с 1 по вчерашний день текущего месяца. Если дан 1 день месяца, то возвращается список дней прошлого месяца."
   ]
  },
  {
   "cell_type": "code",
   "execution_count": 30,
   "metadata": {},
   "outputs": [
    {
     "name": "stdout",
     "output_type": "stream",
     "text": [
      "Data : 2012-12-03, List of days : ['2012-12-01', '2012-12-02']\n",
      "Data : 2013-01-01, List of days : ['2012-12-01', '2012-12-02', '2012-12-03', '2012-12-04', '2012-12-05', '2012-12-06', '2012-12-07', '2012-12-08', '2012-12-09', '2012-12-10', '2012-12-11', '2012-12-12', '2012-12-13', '2012-12-14', '2012-12-15', '2012-12-16', '2012-12-17', '2012-12-18', '2012-12-19', '2012-12-20', '2012-12-21', '2012-12-22', '2012-12-23', '2012-12-24', '2012-12-25', '2012-12-26', '2012-12-27', '2012-12-28', '2012-12-29', '2012-12-30', '2012-12-31']\n",
      "Data : 1981-12-15, List of days : ['1981-12-01', '1981-12-02', '1981-12-03', '1981-12-04', '1981-12-05', '1981-12-06', '1981-12-07', '1981-12-08', '1981-12-09', '1981-12-10', '1981-12-11', '1981-12-12', '1981-12-13', '1981-12-14']\n"
     ]
    }
   ],
   "source": [
    "def return_dates_from_first_to_yesterday(dt) :\n",
    "    delta = timedelta(days=1)\n",
    "    first = (dt - delta).replace(day=1)\n",
    "    return [x for x in date_range(first, dt, delta)]\n",
    "\n",
    "examples = [datetime(2012, 12, 3), datetime(2013, 1, 1), datetime(1981, 12, 15)]\n",
    "\n",
    "for example in examples:\n",
    "    dates = return_dates_from_first_to_yesterday(example)\n",
    "    print(\"Data : {0}, List of days : {1}\".format(make_printable_date(example) , [make_printable_date(x) for x in dates]))\n"
   ]
  },
  {
   "cell_type": "code",
   "execution_count": 31,
   "metadata": {},
   "outputs": [],
   "source": []
  },
  {
   "cell_type": "code",
   "execution_count": 32,
   "metadata": {},
   "outputs": [],
   "source": []
  }
 ],
 "metadata": {
  "file_extension": ".py",
  "kernelspec": {
   "display_name": "Python 3",
   "language": "python",
   "name": "python3"
  },
  "language_info": {
   "codemirror_mode": {
    "name": "ipython",
    "version": 3
   },
   "file_extension": ".py",
   "mimetype": "text/x-python",
   "name": "python",
   "nbconvert_exporter": "python",
   "pygments_lexer": "ipython3",
   "version": "3.7.3"
  },
  "mimetype": "text/x-python",
  "name": "python",
  "npconvert_exporter": "python",
  "pygments_lexer": "ipython3",
  "version": 3
 },
 "nbformat": 4,
 "nbformat_minor": 2
}
