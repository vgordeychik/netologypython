{
 "cells": [
  {
   "cell_type": "markdown",
   "metadata": {},
   "source": [
    " # Домашнее задание по статистическому анализу на python"
   ]
  },
  {
   "cell_type": "code",
   "execution_count": 83,
   "metadata": {},
   "outputs": [],
   "source": [
    "import pandas as pd\n",
    "import numpy as np\n",
    "import matplotlib.pyplot as plt\n",
    "import scipy.stats as sts\n",
    "%matplotlib inline\n",
    "import statistics\n",
    "import math\n",
    "\n",
    "\n"
   ]
  },
  {
   "cell_type": "markdown",
   "metadata": {},
   "source": [
    " Загрузить датасет по url:\n"
   ]
  },
  {
   "cell_type": "code",
   "execution_count": 84,
   "metadata": {},
   "outputs": [],
   "source": [
    "url=\"http://yustiks.ru/dataset/world-happiness-report-2019.csv\"\n",
    "df=pd.read_csv(url)\n"
   ]
  },
  {
   "cell_type": "markdown",
   "metadata": {},
   "source": [
    " World happiness gauged by technologies, social norms, and government policies. Dataset created by PromptCloud's web crawling solution."
   ]
  },
  {
   "cell_type": "markdown",
   "metadata": {},
   "source": [
    "\n",
    " *  **Country (region)** Name of the country.\n",
    " *  **Ladder** Cantril Ladder is a measure of life satisfaction.\n",
    " *  **SD of Ladder** Standard deviation of the ladder.\n",
    " *  **Positive affect** Measure of positive emotion.\n",
    " *  **Negative affect** Measure of negative emotion.\n",
    " *  **Social support** The extent to which Social support contributed to the calculation of the Happiness Score.\n",
    " *  **Freedom** The extent to which Freedom contributed to the calculation of the Happiness Score.\n",
    " *  **Corruption** The extent to which Perception of Corruption contributes to Happiness Score.\n",
    " *  **Generosity** The extent to which Generosity contributed to the calculation of the Happiness Score.\n",
    " *  **Log of GDP per capita** The extent to which GDP contributes to the calculation of the Happiness Score.\n",
    " *  **Healthy life expectancy** The extent to which Life expectancy contributed to the calculation of the Happiness Score."
   ]
  },
  {
   "cell_type": "markdown",
   "metadata": {},
   "source": [
    " Посмотреть первые несколько рядов таблицы"
   ]
  },
  {
   "cell_type": "code",
   "execution_count": 85,
   "metadata": {},
   "outputs": [
    {
     "data": {
      "text/html": [
       "<div>\n",
       "<style scoped>\n",
       "    .dataframe tbody tr th:only-of-type {\n",
       "        vertical-align: middle;\n",
       "    }\n",
       "\n",
       "    .dataframe tbody tr th {\n",
       "        vertical-align: top;\n",
       "    }\n",
       "\n",
       "    .dataframe thead th {\n",
       "        text-align: right;\n",
       "    }\n",
       "</style>\n",
       "<table border=\"1\" class=\"dataframe\">\n",
       "  <thead>\n",
       "    <tr style=\"text-align: right;\">\n",
       "      <th></th>\n",
       "      <th>Country (region)</th>\n",
       "      <th>Ladder</th>\n",
       "      <th>SD of Ladder</th>\n",
       "      <th>Positive affect</th>\n",
       "      <th>Negative affect</th>\n",
       "      <th>Social support</th>\n",
       "      <th>Freedom</th>\n",
       "      <th>Corruption</th>\n",
       "      <th>Generosity</th>\n",
       "      <th>Log of GDP\n",
       "per capita</th>\n",
       "      <th>Healthy life\n",
       "expectancy</th>\n",
       "    </tr>\n",
       "  </thead>\n",
       "  <tbody>\n",
       "    <tr>\n",
       "      <th>0</th>\n",
       "      <td>Finland</td>\n",
       "      <td>1</td>\n",
       "      <td>4</td>\n",
       "      <td>41.0</td>\n",
       "      <td>10.0</td>\n",
       "      <td>2.0</td>\n",
       "      <td>5.0</td>\n",
       "      <td>4.0</td>\n",
       "      <td>47.0</td>\n",
       "      <td>22.0</td>\n",
       "      <td>27.0</td>\n",
       "    </tr>\n",
       "    <tr>\n",
       "      <th>1</th>\n",
       "      <td>Denmark</td>\n",
       "      <td>2</td>\n",
       "      <td>13</td>\n",
       "      <td>24.0</td>\n",
       "      <td>26.0</td>\n",
       "      <td>4.0</td>\n",
       "      <td>6.0</td>\n",
       "      <td>3.0</td>\n",
       "      <td>22.0</td>\n",
       "      <td>14.0</td>\n",
       "      <td>23.0</td>\n",
       "    </tr>\n",
       "    <tr>\n",
       "      <th>2</th>\n",
       "      <td>Norway</td>\n",
       "      <td>3</td>\n",
       "      <td>8</td>\n",
       "      <td>16.0</td>\n",
       "      <td>29.0</td>\n",
       "      <td>3.0</td>\n",
       "      <td>3.0</td>\n",
       "      <td>8.0</td>\n",
       "      <td>11.0</td>\n",
       "      <td>7.0</td>\n",
       "      <td>12.0</td>\n",
       "    </tr>\n",
       "    <tr>\n",
       "      <th>3</th>\n",
       "      <td>Iceland</td>\n",
       "      <td>4</td>\n",
       "      <td>9</td>\n",
       "      <td>3.0</td>\n",
       "      <td>3.0</td>\n",
       "      <td>1.0</td>\n",
       "      <td>7.0</td>\n",
       "      <td>45.0</td>\n",
       "      <td>3.0</td>\n",
       "      <td>15.0</td>\n",
       "      <td>13.0</td>\n",
       "    </tr>\n",
       "    <tr>\n",
       "      <th>4</th>\n",
       "      <td>Netherlands</td>\n",
       "      <td>5</td>\n",
       "      <td>1</td>\n",
       "      <td>12.0</td>\n",
       "      <td>25.0</td>\n",
       "      <td>15.0</td>\n",
       "      <td>19.0</td>\n",
       "      <td>12.0</td>\n",
       "      <td>7.0</td>\n",
       "      <td>12.0</td>\n",
       "      <td>18.0</td>\n",
       "    </tr>\n",
       "  </tbody>\n",
       "</table>\n",
       "</div>"
      ],
      "text/plain": [
       "  Country (region)  Ladder  SD of Ladder  Positive affect  Negative affect  \\\n",
       "0          Finland       1             4             41.0             10.0   \n",
       "1          Denmark       2            13             24.0             26.0   \n",
       "2           Norway       3             8             16.0             29.0   \n",
       "3          Iceland       4             9              3.0              3.0   \n",
       "4      Netherlands       5             1             12.0             25.0   \n",
       "\n",
       "   Social support  Freedom  Corruption  Generosity  Log of GDP\\nper capita  \\\n",
       "0             2.0      5.0         4.0        47.0                    22.0   \n",
       "1             4.0      6.0         3.0        22.0                    14.0   \n",
       "2             3.0      3.0         8.0        11.0                     7.0   \n",
       "3             1.0      7.0        45.0         3.0                    15.0   \n",
       "4            15.0     19.0        12.0         7.0                    12.0   \n",
       "\n",
       "   Healthy life\\nexpectancy  \n",
       "0                      27.0  \n",
       "1                      23.0  \n",
       "2                      12.0  \n",
       "3                      13.0  \n",
       "4                      18.0  "
      ]
     },
     "execution_count": 85,
     "metadata": {},
     "output_type": "execute_result"
    }
   ],
   "source": [
    "df[:5]\n"
   ]
  },
  {
   "cell_type": "markdown",
   "metadata": {},
   "source": [
    " Построить частотный график для двух параметров: Freedom и Positive affect. Какое это распределение?"
   ]
  },
  {
   "cell_type": "code",
   "execution_count": 86,
   "metadata": {},
   "outputs": [
    {
     "name": "stderr",
     "output_type": "stream",
     "text": [
      "C:\\Users\\gvs\\Anaconda3\\lib\\site-packages\\numpy\\lib\\histograms.py:824: RuntimeWarning: invalid value encountered in greater_equal\n",
      "  keep = (tmp_a >= first_edge)\n",
      "C:\\Users\\gvs\\Anaconda3\\lib\\site-packages\\numpy\\lib\\histograms.py:825: RuntimeWarning: invalid value encountered in less_equal\n",
      "  keep &= (tmp_a <= last_edge)\n"
     ]
    },
    {
     "data": {
      "text/plain": [
       "<matplotlib.legend.Legend at 0x9f77ac8>"
      ]
     },
     "execution_count": 86,
     "metadata": {},
     "output_type": "execute_result"
    },
    {
     "data": {
      "image/png": "[encoded data removed]",
      "text/plain": [
       "<Figure size 432x288 with 1 Axes>"
      ]
     },
     "metadata": {
      "needs_background": "dark"
     },
     "output_type": "display_data"
    }
   ],
   "source": [
    "freedom_series_ = df['Freedom']\n",
    "pa_series_ = df['Positive affect']\n",
    "\n",
    "plt.hist([pa_series_, freedom_series_], 10, label=['Positive affect', 'Freedom'])\n",
    "plt.legend()\n",
    "\n",
    "# Распределение приближается к равномерному\n",
    "\n"
   ]
  },
  {
   "cell_type": "markdown",
   "metadata": {},
   "source": [
    " Найти медиану, моду, математическое ожидание, стандартное отклонение,  дисперсию, минимум и максимум, найти выбросы (если есть), размах для колонки Freedom"
   ]
  },
  {
   "cell_type": "code",
   "execution_count": 87,
   "metadata": {},
   "outputs": [
    {
     "name": "stdout",
     "output_type": "stream",
     "text": [
      "Параметры колонки Freedom\n",
      "\tмедиана: 71.0,\n",
      "\tмода: None,\n",
      "\tматематическое ожидание: 78.0,\n",
      "\tстандартное отклонение: 44.74371464239419,\n",
      "\tдисперсия: 2002.0,\n",
      "\tминимум: 1.0,\n",
      "\tмаксимум: 155.0,\n",
      "\t выбросы: 1 (28   NaN\n",
      "Name: Freedom, dtype: float64),\n",
      "\tразмах: 154.0.\n"
     ]
    }
   ],
   "source": [
    "def calc_params(name) :\n",
    "    fd = df[name]\n",
    "    fd_without_na = fd.dropna()\n",
    "\n",
    "    median_ = statistics.median(fd)\n",
    "    mode_ = None\n",
    "    try :\n",
    "        mode_ = statistics.mode(fd)\n",
    "    except statistics.StatisticsError :\n",
    "        pass\n",
    "    mean_ = statistics.mean(fd_without_na)\n",
    "    \n",
    "    pvariance_ = statistics.pvariance(fd_without_na, mean_)\n",
    "    pstdev_ = math.sqrt(pvariance_)\n",
    "    min_ = min(fd)\n",
    "    max_ = max(fd)\n",
    "    isnull_ = fd.isnull().sum()\n",
    "    nulls_ = fd[fd.isnull()]\n",
    "    range_ = max_ - min_\n",
    "    return (median_, mode_, mean_, pstdev_, pvariance_, min_, max_, (isnull_, nulls_), range_)\n",
    "\n",
    "params_ = calc_params('Freedom')\n",
    "print(\"Параметры колонки Freedom\\n\"\n",
    "    \"\\tмедиана: {0},\\n\\tмода: {1},\\n\\tматематическое ожидание: {2},\\n\\tстандартное отклонение: {3},\\n\"\n",
    "    \"\\tдисперсия: {4},\\n\\tминимум: {5},\\n\\tмаксимум: {6},\\n\\t выбросы: {7} ({8}),\\n\\tразмах: {9}.\".format(\n",
    "        params_[0], params_[1], params_[2], params_[3], params_[4],\n",
    "        params_[5], params_[6], params_[7][0], params_[7][1], params_[8]\n",
    "        ))\n",
    "\n"
   ]
  },
  {
   "cell_type": "markdown",
   "metadata": {},
   "source": [
    " Посмотреть корреляцию между Freedom и Positive affect (графически и математически). Графически - plt.scatter, математически - посчитать коэффициент Пирсона. О чем говорит знак коэффициента?"
   ]
  },
  {
   "cell_type": "code",
   "execution_count": 88,
   "metadata": {},
   "outputs": [
    {
     "name": "stdout",
     "output_type": "stream",
     "text": [
      "Коэффициент Пирсона:  0.6817698430601656\n"
     ]
    },
    {
     "data": {
      "image/png": "[encoded data removed]",
      "text/plain": [
       "<Figure size 432x288 with 1 Axes>"
      ]
     },
     "metadata": {
      "needs_background": "dark"
     },
     "output_type": "display_data"
    }
   ],
   "source": [
    "plt.grid(True)\n",
    "plt.scatter(freedom_series_, pa_series_)\n",
    "\n",
    "# отбрасываем нулевые значения в последовотельностях\n",
    "cp, _ = sts.pearsonr(freedom_series_.dropna(), pa_series_.dropna())\n",
    "print(\"Коэффициент Пирсона: \", cp)\n",
    "\n",
    "# Коэффициент говорит о довольно коррелируемых данных\n"
   ]
  },
  {
   "cell_type": "markdown",
   "metadata": {},
   "source": [
    " Нормализовать данные колонки Freedom (централизация + масштабирование)"
   ]
  },
  {
   "cell_type": "code",
   "execution_count": 89,
   "metadata": {},
   "outputs": [
    {
     "data": {
      "text/plain": [
       "array([[-0.94805195],\n",
       "       [-0.93506494],\n",
       "       [-0.97402597],\n",
       "       [-0.92207792],\n",
       "       [-0.76623377],\n",
       "       [-0.87012987],\n",
       "       [-0.88311688],\n",
       "       [-0.90909091],\n",
       "       [-0.8961039 ],\n",
       "       [-0.67532468],\n",
       "       [-0.79220779],\n",
       "       [-0.80519481],\n",
       "       [ 0.19480519],\n",
       "       [-0.64935065],\n",
       "       [-0.19480519],\n",
       "       [-0.58441558],\n",
       "       [-0.44155844],\n",
       "       [-0.32467532],\n",
       "       [-0.20779221],\n",
       "       [-0.25974026],\n",
       "       [-0.96103896],\n",
       "       [-0.85714286],\n",
       "       [-0.09090909],\n",
       "       [-0.11688312],\n",
       "       [ 0.31168831],\n",
       "       [ 0.25974026],\n",
       "       [-0.68831169],\n",
       "       [-0.12987013],\n",
       "       [        nan],\n",
       "       [ 0.22077922],\n",
       "       [-0.5974026 ],\n",
       "       [ 0.07792208],\n",
       "       [-0.62337662],\n",
       "       [-0.75324675],\n",
       "       [-0.05194805],\n",
       "       [ 0.7012987 ],\n",
       "       [-0.7012987 ],\n",
       "       [ 0.38961039],\n",
       "       [-0.35064935],\n",
       "       [-0.33766234],\n",
       "       [-1.        ],\n",
       "       [ 0.57142857],\n",
       "       [-0.28571429],\n",
       "       [-0.84415584],\n",
       "       [-0.1038961 ],\n",
       "       [-0.36363636],\n",
       "       [-0.31168831],\n",
       "       [-0.27272727],\n",
       "       [ 0.03896104],\n",
       "       [-0.46753247],\n",
       "       [-0.4025974 ],\n",
       "       [-0.77922078],\n",
       "       [ 0.62337662],\n",
       "       [ 0.85714286],\n",
       "       [-0.42857143],\n",
       "       [-0.37662338],\n",
       "       [-0.49350649],\n",
       "       [-0.18181818],\n",
       "       [-0.50649351],\n",
       "       [ 0.02597403],\n",
       "       [-0.55844156],\n",
       "       [ 0.77922078],\n",
       "       [-0.57142857],\n",
       "       [-0.01298701],\n",
       "       [-0.22077922],\n",
       "       [-0.53246753],\n",
       "       [ 0.46753247],\n",
       "       [ 0.37662338],\n",
       "       [-0.81818182],\n",
       "       [ 0.5974026 ],\n",
       "       [ 0.64935065],\n",
       "       [ 0.01298701],\n",
       "       [ 0.79220779],\n",
       "       [ 0.1038961 ],\n",
       "       [ 0.51948052],\n",
       "       [-0.15584416],\n",
       "       [-0.45454545],\n",
       "       [ 0.76623377],\n",
       "       [ 0.80519481],\n",
       "       [-0.54545455],\n",
       "       [ 0.68831169],\n",
       "       [ 0.93506494],\n",
       "       [ 0.44155844],\n",
       "       [ 0.35064935],\n",
       "       [-0.03896104],\n",
       "       [-0.51948052],\n",
       "       [ 0.06493506],\n",
       "       [ 0.92207792],\n",
       "       [-0.02597403],\n",
       "       [ 0.2987013 ],\n",
       "       [ 0.75324675],\n",
       "       [-0.38961039],\n",
       "       [-0.61038961],\n",
       "       [-0.71428571],\n",
       "       [-0.24675325],\n",
       "       [ 0.15584416],\n",
       "       [ 0.48051948],\n",
       "       [ 0.16883117],\n",
       "       [ 0.28571429],\n",
       "       [-0.14285714],\n",
       "       [ 0.12987013],\n",
       "       [ 0.32467532],\n",
       "       [ 0.18181818],\n",
       "       [ 0.53246753],\n",
       "       [-0.72727273],\n",
       "       [ 0.09090909],\n",
       "       [ 0.11688312],\n",
       "       [ 0.87012987],\n",
       "       [-0.98701299],\n",
       "       [ 0.72727273],\n",
       "       [ 0.55844156],\n",
       "       [-0.83116883],\n",
       "       [ 0.05194805],\n",
       "       [ 0.42857143],\n",
       "       [ 0.63636364],\n",
       "       [ 0.58441558],\n",
       "       [ 0.50649351],\n",
       "       [ 0.4025974 ],\n",
       "       [ 0.33766234],\n",
       "       [ 0.14285714],\n",
       "       [-0.07792208],\n",
       "       [ 0.94805195],\n",
       "       [-0.41558442],\n",
       "       [ 0.84415584],\n",
       "       [-0.66233766],\n",
       "       [ 0.67532468],\n",
       "       [ 0.61038961],\n",
       "       [ 0.41558442],\n",
       "       [ 0.49350649],\n",
       "       [-0.2987013 ],\n",
       "       [-0.63636364],\n",
       "       [ 0.83116883],\n",
       "       [ 0.81818182],\n",
       "       [ 0.36363636],\n",
       "       [ 0.45454545],\n",
       "       [ 0.27272727],\n",
       "       [ 0.66233766],\n",
       "       [-0.06493506],\n",
       "       [ 0.54545455],\n",
       "       [-0.48051948],\n",
       "       [ 0.20779221],\n",
       "       [ 0.90909091],\n",
       "       [ 0.88311688],\n",
       "       [ 0.24675325],\n",
       "       [ 0.74025974],\n",
       "       [ 0.23376623],\n",
       "       [ 0.96103896],\n",
       "       [-0.23376623],\n",
       "       [ 0.97402597],\n",
       "       [-0.16883117],\n",
       "       [ 0.8961039 ],\n",
       "       [-0.74025974],\n",
       "       [ 0.        ],\n",
       "       [ 1.        ],\n",
       "       [ 0.71428571],\n",
       "       [ 0.98701299]])"
      ]
     },
     "execution_count": 89,
     "metadata": {},
     "output_type": "execute_result"
    }
   ],
   "source": [
    "from sklearn import preprocessing\n",
    "\n",
    "normalized_freedom = freedom_series_ - freedom_series_.mean()\n",
    "scaler = preprocessing.MinMaxScaler((-1, 1))\n",
    "normalized_freedom = scaler.fit_transform(np.array(normalized_freedom).reshape(-1,1))\n",
    "normalized_freedom\n",
    "\n",
    "\n"
   ]
  },
  {
   "cell_type": "markdown",
   "metadata": {},
   "source": [
    " Построить матрицу корреляций для всех колонок таблицы"
   ]
  },
  {
   "cell_type": "code",
   "execution_count": 90,
   "metadata": {},
   "outputs": [
    {
     "data": {
      "image/png": "[encoded data removed]",
      "text/plain": [
       "<Figure size 720x576 with 2 Axes>"
      ]
     },
     "metadata": {
      "needs_background": "dark"
     },
     "output_type": "display_data"
    }
   ],
   "source": [
    "import seaborn as sns\n",
    "\n",
    "cm = df.corr()\n",
    "sns.heatmap(cm, annot=True, cmap='rocket', linewidths=0.2)\n",
    "fig = plt.gcf()\n",
    "fig.set_size_inches(10, 8)\n",
    "plt.show()\n",
    "\n"
   ]
  },
  {
   "cell_type": "markdown",
   "metadata": {},
   "source": [
    " Загрузить следующую таблицу:"
   ]
  },
  {
   "cell_type": "code",
   "execution_count": 91,
   "metadata": {},
   "outputs": [
    {
     "data": {
      "text/html": [
       "<div>\n",
       "<style scoped>\n",
       "    .dataframe tbody tr th:only-of-type {\n",
       "        vertical-align: middle;\n",
       "    }\n",
       "\n",
       "    .dataframe tbody tr th {\n",
       "        vertical-align: top;\n",
       "    }\n",
       "\n",
       "    .dataframe thead th {\n",
       "        text-align: right;\n",
       "    }\n",
       "</style>\n",
       "<table border=\"1\" class=\"dataframe\">\n",
       "  <thead>\n",
       "    <tr style=\"text-align: right;\">\n",
       "      <th></th>\n",
       "      <th>Unnamed: 0</th>\n",
       "      <th>Date</th>\n",
       "      <th>AveragePrice</th>\n",
       "      <th>Total Volume</th>\n",
       "      <th>4046</th>\n",
       "      <th>4225</th>\n",
       "      <th>4770</th>\n",
       "      <th>Total Bags</th>\n",
       "      <th>Small Bags</th>\n",
       "      <th>Large Bags</th>\n",
       "      <th>XLarge Bags</th>\n",
       "      <th>type</th>\n",
       "      <th>year</th>\n",
       "      <th>region</th>\n",
       "    </tr>\n",
       "  </thead>\n",
       "  <tbody>\n",
       "    <tr>\n",
       "      <th>0</th>\n",
       "      <td>0</td>\n",
       "      <td>2015-12-27</td>\n",
       "      <td>1.33</td>\n",
       "      <td>64236.62</td>\n",
       "      <td>1036.74</td>\n",
       "      <td>54454.85</td>\n",
       "      <td>48.16</td>\n",
       "      <td>8696.87</td>\n",
       "      <td>8603.62</td>\n",
       "      <td>93.25</td>\n",
       "      <td>0.0</td>\n",
       "      <td>conventional</td>\n",
       "      <td>2015</td>\n",
       "      <td>Albany</td>\n",
       "    </tr>\n",
       "    <tr>\n",
       "      <th>1</th>\n",
       "      <td>1</td>\n",
       "      <td>2015-12-20</td>\n",
       "      <td>1.35</td>\n",
       "      <td>54876.98</td>\n",
       "      <td>674.28</td>\n",
       "      <td>44638.81</td>\n",
       "      <td>58.33</td>\n",
       "      <td>9505.56</td>\n",
       "      <td>9408.07</td>\n",
       "      <td>97.49</td>\n",
       "      <td>0.0</td>\n",
       "      <td>conventional</td>\n",
       "      <td>2015</td>\n",
       "      <td>Albany</td>\n",
       "    </tr>\n",
       "    <tr>\n",
       "      <th>2</th>\n",
       "      <td>2</td>\n",
       "      <td>2015-12-13</td>\n",
       "      <td>0.93</td>\n",
       "      <td>118220.22</td>\n",
       "      <td>794.70</td>\n",
       "      <td>109149.67</td>\n",
       "      <td>130.50</td>\n",
       "      <td>8145.35</td>\n",
       "      <td>8042.21</td>\n",
       "      <td>103.14</td>\n",
       "      <td>0.0</td>\n",
       "      <td>conventional</td>\n",
       "      <td>2015</td>\n",
       "      <td>Albany</td>\n",
       "    </tr>\n",
       "  </tbody>\n",
       "</table>\n",
       "</div>"
      ],
      "text/plain": [
       "   Unnamed: 0        Date  AveragePrice  Total Volume     4046       4225  \\\n",
       "0           0  2015-12-27          1.33      64236.62  1036.74   54454.85   \n",
       "1           1  2015-12-20          1.35      54876.98   674.28   44638.81   \n",
       "2           2  2015-12-13          0.93     118220.22   794.70  109149.67   \n",
       "\n",
       "     4770  Total Bags  Small Bags  Large Bags  XLarge Bags          type  \\\n",
       "0   48.16     8696.87     8603.62       93.25          0.0  conventional   \n",
       "1   58.33     9505.56     9408.07       97.49          0.0  conventional   \n",
       "2  130.50     8145.35     8042.21      103.14          0.0  conventional   \n",
       "\n",
       "   year  region  \n",
       "0  2015  Albany  \n",
       "1  2015  Albany  \n",
       "2  2015  Albany  "
      ]
     },
     "execution_count": 91,
     "metadata": {},
     "output_type": "execute_result"
    }
   ],
   "source": [
    "import io\n",
    "import requests\n",
    "url=\"http://yustiks.ru/avocado.csv\"\n",
    "df=pd.read_csv(url)\n",
    "df[:3]\n"
   ]
  },
  {
   "cell_type": "markdown",
   "metadata": {},
   "source": [
    " Сделать частотный график колонки AveragePrice. Какое это распределение?"
   ]
  },
  {
   "cell_type": "code",
   "execution_count": 92,
   "metadata": {},
   "outputs": [
    {
     "data": {
      "image/png": "[encoded data removed]",
      "text/plain": [
       "<Figure size 432x288 with 1 Axes>"
      ]
     },
     "metadata": {
      "needs_background": "dark"
     },
     "output_type": "display_data"
    }
   ],
   "source": [
    "ap_ = df['AveragePrice']\n",
    "\n",
    "plt.hist(ap_, 30, histtype='step')\n",
    "plt.show()\n",
    "\n",
    "# распределение похоже на нормальное\n"
   ]
  },
  {
   "cell_type": "markdown",
   "metadata": {},
   "source": [
    " Найти корреляцию в следующих колонках:"
   ]
  },
  {
   "cell_type": "markdown",
   "metadata": {},
   "source": [
    " Корелляция между: 4046 - Total number of avocados with PLU 4046 sold  и например Average Price. Если корелляция есть, то скорее всего, данный вид авокадо дорогой по цене и он влияет на среднюю стоимость."
   ]
  },
  {
   "cell_type": "code",
   "execution_count": 93,
   "metadata": {},
   "outputs": [
    {
     "data": {
      "text/plain": [
       "-0.20831704848788477"
      ]
     },
     "execution_count": 93,
     "metadata": {},
     "output_type": "execute_result"
    }
   ],
   "source": [
    "clmn_4046 = df['4046']\n",
    "clmn_average_price = df['AveragePrice']\n",
    "\n",
    "cp, _ = sts.pearsonr(clmn_4046, clmn_average_price)\n",
    "cp\n",
    "\n",
    "# корреляция отрицательна и незначительна ~20%\n"
   ]
  }
 ],
 "metadata": {
  "file_extension": ".py",
  "kernelspec": {
   "display_name": "Python 3",
   "language": "python",
   "name": "python3"
  },
  "language_info": {
   "codemirror_mode": {
    "name": "ipython",
    "version": 3
   },
   "file_extension": ".py",
   "mimetype": "text/x-python",
   "name": "python",
   "nbconvert_exporter": "python",
   "pygments_lexer": "ipython3",
   "version": "3.7.3"
  },
  "mimetype": "text/x-python",
  "name": "python",
  "npconvert_exporter": "python",
  "pygments_lexer": "ipython3",
  "version": 3
 },
 "nbformat": 4,
 "nbformat_minor": 2
}
