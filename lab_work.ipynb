{
 "cells": [
  {
   "cell_type": "markdown",
   "metadata": {},
   "source": [
    " Списки и строки – одни из важных начальных понятий для любого дата сайентиста, поскольку на знании принципов работы с\n",
    " ними строится работа с препроцессингом и обработкой данных в python в целом и работы с модулем pandas в\n",
    " частности:\n",
    " \n",
    " 1.1 Дан произвольный список, содержащий только числа. Выведите результат сложения всех чисел больше 10."
   ]
  },
  {
   "cell_type": "code",
   "execution_count": 2,
   "metadata": {},
   "outputs": [
    {
     "name": "stdout",
     "output_type": "stream",
     "text": [
      "57\n"
     ]
    }
   ],
   "source": [
    "from functools import reduce\n",
    "numbers = [12, 45, -33, 4, 7, 0]\n",
    "sum = reduce((lambda x, y : x + y), filter(lambda x : x > 10, numbers))\n",
    "print(sum)\n"
   ]
  },
  {
   "cell_type": "markdown",
   "metadata": {},
   "source": [
    " 1.2 Пусть задан список, содержащий строки. Выведите все строки, заканчивающиеся буквой r."
   ]
  },
  {
   "cell_type": "code",
   "execution_count": 3,
   "metadata": {},
   "outputs": [
    {
     "name": "stdout",
     "output_type": "stream",
     "text": [
      "['parcur', 'master']\n"
     ]
    }
   ],
   "source": [
    "strings = ['a', 'abasfas', 'parcur', 'lalalala', 'master', '']\n",
    "\n",
    "rstrings = list(filter(lambda x : x.endswith('r'), strings))\n",
    "print(rstrings)\n"
   ]
  },
  {
   "cell_type": "markdown",
   "metadata": {},
   "source": [
    " 1. 3 Сгенерируйте и выведите cлучайную строку размером 6 символов, содержащую только цифры. Строка должна содержать хотя\n",
    " бы одну цифру 3."
   ]
  },
  {
   "cell_type": "code",
   "execution_count": 4,
   "metadata": {},
   "outputs": [
    {
     "name": "stdout",
     "output_type": "stream",
     "text": [
      "134994\n"
     ]
    }
   ],
   "source": [
    "import random\n",
    "def get_randstr() :\n",
    "    randstr = \"\"\n",
    "    three_was = False\n",
    "    while len(randstr) < 6 :\n",
    "        rval = random.randint(0, 9)\n",
    "        randstr += chr(ord('0') + rval)\n",
    "        if rval == 3 :\n",
    "            three_was = True\n",
    "\n",
    "    if not three_was :\n",
    "        pos = random.randint(0, 5)\n",
    "        randstr = randstr[:pos] + '3' + randstr[pos+1:]\n",
    "\n",
    "    return randstr\n",
    "\n",
    "print(get_randstr())\n"
   ]
  },
  {
   "cell_type": "markdown",
   "metadata": {},
   "source": [
    " 1.4 Пусть дана строка произвольной длины. Выведите информацию о том, сколько в ней символов и сколько слов."
   ]
  },
  {
   "cell_type": "code",
   "execution_count": 5,
   "metadata": {},
   "outputs": [
    {
     "name": "stdout",
     "output_type": "stream",
     "text": [
      "String: \n",
      "'Слов уже нет, букв тоже. Остались одни знаки препинания, да и те непечатные. И не говорите, что в русском языке таких не существует. Есть, и много...'\n",
      "Symbols: 149, Words: 26\n"
     ]
    }
   ],
   "source": [
    "long_string = \"Слов уже нет, букв тоже. Остались одни знаки препинания, да и те непечатные. И не говорите, что в русском языке таких не существует. Есть, и много...\"\n",
    "\n",
    "import re\n",
    "\n",
    "symbols_count = len(long_string)\n",
    "words = list(filter(None, re.split(\"[, \\\\-!?:\\\\.]+\", long_string)))\n",
    "words_count = len(words)\n",
    "print(\"String: \\n'{0}'\\nSymbols: {1}, Words: {2}\".format(long_string, symbols_count, words_count))\n",
    "\n"
   ]
  },
  {
   "cell_type": "markdown",
   "metadata": {},
   "source": [
    " Матрицы-следующее за списками и строками важное понятие. Широко используется в линейной алгебре. Находит свое\n",
    " применение в современных рекомендательных системах и архитектуре нейронных сетей:\n",
    " \n",
    " 2.1 Пусть дана матрица чисел размером NхN. Представьте данную матрицу в виде списка. Выведите результат сложения всех элементов\n",
    " матрицы."
   ]
  },
  {
   "cell_type": "code",
   "execution_count": 6,
   "metadata": {},
   "outputs": [
    {
     "name": "stdout",
     "output_type": "stream",
     "text": [
      "[1, 3, 4, 5, 2, 5, 3, -1, 5, 1, 1, -6, 0, 5, -5, 0]\n",
      "23\n"
     ]
    }
   ],
   "source": [
    "import numpy as np\n",
    "\n",
    "mtx = np.array([\n",
    "    [1,3,4,5],\n",
    "    [2,5,3,-1],\n",
    "    [5,1,1,-6],\n",
    "    [0,5,-5,0]\n",
    "    ])\n",
    "list_mtx = list(mtx.reshape(16,))\n",
    "print(list_mtx)\n",
    "print(mtx.sum())\n"
   ]
  },
  {
   "cell_type": "markdown",
   "metadata": {},
   "source": [
    " 2.2 Дана матрица размером NxM. Напишите алгоритм вычисления максимума из сумм элементов каждого столбца."
   ]
  },
  {
   "cell_type": "code",
   "execution_count": 7,
   "metadata": {},
   "outputs": [
    {
     "name": "stdout",
     "output_type": "stream",
     "text": [
      "14\n"
     ]
    }
   ],
   "source": [
    "mtx = np.array([\n",
    "    [ 1, 3, 4, 5, 5, 6, 7, 0],\n",
    "    [ 2, 5, 3,-1, 4, 1,-6, 2],\n",
    "    [ 5, 1, 1,-6,-2,-4,-9, 3],\n",
    "    [ 0, 5,-5, 0, -4,-9,2, 8]\n",
    "    ])\n",
    "\n",
    "column_sums = [mtx[:, i].sum() for i in range(0, mtx.shape[1])]\n",
    "print(max(column_sums))\n"
   ]
  },
  {
   "cell_type": "markdown",
   "metadata": {},
   "source": [
    " Работа с динамичными структурами важная часть в имплементации вашего кода в продакшн систему:\n",
    " \n",
    " 3.1 Пусть список студентов представлен в виде структуры [[No, ФИО, Возраст,Группа],[No, ФИО, Возраст, Группа],[No, ФИО, Возраст, Группа]].\n",
    " Преобразуйте список в словарь вида: {No: [ФИО, Возраст, Группа], No:[....], No: [....]}"
   ]
  },
  {
   "cell_type": "code",
   "execution_count": 8,
   "metadata": {},
   "outputs": [
    {
     "name": "stdout",
     "output_type": "stream",
     "text": [
      "{1: ['Пупкин Иван Семенович', 31, 23], 2: ['Лектор Канибал Иванович', 45, 44], 3: ['Босс Зинаида Дмитриевна', 39, 3]}\n"
     ]
    }
   ],
   "source": [
    "data = [\n",
    "    [1, \"Пупкин Иван Семенович\", 31, 23],\n",
    "    [2, \"Лектор Канибал Иванович\", 45, 44],\n",
    "    [3, \"Босс Зинаида Дмитриевна\", 39, 3]\n",
    "    ]\n",
    "\n",
    "def convert_data_to_map(lst):\n",
    "    keys = [item[0] for item in lst]\n",
    "    values = [item[1:] for item in lst]\n",
    "    return { k : v  for k, v in zip(keys, values)}\n",
    "\n",
    "converted_data = convert_data_to_map(data)\n",
    "print(converted_data)"
   ]
  },
  {
   "cell_type": "markdown",
   "metadata": {},
   "source": [
    " 3.2 Напишите алгоритм, позволяющий найти запись в словаре из задачи 3.1 (без преобразования словаря обратно в список) по фамилии\n",
    " и изменить в ней номер группы. Фамилию и новый номер группы необходимо ввести с клавиатуры."
   ]
  },
  {
   "cell_type": "code",
   "execution_count": 9,
   "metadata": {},
   "outputs": [
    {
     "name": "stdout",
     "output_type": "stream",
     "text": [
      "Данные перед изменением: {1: ['Пупкин Иван Семенович', 31, 23], 2: ['Лектор Канибал Иванович', 45, 44], 3: ['Босс Зинаида Дмитриевна', 39, 3]}\n",
      "Введите фамилию: Пупкин\n",
      "Новый номер группы: 111\n",
      "Фамилия найдена и группа изменена: {1: ['Пупкин Иван Семенович', 31, 111], 2: ['Лектор Канибал Иванович', 45, 44], 3: ['Босс Зинаида Дмитриевна', 39, 3]}\n"
     ]
    }
   ],
   "source": [
    "def change_group_by_surname(dict_data, surname, group) :\n",
    "    # возвращает True если найдена запись с фамилией\n",
    "    for k, v in dict_data.items() :\n",
    "        if (v[0].split(' ')[0] == surname) :\n",
    "            dict_data[k][2] = group\n",
    "            return True\n",
    "\n",
    "    return False\n",
    "\n",
    "print(\"Данные перед изменением: {0}\".format(converted_data))\n",
    "surname = input(\"Введите фамилию: \")\n",
    "group = int(input(\"Новый номер группы: \"))\n",
    "res  = change_group_by_surname(converted_data, surname, group)\n",
    "if res :\n",
    "    print(\"Фамилия найдена и группа изменена: {0}\".format(converted_data))\n",
    "else :\n",
    "    print(\"Фамилия '{0}' не найдена\".format(surname))\n"
   ]
  },
  {
   "cell_type": "markdown",
   "metadata": {},
   "source": [
    " 3.3 Напишите алгоритм, позволяющий аналогично задаче 3.2 изменить возраст студента"
   ]
  },
  {
   "cell_type": "code",
   "execution_count": 10,
   "metadata": {},
   "outputs": [
    {
     "name": "stdout",
     "output_type": "stream",
     "text": [
      "Данные перед изменением: {1: ['Пупкин Иван Семенович', 31, 111], 2: ['Лектор Канибал Иванович', 45, 44], 3: ['Босс Зинаида Дмитриевна', 39, 3]}\n",
      "Введите фамилию: Босс\n",
      "Новый возраст: 40\n",
      "Фамилия найдена и возраст изменен: {1: ['Пупкин Иван Семенович', 31, 111], 2: ['Лектор Канибал Иванович', 45, 44], 3: ['Босс Зинаида Дмитриевна', 40, 3]}\n"
     ]
    }
   ],
   "source": [
    "def change_age_by_surname(dict_data, surname, age) :\n",
    "    # возвращает True если найдена запись с фамилией\n",
    "    for k, v in dict_data.items() :\n",
    "        if (v[0].split(' ')[0] == surname) :\n",
    "            dict_data[k][1] = age\n",
    "            return True\n",
    "\n",
    "    return False\n",
    "\n",
    "print(\"Данные перед изменением: {0}\".format(converted_data))\n",
    "surname = input(\"Введите фамилию: \")\n",
    "age = int(input(\"Новый возраст: \"))\n",
    "res  = change_age_by_surname(converted_data, surname, age)\n",
    "if res :\n",
    "    print(\"Фамилия найдена и возраст изменен: {0}\".format(converted_data))\n",
    "else :\n",
    "    print(\"Фамилия '{0}' не найдена\".format(surname))"
   ]
  },
  {
   "cell_type": "code",
   "execution_count": null,
   "metadata": {},
   "outputs": [],
   "source": []
  }
 ],
 "metadata": {
  "file_extension": ".py",
  "kernelspec": {
   "display_name": "Python 3",
   "language": "python",
   "name": "python3"
  },
  "language_info": {
   "codemirror_mode": {
    "name": "ipython",
    "version": 3
   },
   "file_extension": ".py",
   "mimetype": "text/x-python",
   "name": "python",
   "nbconvert_exporter": "python",
   "pygments_lexer": "ipython3",
   "version": "3.7.3"
  },
  "mimetype": "text/x-python",
  "name": "python",
  "npconvert_exporter": "python",
  "pygments_lexer": "ipython3",
  "version": 3
 },
 "nbformat": 4,
 "nbformat_minor": 2
}
