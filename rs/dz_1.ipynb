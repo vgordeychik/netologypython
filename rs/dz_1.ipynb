{
 "cells": [
  {
   "cell_type": "markdown",
   "metadata": {},
   "source": [
    "### Постройте топ фильмов в категориях Action и Comedy"
   ]
  },
  {
   "cell_type": "code",
   "execution_count": 1,
   "metadata": {},
   "outputs": [],
   "source": [
    "import pandas as pd\n",
    "import numpy as np\n",
    "import matplotlib.pyplot as plt\n",
    "\n",
    "from tqdm import tqdm_notebook"
   ]
  },
  {
   "cell_type": "code",
   "execution_count": 2,
   "metadata": {},
   "outputs": [],
   "source": [
    "links = pd.read_csv('../data/links.csv')\n",
    "movies = pd.read_csv('../data/movies.csv')\n",
    "ratings = pd.read_csv('../data/ratings.csv')\n",
    "tags = pd.read_csv('../data/tags.csv')"
   ]
  },
  {
   "cell_type": "code",
   "execution_count": 3,
   "metadata": {},
   "outputs": [
    {
     "data": {
      "text/html": [
       "<div>\n",
       "<style scoped>\n",
       "    .dataframe tbody tr th:only-of-type {\n",
       "        vertical-align: middle;\n",
       "    }\n",
       "\n",
       "    .dataframe tbody tr th {\n",
       "        vertical-align: top;\n",
       "    }\n",
       "\n",
       "    .dataframe thead th {\n",
       "        text-align: right;\n",
       "    }\n",
       "</style>\n",
       "<table border=\"1\" class=\"dataframe\">\n",
       "  <thead>\n",
       "    <tr style=\"text-align: right;\">\n",
       "      <th></th>\n",
       "      <th>movieId</th>\n",
       "      <th>imdbId</th>\n",
       "      <th>tmdbId</th>\n",
       "    </tr>\n",
       "  </thead>\n",
       "  <tbody>\n",
       "    <tr>\n",
       "      <td>0</td>\n",
       "      <td>1</td>\n",
       "      <td>114709</td>\n",
       "      <td>862.0</td>\n",
       "    </tr>\n",
       "    <tr>\n",
       "      <td>1</td>\n",
       "      <td>2</td>\n",
       "      <td>113497</td>\n",
       "      <td>8844.0</td>\n",
       "    </tr>\n",
       "    <tr>\n",
       "      <td>2</td>\n",
       "      <td>3</td>\n",
       "      <td>113228</td>\n",
       "      <td>15602.0</td>\n",
       "    </tr>\n",
       "    <tr>\n",
       "      <td>3</td>\n",
       "      <td>4</td>\n",
       "      <td>114885</td>\n",
       "      <td>31357.0</td>\n",
       "    </tr>\n",
       "    <tr>\n",
       "      <td>4</td>\n",
       "      <td>5</td>\n",
       "      <td>113041</td>\n",
       "      <td>11862.0</td>\n",
       "    </tr>\n",
       "  </tbody>\n",
       "</table>\n",
       "</div>"
      ],
      "text/plain": [
       "   movieId  imdbId   tmdbId\n",
       "0        1  114709    862.0\n",
       "1        2  113497   8844.0\n",
       "2        3  113228  15602.0\n",
       "3        4  114885  31357.0\n",
       "4        5  113041  11862.0"
      ]
     },
     "execution_count": 3,
     "metadata": {},
     "output_type": "execute_result"
    }
   ],
   "source": [
    "links.head()"
   ]
  },
  {
   "cell_type": "code",
   "execution_count": 4,
   "metadata": {},
   "outputs": [
    {
     "data": {
      "text/html": [
       "<div>\n",
       "<style scoped>\n",
       "    .dataframe tbody tr th:only-of-type {\n",
       "        vertical-align: middle;\n",
       "    }\n",
       "\n",
       "    .dataframe tbody tr th {\n",
       "        vertical-align: top;\n",
       "    }\n",
       "\n",
       "    .dataframe thead th {\n",
       "        text-align: right;\n",
       "    }\n",
       "</style>\n",
       "<table border=\"1\" class=\"dataframe\">\n",
       "  <thead>\n",
       "    <tr style=\"text-align: right;\">\n",
       "      <th></th>\n",
       "      <th>movieId</th>\n",
       "      <th>title</th>\n",
       "      <th>genres</th>\n",
       "    </tr>\n",
       "  </thead>\n",
       "  <tbody>\n",
       "    <tr>\n",
       "      <td>0</td>\n",
       "      <td>1</td>\n",
       "      <td>Toy Story (1995)</td>\n",
       "      <td>Adventure|Animation|Children|Comedy|Fantasy</td>\n",
       "    </tr>\n",
       "    <tr>\n",
       "      <td>1</td>\n",
       "      <td>2</td>\n",
       "      <td>Jumanji (1995)</td>\n",
       "      <td>Adventure|Children|Fantasy</td>\n",
       "    </tr>\n",
       "    <tr>\n",
       "      <td>2</td>\n",
       "      <td>3</td>\n",
       "      <td>Grumpier Old Men (1995)</td>\n",
       "      <td>Comedy|Romance</td>\n",
       "    </tr>\n",
       "    <tr>\n",
       "      <td>3</td>\n",
       "      <td>4</td>\n",
       "      <td>Waiting to Exhale (1995)</td>\n",
       "      <td>Comedy|Drama|Romance</td>\n",
       "    </tr>\n",
       "    <tr>\n",
       "      <td>4</td>\n",
       "      <td>5</td>\n",
       "      <td>Father of the Bride Part II (1995)</td>\n",
       "      <td>Comedy</td>\n",
       "    </tr>\n",
       "  </tbody>\n",
       "</table>\n",
       "</div>"
      ],
      "text/plain": [
       "   movieId                               title  \\\n",
       "0        1                    Toy Story (1995)   \n",
       "1        2                      Jumanji (1995)   \n",
       "2        3             Grumpier Old Men (1995)   \n",
       "3        4            Waiting to Exhale (1995)   \n",
       "4        5  Father of the Bride Part II (1995)   \n",
       "\n",
       "                                        genres  \n",
       "0  Adventure|Animation|Children|Comedy|Fantasy  \n",
       "1                   Adventure|Children|Fantasy  \n",
       "2                               Comedy|Romance  \n",
       "3                         Comedy|Drama|Romance  \n",
       "4                                       Comedy  "
      ]
     },
     "execution_count": 4,
     "metadata": {},
     "output_type": "execute_result"
    }
   ],
   "source": [
    "movies.head()"
   ]
  },
  {
   "cell_type": "code",
   "execution_count": 5,
   "metadata": {},
   "outputs": [
    {
     "data": {
      "text/html": [
       "<div>\n",
       "<style scoped>\n",
       "    .dataframe tbody tr th:only-of-type {\n",
       "        vertical-align: middle;\n",
       "    }\n",
       "\n",
       "    .dataframe tbody tr th {\n",
       "        vertical-align: top;\n",
       "    }\n",
       "\n",
       "    .dataframe thead th {\n",
       "        text-align: right;\n",
       "    }\n",
       "</style>\n",
       "<table border=\"1\" class=\"dataframe\">\n",
       "  <thead>\n",
       "    <tr style=\"text-align: right;\">\n",
       "      <th></th>\n",
       "      <th>userId</th>\n",
       "      <th>movieId</th>\n",
       "      <th>rating</th>\n",
       "      <th>timestamp</th>\n",
       "    </tr>\n",
       "  </thead>\n",
       "  <tbody>\n",
       "    <tr>\n",
       "      <td>0</td>\n",
       "      <td>1</td>\n",
       "      <td>1</td>\n",
       "      <td>4.0</td>\n",
       "      <td>964982703</td>\n",
       "    </tr>\n",
       "    <tr>\n",
       "      <td>1</td>\n",
       "      <td>1</td>\n",
       "      <td>3</td>\n",
       "      <td>4.0</td>\n",
       "      <td>964981247</td>\n",
       "    </tr>\n",
       "    <tr>\n",
       "      <td>2</td>\n",
       "      <td>1</td>\n",
       "      <td>6</td>\n",
       "      <td>4.0</td>\n",
       "      <td>964982224</td>\n",
       "    </tr>\n",
       "    <tr>\n",
       "      <td>3</td>\n",
       "      <td>1</td>\n",
       "      <td>47</td>\n",
       "      <td>5.0</td>\n",
       "      <td>964983815</td>\n",
       "    </tr>\n",
       "    <tr>\n",
       "      <td>4</td>\n",
       "      <td>1</td>\n",
       "      <td>50</td>\n",
       "      <td>5.0</td>\n",
       "      <td>964982931</td>\n",
       "    </tr>\n",
       "  </tbody>\n",
       "</table>\n",
       "</div>"
      ],
      "text/plain": [
       "   userId  movieId  rating  timestamp\n",
       "0       1        1     4.0  964982703\n",
       "1       1        3     4.0  964981247\n",
       "2       1        6     4.0  964982224\n",
       "3       1       47     5.0  964983815\n",
       "4       1       50     5.0  964982931"
      ]
     },
     "execution_count": 5,
     "metadata": {},
     "output_type": "execute_result"
    }
   ],
   "source": [
    "ratings.head()"
   ]
  },
  {
   "cell_type": "code",
   "execution_count": 6,
   "metadata": {},
   "outputs": [
    {
     "data": {
      "text/html": [
       "<div>\n",
       "<style scoped>\n",
       "    .dataframe tbody tr th:only-of-type {\n",
       "        vertical-align: middle;\n",
       "    }\n",
       "\n",
       "    .dataframe tbody tr th {\n",
       "        vertical-align: top;\n",
       "    }\n",
       "\n",
       "    .dataframe thead th {\n",
       "        text-align: right;\n",
       "    }\n",
       "</style>\n",
       "<table border=\"1\" class=\"dataframe\">\n",
       "  <thead>\n",
       "    <tr style=\"text-align: right;\">\n",
       "      <th></th>\n",
       "      <th>userId</th>\n",
       "      <th>movieId</th>\n",
       "      <th>tag</th>\n",
       "      <th>timestamp</th>\n",
       "    </tr>\n",
       "  </thead>\n",
       "  <tbody>\n",
       "    <tr>\n",
       "      <td>0</td>\n",
       "      <td>2</td>\n",
       "      <td>60756</td>\n",
       "      <td>funny</td>\n",
       "      <td>1445714994</td>\n",
       "    </tr>\n",
       "    <tr>\n",
       "      <td>1</td>\n",
       "      <td>2</td>\n",
       "      <td>60756</td>\n",
       "      <td>Highly quotable</td>\n",
       "      <td>1445714996</td>\n",
       "    </tr>\n",
       "    <tr>\n",
       "      <td>2</td>\n",
       "      <td>2</td>\n",
       "      <td>60756</td>\n",
       "      <td>will ferrell</td>\n",
       "      <td>1445714992</td>\n",
       "    </tr>\n",
       "    <tr>\n",
       "      <td>3</td>\n",
       "      <td>2</td>\n",
       "      <td>89774</td>\n",
       "      <td>Boxing story</td>\n",
       "      <td>1445715207</td>\n",
       "    </tr>\n",
       "    <tr>\n",
       "      <td>4</td>\n",
       "      <td>2</td>\n",
       "      <td>89774</td>\n",
       "      <td>MMA</td>\n",
       "      <td>1445715200</td>\n",
       "    </tr>\n",
       "  </tbody>\n",
       "</table>\n",
       "</div>"
      ],
      "text/plain": [
       "   userId  movieId              tag   timestamp\n",
       "0       2    60756            funny  1445714994\n",
       "1       2    60756  Highly quotable  1445714996\n",
       "2       2    60756     will ferrell  1445714992\n",
       "3       2    89774     Boxing story  1445715207\n",
       "4       2    89774              MMA  1445715200"
      ]
     },
     "execution_count": 6,
     "metadata": {},
     "output_type": "execute_result"
    }
   ],
   "source": [
    "tags.head()"
   ]
  },
  {
   "cell_type": "code",
   "execution_count": 7,
   "metadata": {},
   "outputs": [],
   "source": [
    "# соединим таблицу с рейтингами и названиями фильмов\n",
    "joined_ratings = ratings.join(movies.set_index('movieId'), on='movieId')"
   ]
  },
  {
   "cell_type": "code",
   "execution_count": 8,
   "metadata": {},
   "outputs": [
    {
     "data": {
      "application/vnd.jupyter.widget-view+json": {
       "model_id": "4d8464e496ee40b0bd2301653a5b97be",
       "version_major": 2,
       "version_minor": 0
      },
      "text/plain": [
       "HBox(children=(IntProgress(value=0, max=9719), HTML(value='')))"
      ]
     },
     "metadata": {},
     "output_type": "display_data"
    },
    {
     "name": "stdout",
     "output_type": "stream",
     "text": [
      "\n"
     ]
    }
   ],
   "source": [
    "# достанем по каждому фильму количество рейтингов\n",
    "title_num_ratings = {}\n",
    "\n",
    "for title, group in tqdm_notebook(joined_ratings.groupby('title')):\n",
    "    title_num_ratings[title] = group.userId.unique().shape[0]"
   ]
  },
  {
   "cell_type": "code",
   "execution_count": 9,
   "metadata": {},
   "outputs": [
    {
     "data": {
      "application/vnd.jupyter.widget-view+json": {
       "model_id": "43e1560bb05444a3ba66ae7bcb2cffbd",
       "version_major": 2,
       "version_minor": 0
      },
      "text/plain": [
       "HBox(children=(IntProgress(value=0, max=9719), HTML(value='')))"
      ]
     },
     "metadata": {},
     "output_type": "display_data"
    },
    {
     "name": "stdout",
     "output_type": "stream",
     "text": [
      "\n"
     ]
    }
   ],
   "source": [
    "# считаем средний рейтинг на каждый фильм\n",
    "title_mean_rating = {}\n",
    "\n",
    "for title, group in tqdm_notebook(joined_ratings.groupby('title')):\n",
    "    title_mean_rating[title] = group.rating.mean()"
   ]
  },
  {
   "cell_type": "code",
   "execution_count": 10,
   "metadata": {},
   "outputs": [],
   "source": [
    "# соединим уже созданную таблицу с таблицей с проставленными тегами по фильмам\n",
    "joined_with_tags = joined_ratings.join(tags.set_index('movieId'), on='movieId', lsuffix='_left', rsuffix='_right')"
   ]
  },
  {
   "cell_type": "code",
   "execution_count": 11,
   "metadata": {},
   "outputs": [
    {
     "data": {
      "text/html": [
       "<div>\n",
       "<style scoped>\n",
       "    .dataframe tbody tr th:only-of-type {\n",
       "        vertical-align: middle;\n",
       "    }\n",
       "\n",
       "    .dataframe tbody tr th {\n",
       "        vertical-align: top;\n",
       "    }\n",
       "\n",
       "    .dataframe thead th {\n",
       "        text-align: right;\n",
       "    }\n",
       "</style>\n",
       "<table border=\"1\" class=\"dataframe\">\n",
       "  <thead>\n",
       "    <tr style=\"text-align: right;\">\n",
       "      <th></th>\n",
       "      <th>userId_left</th>\n",
       "      <th>movieId</th>\n",
       "      <th>rating</th>\n",
       "      <th>timestamp_left</th>\n",
       "      <th>title</th>\n",
       "      <th>genres</th>\n",
       "      <th>userId_right</th>\n",
       "      <th>tag</th>\n",
       "      <th>timestamp_right</th>\n",
       "    </tr>\n",
       "  </thead>\n",
       "  <tbody>\n",
       "    <tr>\n",
       "      <td>0</td>\n",
       "      <td>1</td>\n",
       "      <td>1</td>\n",
       "      <td>4.0</td>\n",
       "      <td>964982703</td>\n",
       "      <td>Toy Story (1995)</td>\n",
       "      <td>Adventure|Animation|Children|Comedy|Fantasy</td>\n",
       "      <td>336.0</td>\n",
       "      <td>pixar</td>\n",
       "      <td>1.139046e+09</td>\n",
       "    </tr>\n",
       "    <tr>\n",
       "      <td>0</td>\n",
       "      <td>1</td>\n",
       "      <td>1</td>\n",
       "      <td>4.0</td>\n",
       "      <td>964982703</td>\n",
       "      <td>Toy Story (1995)</td>\n",
       "      <td>Adventure|Animation|Children|Comedy|Fantasy</td>\n",
       "      <td>474.0</td>\n",
       "      <td>pixar</td>\n",
       "      <td>1.137207e+09</td>\n",
       "    </tr>\n",
       "    <tr>\n",
       "      <td>0</td>\n",
       "      <td>1</td>\n",
       "      <td>1</td>\n",
       "      <td>4.0</td>\n",
       "      <td>964982703</td>\n",
       "      <td>Toy Story (1995)</td>\n",
       "      <td>Adventure|Animation|Children|Comedy|Fantasy</td>\n",
       "      <td>567.0</td>\n",
       "      <td>fun</td>\n",
       "      <td>1.525286e+09</td>\n",
       "    </tr>\n",
       "    <tr>\n",
       "      <td>1</td>\n",
       "      <td>1</td>\n",
       "      <td>3</td>\n",
       "      <td>4.0</td>\n",
       "      <td>964981247</td>\n",
       "      <td>Grumpier Old Men (1995)</td>\n",
       "      <td>Comedy|Romance</td>\n",
       "      <td>289.0</td>\n",
       "      <td>moldy</td>\n",
       "      <td>1.143425e+09</td>\n",
       "    </tr>\n",
       "    <tr>\n",
       "      <td>1</td>\n",
       "      <td>1</td>\n",
       "      <td>3</td>\n",
       "      <td>4.0</td>\n",
       "      <td>964981247</td>\n",
       "      <td>Grumpier Old Men (1995)</td>\n",
       "      <td>Comedy|Romance</td>\n",
       "      <td>289.0</td>\n",
       "      <td>old</td>\n",
       "      <td>1.143425e+09</td>\n",
       "    </tr>\n",
       "  </tbody>\n",
       "</table>\n",
       "</div>"
      ],
      "text/plain": [
       "   userId_left  movieId  rating  timestamp_left                    title  \\\n",
       "0            1        1     4.0       964982703         Toy Story (1995)   \n",
       "0            1        1     4.0       964982703         Toy Story (1995)   \n",
       "0            1        1     4.0       964982703         Toy Story (1995)   \n",
       "1            1        3     4.0       964981247  Grumpier Old Men (1995)   \n",
       "1            1        3     4.0       964981247  Grumpier Old Men (1995)   \n",
       "\n",
       "                                        genres  userId_right    tag  \\\n",
       "0  Adventure|Animation|Children|Comedy|Fantasy         336.0  pixar   \n",
       "0  Adventure|Animation|Children|Comedy|Fantasy         474.0  pixar   \n",
       "0  Adventure|Animation|Children|Comedy|Fantasy         567.0    fun   \n",
       "1                               Comedy|Romance         289.0  moldy   \n",
       "1                               Comedy|Romance         289.0    old   \n",
       "\n",
       "   timestamp_right  \n",
       "0     1.139046e+09  \n",
       "0     1.137207e+09  \n",
       "0     1.525286e+09  \n",
       "1     1.143425e+09  \n",
       "1     1.143425e+09  "
      ]
     },
     "execution_count": 11,
     "metadata": {},
     "output_type": "execute_result"
    }
   ],
   "source": [
    "joined_with_tags.head()"
   ]
  },
  {
   "cell_type": "code",
   "execution_count": 12,
   "metadata": {},
   "outputs": [
    {
     "data": {
      "application/vnd.jupyter.widget-view+json": {
       "model_id": "396f2d8b55674b858897a69af8675a70",
       "version_major": 2,
       "version_minor": 0
      },
      "text/plain": [
       "HBox(children=(IntProgress(value=0, max=9719), HTML(value='')))"
      ]
     },
     "metadata": {},
     "output_type": "display_data"
    },
    {
     "name": "stdout",
     "output_type": "stream",
     "text": [
      "\n"
     ]
    }
   ],
   "source": [
    "# достанем по каждому фильму количество рейтингов\n",
    "title_num_tags = {}\n",
    "\n",
    "for title, group in tqdm_notebook(joined_with_tags.groupby('title')):\n",
    "    title_num_tags[title] = group.userId_right.unique().shape[0]"
   ]
  },
  {
   "cell_type": "code",
   "execution_count": 13,
   "metadata": {},
   "outputs": [],
   "source": [
    "title_num_tags_gen = [title_num_tags[f] for f in title_num_tags.keys()]\n",
    "min_num_tags = np.min(title_num_tags_gen)\n",
    "max_num_tags = np.max(title_num_tags_gen)\n",
    "mean_num_tags = np.mean(title_num_tags_gen)\n",
    "median_num_tags = np.median(title_num_tags_gen)"
   ]
  },
  {
   "cell_type": "code",
   "execution_count": 14,
   "metadata": {},
   "outputs": [
    {
     "name": "stdout",
     "output_type": "stream",
     "text": [
      "Min: 1\n",
      "Max: 10\n",
      "Mean: 1.0210927050108036\n",
      "Median: 1.0\n"
     ]
    }
   ],
   "source": [
    "print(\"Min:\", min_num_tags)\n",
    "print(\"Max:\", max_num_tags)\n",
    "print(\"Mean:\", mean_num_tags)\n",
    "print(\"Median:\", median_num_tags)"
   ]
  },
  {
   "cell_type": "code",
   "execution_count": 15,
   "metadata": {},
   "outputs": [],
   "source": [
    "film_with_new_mark = []\n",
    "\n",
    "for f in title_num_ratings.keys():\n",
    "    # посчитаем нашу новую метрику для каждого фильма из датасета\n",
    "    film_with_new_mark.append(\n",
    "        (f, title_mean_rating[f] * (title_num_tags[f] - min_num_tags) / (max_num_tags - min_num_tags))\n",
    "    )"
   ]
  },
  {
   "cell_type": "code",
   "execution_count": 16,
   "metadata": {},
   "outputs": [
    {
     "data": {
      "text/plain": [
       "[(\"'71 (2014)\", 0.0),\n",
       " (\"'Hellboy': The Seeds of Creation (2004)\", 0.0),\n",
       " (\"'Round Midnight (1986)\", 0.0),\n",
       " (\"'Salem's Lot (2004)\", 0.0),\n",
       " (\"'Til There Was You (1997)\", 0.0),\n",
       " (\"'Tis the Season for Love (2015)\", 0.0),\n",
       " (\"'burbs, The (1989)\", 0.0),\n",
       " (\"'night Mother (1986)\", 0.0),\n",
       " ('(500) Days of Summer (2009)', 0.0),\n",
       " ('*batteries not included (1987)', 0.0),\n",
       " ('...All the Marbles (1981)', 0.0),\n",
       " ('...And Justice for All (1979)', 0.0),\n",
       " ('00 Schneider - Jagd auf Nihil Baxter (1994)', 0.0),\n",
       " ('1-900 (06) (1994)', 0.0),\n",
       " ('10 (1979)', 0.0),\n",
       " ('10 Cent Pistol (2015)', 0.0),\n",
       " ('10 Cloverfield Lane (2016)', 0.0),\n",
       " ('10 Items or Less (2006)', 0.0),\n",
       " ('10 Things I Hate About You (1999)', 0.0),\n",
       " ('10 Years (2011)', 0.0)]"
      ]
     },
     "execution_count": 16,
     "metadata": {},
     "output_type": "execute_result"
    }
   ],
   "source": [
    "film_with_new_mark[:20]"
   ]
  },
  {
   "cell_type": "code",
   "execution_count": 17,
   "metadata": {},
   "outputs": [],
   "source": [
    "# создадим подмножество фильмов с жанром Action\n",
    "action_films_list = list(movies[movies[\"genres\"].str.contains(\"Action\")].title)"
   ]
  },
  {
   "cell_type": "code",
   "execution_count": 18,
   "metadata": {},
   "outputs": [
    {
     "data": {
      "text/plain": [
       "['Heat (1995)',\n",
       " 'Sudden Death (1995)',\n",
       " 'GoldenEye (1995)',\n",
       " 'Cutthroat Island (1995)',\n",
       " 'Money Train (1995)',\n",
       " 'Assassins (1995)',\n",
       " 'Dead Presidents (1995)',\n",
       " 'Mortal Kombat (1995)',\n",
       " 'Lawnmower Man 2: Beyond Cyberspace (1996)',\n",
       " 'From Dusk Till Dawn (1996)']"
      ]
     },
     "execution_count": 18,
     "metadata": {},
     "output_type": "execute_result"
    }
   ],
   "source": [
    "action_films_list[:10]"
   ]
  },
  {
   "cell_type": "code",
   "execution_count": 19,
   "metadata": {},
   "outputs": [],
   "source": [
    "# создадим подмножество фильмов с жанром Comedy\n",
    "comedy_films_list = list(movies[movies[\"genres\"].str.contains(\"Comedy\")].title)"
   ]
  },
  {
   "cell_type": "code",
   "execution_count": 20,
   "metadata": {},
   "outputs": [
    {
     "data": {
      "text/plain": [
       "['Toy Story (1995)',\n",
       " 'Grumpier Old Men (1995)',\n",
       " 'Waiting to Exhale (1995)',\n",
       " 'Father of the Bride Part II (1995)',\n",
       " 'Sabrina (1995)',\n",
       " 'American President, The (1995)',\n",
       " 'Dracula: Dead and Loving It (1995)',\n",
       " 'Four Rooms (1995)',\n",
       " 'Ace Ventura: When Nature Calls (1995)',\n",
       " 'Money Train (1995)']"
      ]
     },
     "execution_count": 20,
     "metadata": {},
     "output_type": "execute_result"
    }
   ],
   "source": [
    "comedy_films_list[:10]"
   ]
  },
  {
   "cell_type": "code",
   "execution_count": 21,
   "metadata": {},
   "outputs": [
    {
     "data": {
      "text/plain": [
       "[('Star Wars: Episode IV - A New Hope (1977)', 4.231075697211155),\n",
       " ('Fight Club (1999)', 1.4243119266055047),\n",
       " ('Blade Runner (1982)', 1.3669354838709675),\n",
       " ('Inception (2010)', 1.3554778554778555),\n",
       " ('Matrix, The (1999)', 0.9316546762589929),\n",
       " ('City of God (Cidade de Deus) (2002)', 0.9214814814814815),\n",
       " ('Léon: The Professional (a.k.a. The Professional) (Léon) (1994)',\n",
       "  0.8930659983291562),\n",
       " ('Terminator 2: Judgment Day (1991)', 0.8824404761904762),\n",
       " ('Dark Knight, The (2008)', 0.47091722595078295),\n",
       " ('Star Wars: Episode V - The Empire Strikes Back (1980)',\n",
       "  0.46840442338072674),\n",
       " ('Raiders of the Lost Ark (Indiana Jones and the Raiders of the Lost Ark) (1981)',\n",
       "  0.46749999999999997),\n",
       " ('North by Northwest (1959)', 0.4649122807017544),\n",
       " ('John Wick: Chapter Two (2017)', 0.46031746031746035),\n",
       " ('Lord of the Rings: The Return of the King, The (2003)',\n",
       "  0.45765765765765765),\n",
       " ('Braveheart (1995)', 0.4479606188466948),\n",
       " ('Avengers: Infinity War - Part I (2018)', 0.4444444444444444),\n",
       " ('28 Days Later (2002)', 0.44157088122605365),\n",
       " ('Aliens (1986)', 0.44047619047619047),\n",
       " ('Princess Mononoke (Mononoke-hime) (1997)', 0.4398148148148148),\n",
       " ('Django Unchained (2012)', 0.4381846635367762)]"
      ]
     },
     "execution_count": 21,
     "metadata": {},
     "output_type": "execute_result"
    }
   ],
   "source": [
    "# Рейтинг фильмов (top 20) с жанром Action\n",
    "list(sorted(filter(lambda x: x[0] in action_films_list, film_with_new_mark), key=lambda x: x[1], reverse=True))[:20]"
   ]
  },
  {
   "cell_type": "code",
   "execution_count": 22,
   "metadata": {},
   "outputs": [
    {
     "data": {
      "text/plain": [
       "[('Dr. Strangelove or: How I Learned to Stop Worrying and Love the Bomb (1964)',\n",
       "  1.8969072164948453),\n",
       " ('Pulp Fiction (1994)', 1.3990228013029318),\n",
       " ('Anchorman: The Legend of Ron Burgundy (2004)', 1.2573099415204678),\n",
       " ('Forrest Gump (1994)', 0.9253630530226276),\n",
       " ('Toy Story (1995)', 0.8713178294573644),\n",
       " ('Step Brothers (2008)', 0.7896825396825397),\n",
       " ('Corpse Bride (2005)', 0.7853535353535354),\n",
       " ('Happy Gilmore (1996)', 0.7643097643097643),\n",
       " ('Monty Python and the Holy Grail (1975)', 0.4624183006535948),\n",
       " ('Life Is Beautiful (La Vita è bella) (1997)', 0.46085858585858586),\n",
       " ('Fargo (1996)', 0.4573357888275015),\n",
       " ('Kiss Kiss Bang Bang (2005)', 0.45238095238095233),\n",
       " ('Trainspotting (1996)', 0.44880174291938996),\n",
       " ('Lost in Translation (2003)', 0.4481981981981982),\n",
       " ('Three Colors: White (Trzy kolory: Bialy) (1994)', 0.44722222222222224),\n",
       " ('This Is Spinal Tap (1984)', 0.44612794612794615),\n",
       " ('Finding Nemo (2003)', 0.4401103230890465),\n",
       " ('Big Lebowski, The (1998)', 0.4360587002096436),\n",
       " ('Wolf of Wall Street, The (2013)', 0.4351851851851852),\n",
       " ('Emma (1996)', 0.4336917562724014)]"
      ]
     },
     "execution_count": 22,
     "metadata": {},
     "output_type": "execute_result"
    }
   ],
   "source": [
    "# Рейтинг фильмов (top 20) с жанром Comedy\n",
    "list(sorted(filter(lambda x: x[0] in comedy_films_list, film_with_new_mark), key=lambda x: x[1], reverse=True))[:20]"
   ]
  },
  {
   "cell_type": "code",
   "execution_count": null,
   "metadata": {},
   "outputs": [],
   "source": []
  }
 ],
 "metadata": {
  "kernelspec": {
   "display_name": "Python 3",
   "language": "python",
   "name": "python3"
  },
  "language_info": {
   "codemirror_mode": {
    "name": "ipython",
    "version": 3
   },
   "file_extension": ".py",
   "mimetype": "text/x-python",
   "name": "python",
   "nbconvert_exporter": "python",
   "pygments_lexer": "ipython3",
   "version": "3.7.4"
  }
 },
 "nbformat": 4,
 "nbformat_minor": 2
}
