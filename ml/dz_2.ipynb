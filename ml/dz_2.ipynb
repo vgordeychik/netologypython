{
 "cells": [
  {
   "cell_type": "markdown",
   "metadata": {},
   "source": [
    "Имеются данные adult.csv (см. в материалах к занятию)\n",
    "\n",
    "Целевой переменной является уровень дохода income (крайний правый столбец).\n",
    "\n",
    "Описание признаков можно найти по ссылке http://www.cs.toronto.edu/~delve/data/adult/adultDetail.html\n",
    "\n",
    "Вам необходимо построить модель логистической регрессии, которая предсказывает уровень дохода человека. При возможности попробуйте улучшить точность предсказаний (метод score) с помощью перебора признаков."
   ]
  },
  {
   "cell_type": "code",
   "execution_count": 1,
   "metadata": {},
   "outputs": [],
   "source": [
    "import numpy as np\n",
    "import pandas as pd\n",
    "from sklearn.preprocessing import LabelEncoder\n",
    "from sklearn.linear_model import LogisticRegression\n",
    "from sklearn.model_selection import train_test_split\n",
    "from sklearn.metrics import classification_report\n",
    "from mlxtend.feature_selection import SequentialFeatureSelector\n",
    "from sklearn.model_selection import GridSearchCV\n",
    "from sklearn.model_selection import StratifiedKFold"
   ]
  },
  {
   "cell_type": "code",
   "execution_count": 2,
   "metadata": {},
   "outputs": [],
   "source": [
    "data = pd.read_csv('adult.csv')"
   ]
  },
  {
   "cell_type": "code",
   "execution_count": 3,
   "metadata": {},
   "outputs": [
    {
     "name": "stdout",
     "output_type": "stream",
     "text": [
      "<class 'pandas.core.frame.DataFrame'>\n",
      "RangeIndex: 48842 entries, 0 to 48841\n",
      "Data columns (total 15 columns):\n",
      "age                48842 non-null int64\n",
      "workclass          48842 non-null object\n",
      "fnlwgt             48842 non-null int64\n",
      "education          48842 non-null object\n",
      "educational-num    48842 non-null int64\n",
      "marital-status     48842 non-null object\n",
      "occupation         48842 non-null object\n",
      "relationship       48842 non-null object\n",
      "race               48842 non-null object\n",
      "gender             48842 non-null object\n",
      "capital-gain       48842 non-null int64\n",
      "capital-loss       48842 non-null int64\n",
      "hours-per-week     48842 non-null int64\n",
      "native-country     48842 non-null object\n",
      "income             48842 non-null object\n",
      "dtypes: int64(6), object(9)\n",
      "memory usage: 5.6+ MB\n"
     ]
    }
   ],
   "source": [
    "data.info()"
   ]
  },
  {
   "cell_type": "markdown",
   "metadata": {},
   "source": [
    "пустых полей нет"
   ]
  },
  {
   "cell_type": "code",
   "execution_count": 4,
   "metadata": {},
   "outputs": [
    {
     "data": {
      "text/html": [
       "<div>\n",
       "<style scoped>\n",
       "    .dataframe tbody tr th:only-of-type {\n",
       "        vertical-align: middle;\n",
       "    }\n",
       "\n",
       "    .dataframe tbody tr th {\n",
       "        vertical-align: top;\n",
       "    }\n",
       "\n",
       "    .dataframe thead th {\n",
       "        text-align: right;\n",
       "    }\n",
       "</style>\n",
       "<table border=\"1\" class=\"dataframe\">\n",
       "  <thead>\n",
       "    <tr style=\"text-align: right;\">\n",
       "      <th></th>\n",
       "      <th>age</th>\n",
       "      <th>workclass</th>\n",
       "      <th>fnlwgt</th>\n",
       "      <th>education</th>\n",
       "      <th>educational-num</th>\n",
       "      <th>marital-status</th>\n",
       "      <th>occupation</th>\n",
       "      <th>relationship</th>\n",
       "      <th>race</th>\n",
       "      <th>gender</th>\n",
       "      <th>capital-gain</th>\n",
       "      <th>capital-loss</th>\n",
       "      <th>hours-per-week</th>\n",
       "      <th>native-country</th>\n",
       "      <th>income</th>\n",
       "    </tr>\n",
       "  </thead>\n",
       "  <tbody>\n",
       "    <tr>\n",
       "      <th>0</th>\n",
       "      <td>25</td>\n",
       "      <td>Private</td>\n",
       "      <td>226802</td>\n",
       "      <td>11th</td>\n",
       "      <td>7</td>\n",
       "      <td>Never-married</td>\n",
       "      <td>Machine-op-inspct</td>\n",
       "      <td>Own-child</td>\n",
       "      <td>Black</td>\n",
       "      <td>Male</td>\n",
       "      <td>0</td>\n",
       "      <td>0</td>\n",
       "      <td>40</td>\n",
       "      <td>United-States</td>\n",
       "      <td>&lt;=50K</td>\n",
       "    </tr>\n",
       "    <tr>\n",
       "      <th>1</th>\n",
       "      <td>38</td>\n",
       "      <td>Private</td>\n",
       "      <td>89814</td>\n",
       "      <td>HS-grad</td>\n",
       "      <td>9</td>\n",
       "      <td>Married-civ-spouse</td>\n",
       "      <td>Farming-fishing</td>\n",
       "      <td>Husband</td>\n",
       "      <td>White</td>\n",
       "      <td>Male</td>\n",
       "      <td>0</td>\n",
       "      <td>0</td>\n",
       "      <td>50</td>\n",
       "      <td>United-States</td>\n",
       "      <td>&lt;=50K</td>\n",
       "    </tr>\n",
       "    <tr>\n",
       "      <th>2</th>\n",
       "      <td>28</td>\n",
       "      <td>Local-gov</td>\n",
       "      <td>336951</td>\n",
       "      <td>Assoc-acdm</td>\n",
       "      <td>12</td>\n",
       "      <td>Married-civ-spouse</td>\n",
       "      <td>Protective-serv</td>\n",
       "      <td>Husband</td>\n",
       "      <td>White</td>\n",
       "      <td>Male</td>\n",
       "      <td>0</td>\n",
       "      <td>0</td>\n",
       "      <td>40</td>\n",
       "      <td>United-States</td>\n",
       "      <td>&gt;50K</td>\n",
       "    </tr>\n",
       "    <tr>\n",
       "      <th>3</th>\n",
       "      <td>44</td>\n",
       "      <td>Private</td>\n",
       "      <td>160323</td>\n",
       "      <td>Some-college</td>\n",
       "      <td>10</td>\n",
       "      <td>Married-civ-spouse</td>\n",
       "      <td>Machine-op-inspct</td>\n",
       "      <td>Husband</td>\n",
       "      <td>Black</td>\n",
       "      <td>Male</td>\n",
       "      <td>7688</td>\n",
       "      <td>0</td>\n",
       "      <td>40</td>\n",
       "      <td>United-States</td>\n",
       "      <td>&gt;50K</td>\n",
       "    </tr>\n",
       "    <tr>\n",
       "      <th>4</th>\n",
       "      <td>18</td>\n",
       "      <td>?</td>\n",
       "      <td>103497</td>\n",
       "      <td>Some-college</td>\n",
       "      <td>10</td>\n",
       "      <td>Never-married</td>\n",
       "      <td>?</td>\n",
       "      <td>Own-child</td>\n",
       "      <td>White</td>\n",
       "      <td>Female</td>\n",
       "      <td>0</td>\n",
       "      <td>0</td>\n",
       "      <td>30</td>\n",
       "      <td>United-States</td>\n",
       "      <td>&lt;=50K</td>\n",
       "    </tr>\n",
       "  </tbody>\n",
       "</table>\n",
       "</div>"
      ],
      "text/plain": [
       "   age  workclass  fnlwgt     education  educational-num      marital-status  \\\n",
       "0   25    Private  226802          11th                7       Never-married   \n",
       "1   38    Private   89814       HS-grad                9  Married-civ-spouse   \n",
       "2   28  Local-gov  336951    Assoc-acdm               12  Married-civ-spouse   \n",
       "3   44    Private  160323  Some-college               10  Married-civ-spouse   \n",
       "4   18          ?  103497  Some-college               10       Never-married   \n",
       "\n",
       "          occupation relationship   race  gender  capital-gain  capital-loss  \\\n",
       "0  Machine-op-inspct    Own-child  Black    Male             0             0   \n",
       "1    Farming-fishing      Husband  White    Male             0             0   \n",
       "2    Protective-serv      Husband  White    Male             0             0   \n",
       "3  Machine-op-inspct      Husband  Black    Male          7688             0   \n",
       "4                  ?    Own-child  White  Female             0             0   \n",
       "\n",
       "   hours-per-week native-country income  \n",
       "0              40  United-States  <=50K  \n",
       "1              50  United-States  <=50K  \n",
       "2              40  United-States   >50K  \n",
       "3              40  United-States   >50K  \n",
       "4              30  United-States  <=50K  "
      ]
     },
     "execution_count": 4,
     "metadata": {},
     "output_type": "execute_result"
    }
   ],
   "source": [
    "data.head()"
   ]
  },
  {
   "cell_type": "markdown",
   "metadata": {},
   "source": [
    "Преобразуем целевую фичу"
   ]
  },
  {
   "cell_type": "code",
   "execution_count": 5,
   "metadata": {},
   "outputs": [
    {
     "data": {
      "text/plain": [
       "array(['<=50K', '>50K'], dtype=object)"
      ]
     },
     "execution_count": 5,
     "metadata": {},
     "output_type": "execute_result"
    }
   ],
   "source": [
    "target_encoder = LabelEncoder()\n",
    "target_encoder.fit(data.income)\n",
    "target_encoder.classes_"
   ]
  },
  {
   "cell_type": "code",
   "execution_count": 6,
   "metadata": {},
   "outputs": [],
   "source": [
    "data['income'] = target_encoder.transform(data.income)"
   ]
  },
  {
   "cell_type": "code",
   "execution_count": 7,
   "metadata": {},
   "outputs": [],
   "source": [
    "num_features_0 = ['age', 'fnlwgt', 'educational-num', 'capital-gain', 'capital-loss', 'hours-per-week']"
   ]
  },
  {
   "cell_type": "markdown",
   "metadata": {},
   "source": [
    "Посмотрим какие признаки можно преобразовать с помощью one hot encoding"
   ]
  },
  {
   "cell_type": "code",
   "execution_count": 8,
   "metadata": {},
   "outputs": [],
   "source": [
    "ohe_features_candidats = ['workclass', 'education', 'marital-status', 'occupation', 'relationship',\n",
    "                         'race', 'gender', 'capital-loss', 'native-country']"
   ]
  },
  {
   "cell_type": "code",
   "execution_count": 9,
   "metadata": {},
   "outputs": [
    {
     "data": {
      "text/html": [
       "<div>\n",
       "<style scoped>\n",
       "    .dataframe tbody tr th:only-of-type {\n",
       "        vertical-align: middle;\n",
       "    }\n",
       "\n",
       "    .dataframe tbody tr th {\n",
       "        vertical-align: top;\n",
       "    }\n",
       "\n",
       "    .dataframe thead th {\n",
       "        text-align: right;\n",
       "    }\n",
       "</style>\n",
       "<table border=\"1\" class=\"dataframe\">\n",
       "  <thead>\n",
       "    <tr style=\"text-align: right;\">\n",
       "      <th></th>\n",
       "      <th>Unique values</th>\n",
       "    </tr>\n",
       "  </thead>\n",
       "  <tbody>\n",
       "    <tr>\n",
       "      <th>workclass</th>\n",
       "      <td>9</td>\n",
       "    </tr>\n",
       "    <tr>\n",
       "      <th>education</th>\n",
       "      <td>16</td>\n",
       "    </tr>\n",
       "    <tr>\n",
       "      <th>marital-status</th>\n",
       "      <td>7</td>\n",
       "    </tr>\n",
       "    <tr>\n",
       "      <th>occupation</th>\n",
       "      <td>15</td>\n",
       "    </tr>\n",
       "    <tr>\n",
       "      <th>relationship</th>\n",
       "      <td>6</td>\n",
       "    </tr>\n",
       "    <tr>\n",
       "      <th>race</th>\n",
       "      <td>5</td>\n",
       "    </tr>\n",
       "    <tr>\n",
       "      <th>gender</th>\n",
       "      <td>2</td>\n",
       "    </tr>\n",
       "    <tr>\n",
       "      <th>capital-loss</th>\n",
       "      <td>99</td>\n",
       "    </tr>\n",
       "    <tr>\n",
       "      <th>native-country</th>\n",
       "      <td>42</td>\n",
       "    </tr>\n",
       "  </tbody>\n",
       "</table>\n",
       "</div>"
      ],
      "text/plain": [
       "                Unique values\n",
       "workclass                   9\n",
       "education                  16\n",
       "marital-status              7\n",
       "occupation                 15\n",
       "relationship                6\n",
       "race                        5\n",
       "gender                      2\n",
       "capital-loss               99\n",
       "native-country             42"
      ]
     },
     "execution_count": 9,
     "metadata": {},
     "output_type": "execute_result"
    }
   ],
   "source": [
    "pd.DataFrame(data={'Unique values' : [len(data[column_name].unique()) for column_name in ohe_features_candidats]},\n",
    "             index=ohe_features_candidats)"
   ]
  },
  {
   "cell_type": "markdown",
   "metadata": {},
   "source": [
    "gender преобразуем в булево значение, остальные фичи кроме capital-loss и native-country преобразуем через One hot encoding в \n",
    "новые столбцы"
   ]
  },
  {
   "cell_type": "code",
   "execution_count": 10,
   "metadata": {},
   "outputs": [],
   "source": [
    "ohe_features = ['workclass', 'education', 'marital-status', 'occupation', 'relationship', 'race']"
   ]
  },
  {
   "cell_type": "code",
   "execution_count": 11,
   "metadata": {},
   "outputs": [],
   "source": [
    "d2 = data.copy()\n",
    "gender_encoder = LabelEncoder()\n",
    "d2.gender = gender_encoder.fit_transform(d2.gender)\n",
    "d2 = d2[num_features_0].join(pd.get_dummies(d2[ohe_features])).join(d2.income)"
   ]
  },
  {
   "cell_type": "markdown",
   "metadata": {},
   "source": [
    "Бьём на train и test и обучаем модель"
   ]
  },
  {
   "cell_type": "code",
   "execution_count": 12,
   "metadata": {},
   "outputs": [
    {
     "data": {
      "text/plain": [
       "Index(['age', 'fnlwgt', 'educational-num', 'capital-gain', 'capital-loss',\n",
       "       'hours-per-week', 'workclass_?', 'workclass_Federal-gov',\n",
       "       'workclass_Local-gov', 'workclass_Never-worked', 'workclass_Private',\n",
       "       'workclass_Self-emp-inc', 'workclass_Self-emp-not-inc',\n",
       "       'workclass_State-gov', 'workclass_Without-pay', 'education_10th',\n",
       "       'education_11th', 'education_12th', 'education_1st-4th',\n",
       "       'education_5th-6th', 'education_7th-8th', 'education_9th',\n",
       "       'education_Assoc-acdm', 'education_Assoc-voc', 'education_Bachelors',\n",
       "       'education_Doctorate', 'education_HS-grad', 'education_Masters',\n",
       "       'education_Preschool', 'education_Prof-school',\n",
       "       'education_Some-college', 'marital-status_Divorced',\n",
       "       'marital-status_Married-AF-spouse', 'marital-status_Married-civ-spouse',\n",
       "       'marital-status_Married-spouse-absent', 'marital-status_Never-married',\n",
       "       'marital-status_Separated', 'marital-status_Widowed', 'occupation_?',\n",
       "       'occupation_Adm-clerical', 'occupation_Armed-Forces',\n",
       "       'occupation_Craft-repair', 'occupation_Exec-managerial',\n",
       "       'occupation_Farming-fishing', 'occupation_Handlers-cleaners',\n",
       "       'occupation_Machine-op-inspct', 'occupation_Other-service',\n",
       "       'occupation_Priv-house-serv', 'occupation_Prof-specialty',\n",
       "       'occupation_Protective-serv', 'occupation_Sales',\n",
       "       'occupation_Tech-support', 'occupation_Transport-moving',\n",
       "       'relationship_Husband', 'relationship_Not-in-family',\n",
       "       'relationship_Other-relative', 'relationship_Own-child',\n",
       "       'relationship_Unmarried', 'relationship_Wife',\n",
       "       'race_Amer-Indian-Eskimo', 'race_Asian-Pac-Islander', 'race_Black',\n",
       "       'race_Other', 'race_White', 'income'],\n",
       "      dtype='object')"
      ]
     },
     "execution_count": 12,
     "metadata": {},
     "output_type": "execute_result"
    }
   ],
   "source": [
    "d2.columns"
   ]
  },
  {
   "cell_type": "code",
   "execution_count": 13,
   "metadata": {},
   "outputs": [],
   "source": [
    "X_train, X_test, y_train, y_test = train_test_split(\n",
    "    d2.loc[:, ~d2.columns.isin(['income'])],\n",
    "    d2['income'],\n",
    "    test_size=0.2,\n",
    "    random_state=42)"
   ]
  },
  {
   "cell_type": "markdown",
   "metadata": {},
   "source": [
    "Первый вариант регресии"
   ]
  },
  {
   "cell_type": "code",
   "execution_count": 14,
   "metadata": {},
   "outputs": [
    {
     "name": "stdout",
     "output_type": "stream",
     "text": [
      "Wall time: 226 ms\n"
     ]
    }
   ],
   "source": [
    "%%time\n",
    "model0 = LogisticRegression(solver='liblinear')\n",
    "model0.fit(X_train, y_train)\n",
    "y_predict = model0.predict(X_test)"
   ]
  },
  {
   "cell_type": "markdown",
   "metadata": {},
   "source": [
    "Считаем оценку модели"
   ]
  },
  {
   "cell_type": "code",
   "execution_count": 15,
   "metadata": {},
   "outputs": [
    {
     "data": {
      "text/html": [
       "<div>\n",
       "<style scoped>\n",
       "    .dataframe tbody tr th:only-of-type {\n",
       "        vertical-align: middle;\n",
       "    }\n",
       "\n",
       "    .dataframe tbody tr th {\n",
       "        vertical-align: top;\n",
       "    }\n",
       "\n",
       "    .dataframe thead th {\n",
       "        text-align: right;\n",
       "    }\n",
       "</style>\n",
       "<table border=\"1\" class=\"dataframe\">\n",
       "  <thead>\n",
       "    <tr style=\"text-align: right;\">\n",
       "      <th></th>\n",
       "      <th>f1-score</th>\n",
       "      <th>precision</th>\n",
       "      <th>recall</th>\n",
       "      <th>support</th>\n",
       "    </tr>\n",
       "  </thead>\n",
       "  <tbody>\n",
       "    <tr>\n",
       "      <th>0</th>\n",
       "      <td>0.883042</td>\n",
       "      <td>0.812423</td>\n",
       "      <td>0.967108</td>\n",
       "      <td>7479.000000</td>\n",
       "    </tr>\n",
       "    <tr>\n",
       "      <th>1</th>\n",
       "      <td>0.392902</td>\n",
       "      <td>0.715935</td>\n",
       "      <td>0.270742</td>\n",
       "      <td>2290.000000</td>\n",
       "    </tr>\n",
       "    <tr>\n",
       "      <th>accuracy</th>\n",
       "      <td>0.803869</td>\n",
       "      <td>0.803869</td>\n",
       "      <td>0.803869</td>\n",
       "      <td>0.803869</td>\n",
       "    </tr>\n",
       "    <tr>\n",
       "      <th>macro avg</th>\n",
       "      <td>0.637972</td>\n",
       "      <td>0.764179</td>\n",
       "      <td>0.618925</td>\n",
       "      <td>9769.000000</td>\n",
       "    </tr>\n",
       "    <tr>\n",
       "      <th>weighted avg</th>\n",
       "      <td>0.768146</td>\n",
       "      <td>0.789805</td>\n",
       "      <td>0.803869</td>\n",
       "      <td>9769.000000</td>\n",
       "    </tr>\n",
       "  </tbody>\n",
       "</table>\n",
       "</div>"
      ],
      "text/plain": [
       "              f1-score  precision    recall      support\n",
       "0             0.883042   0.812423  0.967108  7479.000000\n",
       "1             0.392902   0.715935  0.270742  2290.000000\n",
       "accuracy      0.803869   0.803869  0.803869     0.803869\n",
       "macro avg     0.637972   0.764179  0.618925  9769.000000\n",
       "weighted avg  0.768146   0.789805  0.803869  9769.000000"
      ]
     },
     "execution_count": 15,
     "metadata": {},
     "output_type": "execute_result"
    }
   ],
   "source": [
    "r0 = pd.DataFrame(classification_report(y_test, y_predict, output_dict=True)).T\n",
    "r0"
   ]
  },
  {
   "cell_type": "markdown",
   "metadata": {},
   "source": [
    "Попробуем улучшить модель с помощью подбора гиперпараметра 'с' логистической регрессии"
   ]
  },
  {
   "cell_type": "code",
   "execution_count": 16,
   "metadata": {},
   "outputs": [
    {
     "data": {
      "text/plain": [
       "array([1.00000000e-03, 3.59381366e-03, 1.29154967e-02, 4.64158883e-02,\n",
       "       1.66810054e-01, 5.99484250e-01, 2.15443469e+00, 7.74263683e+00,\n",
       "       2.78255940e+01, 1.00000000e+02])"
      ]
     },
     "execution_count": 16,
     "metadata": {},
     "output_type": "execute_result"
    }
   ],
   "source": [
    "cvals = 10 ** np.linspace(-3,2,10)\n",
    "cvals"
   ]
  },
  {
   "cell_type": "code",
   "execution_count": 17,
   "metadata": {},
   "outputs": [
    {
     "name": "stdout",
     "output_type": "stream",
     "text": [
      "Wall time: 13.6 s\n"
     ]
    },
    {
     "data": {
      "text/plain": [
       "GridSearchCV(cv=5, error_score='raise-deprecating',\n",
       "             estimator=LogisticRegression(C=1.0, class_weight=None, dual=False,\n",
       "                                          fit_intercept=True,\n",
       "                                          intercept_scaling=1, l1_ratio=None,\n",
       "                                          max_iter=100, multi_class='warn',\n",
       "                                          n_jobs=None, penalty='l2',\n",
       "                                          random_state=None, solver='liblinear',\n",
       "                                          tol=0.0001, verbose=0,\n",
       "                                          warm_start=False),\n",
       "             iid='warn', n_jobs=None,\n",
       "             param_grid={'C': array([1.00000000e-03, 3.59381366e-03, 1.29154967e-02, 4.64158883e-02,\n",
       "       1.66810054e-01, 5.99484250e-01, 2.15443469e+00, 7.74263683e+00,\n",
       "       2.78255940e+01, 1.00000000e+02])},\n",
       "             pre_dispatch='2*n_jobs', refit=True, return_train_score=False,\n",
       "             scoring='accuracy', verbose=0)"
      ]
     },
     "execution_count": 17,
     "metadata": {},
     "output_type": "execute_result"
    }
   ],
   "source": [
    "%%time\n",
    "\n",
    "model1 = GridSearchCV(LogisticRegression(solver='liblinear'), {'C': cvals}, scoring='accuracy', cv=5)\n",
    "model1.fit(X_train, y_train)"
   ]
  },
  {
   "cell_type": "code",
   "execution_count": 18,
   "metadata": {},
   "outputs": [
    {
     "data": {
      "text/html": [
       "<div>\n",
       "<style scoped>\n",
       "    .dataframe tbody tr th:only-of-type {\n",
       "        vertical-align: middle;\n",
       "    }\n",
       "\n",
       "    .dataframe tbody tr th {\n",
       "        vertical-align: top;\n",
       "    }\n",
       "\n",
       "    .dataframe thead th {\n",
       "        text-align: right;\n",
       "    }\n",
       "</style>\n",
       "<table border=\"1\" class=\"dataframe\">\n",
       "  <thead>\n",
       "    <tr style=\"text-align: right;\">\n",
       "      <th></th>\n",
       "      <th>mean_test_score</th>\n",
       "      <th>std_test_score</th>\n",
       "      <th>params</th>\n",
       "    </tr>\n",
       "  </thead>\n",
       "  <tbody>\n",
       "    <tr>\n",
       "      <th>9</th>\n",
       "      <td>0.796739</td>\n",
       "      <td>0.002958</td>\n",
       "      <td>{'C': 100.0}</td>\n",
       "    </tr>\n",
       "    <tr>\n",
       "      <th>0</th>\n",
       "      <td>0.796688</td>\n",
       "      <td>0.002864</td>\n",
       "      <td>{'C': 0.001}</td>\n",
       "    </tr>\n",
       "    <tr>\n",
       "      <th>1</th>\n",
       "      <td>0.796688</td>\n",
       "      <td>0.002864</td>\n",
       "      <td>{'C': 0.003593813663804626}</td>\n",
       "    </tr>\n",
       "    <tr>\n",
       "      <th>2</th>\n",
       "      <td>0.796688</td>\n",
       "      <td>0.002864</td>\n",
       "      <td>{'C': 0.01291549665014884}</td>\n",
       "    </tr>\n",
       "    <tr>\n",
       "      <th>3</th>\n",
       "      <td>0.796688</td>\n",
       "      <td>0.002864</td>\n",
       "      <td>{'C': 0.046415888336127795}</td>\n",
       "    </tr>\n",
       "  </tbody>\n",
       "</table>\n",
       "</div>"
      ],
      "text/plain": [
       "   mean_test_score  std_test_score                       params\n",
       "9         0.796739        0.002958                 {'C': 100.0}\n",
       "0         0.796688        0.002864                 {'C': 0.001}\n",
       "1         0.796688        0.002864  {'C': 0.003593813663804626}\n",
       "2         0.796688        0.002864   {'C': 0.01291549665014884}\n",
       "3         0.796688        0.002864  {'C': 0.046415888336127795}"
      ]
     },
     "execution_count": 18,
     "metadata": {},
     "output_type": "execute_result"
    }
   ],
   "source": [
    "pd.DataFrame(model1.cv_results_)[['mean_test_score','std_test_score','params']].sort_values(\n",
    "    by='mean_test_score', ascending=False).head()"
   ]
  },
  {
   "cell_type": "code",
   "execution_count": 19,
   "metadata": {},
   "outputs": [],
   "source": [
    "best_C = model1.best_params_['C']"
   ]
  },
  {
   "cell_type": "code",
   "execution_count": 20,
   "metadata": {},
   "outputs": [],
   "source": [
    "y_predict = model1.predict(X_test)"
   ]
  },
  {
   "cell_type": "markdown",
   "metadata": {},
   "source": [
    "Считаем оценку"
   ]
  },
  {
   "cell_type": "code",
   "execution_count": 21,
   "metadata": {},
   "outputs": [
    {
     "data": {
      "text/html": [
       "<div>\n",
       "<style scoped>\n",
       "    .dataframe tbody tr th:only-of-type {\n",
       "        vertical-align: middle;\n",
       "    }\n",
       "\n",
       "    .dataframe tbody tr th {\n",
       "        vertical-align: top;\n",
       "    }\n",
       "\n",
       "    .dataframe thead th {\n",
       "        text-align: right;\n",
       "    }\n",
       "</style>\n",
       "<table border=\"1\" class=\"dataframe\">\n",
       "  <thead>\n",
       "    <tr style=\"text-align: right;\">\n",
       "      <th></th>\n",
       "      <th>f1-score</th>\n",
       "      <th>precision</th>\n",
       "      <th>recall</th>\n",
       "      <th>support</th>\n",
       "    </tr>\n",
       "  </thead>\n",
       "  <tbody>\n",
       "    <tr>\n",
       "      <th>0</th>\n",
       "      <td>0.883042</td>\n",
       "      <td>0.812423</td>\n",
       "      <td>0.967108</td>\n",
       "      <td>7479.000000</td>\n",
       "    </tr>\n",
       "    <tr>\n",
       "      <th>1</th>\n",
       "      <td>0.392902</td>\n",
       "      <td>0.715935</td>\n",
       "      <td>0.270742</td>\n",
       "      <td>2290.000000</td>\n",
       "    </tr>\n",
       "    <tr>\n",
       "      <th>accuracy</th>\n",
       "      <td>0.803869</td>\n",
       "      <td>0.803869</td>\n",
       "      <td>0.803869</td>\n",
       "      <td>0.803869</td>\n",
       "    </tr>\n",
       "    <tr>\n",
       "      <th>macro avg</th>\n",
       "      <td>0.637972</td>\n",
       "      <td>0.764179</td>\n",
       "      <td>0.618925</td>\n",
       "      <td>9769.000000</td>\n",
       "    </tr>\n",
       "    <tr>\n",
       "      <th>weighted avg</th>\n",
       "      <td>0.768146</td>\n",
       "      <td>0.789805</td>\n",
       "      <td>0.803869</td>\n",
       "      <td>9769.000000</td>\n",
       "    </tr>\n",
       "  </tbody>\n",
       "</table>\n",
       "</div>"
      ],
      "text/plain": [
       "              f1-score  precision    recall      support\n",
       "0             0.883042   0.812423  0.967108  7479.000000\n",
       "1             0.392902   0.715935  0.270742  2290.000000\n",
       "accuracy      0.803869   0.803869  0.803869     0.803869\n",
       "macro avg     0.637972   0.764179  0.618925  9769.000000\n",
       "weighted avg  0.768146   0.789805  0.803869  9769.000000"
      ]
     },
     "execution_count": 21,
     "metadata": {},
     "output_type": "execute_result"
    }
   ],
   "source": [
    "r1 = pd.DataFrame((classification_report(y_test, y_predict, output_dict=True))).T\n",
    "r1"
   ]
  },
  {
   "cell_type": "markdown",
   "metadata": {},
   "source": [
    "Попробуем ещё улучшить модель путем отбора признаков"
   ]
  },
  {
   "cell_type": "code",
   "execution_count": 22,
   "metadata": {},
   "outputs": [
    {
     "name": "stderr",
     "output_type": "stream",
     "text": [
      "[Parallel(n_jobs=-1)]: Using backend LokyBackend with 4 concurrent workers.\n",
      "[Parallel(n_jobs=-1)]: Done  42 tasks      | elapsed:    5.2s\n",
      "[Parallel(n_jobs=-1)]: Done  64 out of  64 | elapsed:    6.2s finished\n",
      "Features: 1/64[Parallel(n_jobs=-1)]: Using backend LokyBackend with 4 concurrent workers.\n",
      "[Parallel(n_jobs=-1)]: Done  42 tasks      | elapsed:    2.7s\n",
      "[Parallel(n_jobs=-1)]: Done  63 out of  63 | elapsed:    4.2s finished\n",
      "Features: 2/64[Parallel(n_jobs=-1)]: Using backend LokyBackend with 4 concurrent workers.\n",
      "[Parallel(n_jobs=-1)]: Done  42 tasks      | elapsed:    6.1s\n",
      "[Parallel(n_jobs=-1)]: Done  62 out of  62 | elapsed:    8.7s finished\n",
      "Features: 3/64[Parallel(n_jobs=-1)]: Using backend LokyBackend with 4 concurrent workers.\n",
      "[Parallel(n_jobs=-1)]: Done  42 tasks      | elapsed:   11.6s\n",
      "[Parallel(n_jobs=-1)]: Done  61 out of  61 | elapsed:   17.2s finished\n",
      "Features: 4/64[Parallel(n_jobs=-1)]: Using backend LokyBackend with 4 concurrent workers.\n",
      "[Parallel(n_jobs=-1)]: Done  42 tasks      | elapsed:   19.8s\n",
      "[Parallel(n_jobs=-1)]: Done  60 out of  60 | elapsed:   27.6s finished\n",
      "Features: 5/64[Parallel(n_jobs=-1)]: Using backend LokyBackend with 4 concurrent workers.\n",
      "[Parallel(n_jobs=-1)]: Done  42 tasks      | elapsed:   23.4s\n",
      "[Parallel(n_jobs=-1)]: Done  59 out of  59 | elapsed:   32.4s finished\n",
      "Features: 6/64[Parallel(n_jobs=-1)]: Using backend LokyBackend with 4 concurrent workers.\n",
      "[Parallel(n_jobs=-1)]: Done  42 tasks      | elapsed:   22.5s\n",
      "[Parallel(n_jobs=-1)]: Done  58 out of  58 | elapsed:   33.4s finished\n",
      "Features: 7/64[Parallel(n_jobs=-1)]: Using backend LokyBackend with 4 concurrent workers.\n",
      "[Parallel(n_jobs=-1)]: Done  42 tasks      | elapsed:   27.4s\n",
      "[Parallel(n_jobs=-1)]: Done  57 out of  57 | elapsed:   36.9s finished\n",
      "Features: 8/64[Parallel(n_jobs=-1)]: Using backend LokyBackend with 4 concurrent workers.\n",
      "[Parallel(n_jobs=-1)]: Done  42 tasks      | elapsed:   26.9s\n",
      "[Parallel(n_jobs=-1)]: Done  56 out of  56 | elapsed:   34.2s finished\n",
      "Features: 9/64[Parallel(n_jobs=-1)]: Using backend LokyBackend with 4 concurrent workers.\n",
      "[Parallel(n_jobs=-1)]: Done  42 tasks      | elapsed:   27.4s\n",
      "[Parallel(n_jobs=-1)]: Done  55 out of  55 | elapsed:   35.9s finished\n",
      "Features: 10/64[Parallel(n_jobs=-1)]: Using backend LokyBackend with 4 concurrent workers.\n",
      "[Parallel(n_jobs=-1)]: Done  42 tasks      | elapsed:   25.8s\n",
      "[Parallel(n_jobs=-1)]: Done  54 out of  54 | elapsed:   34.1s finished\n",
      "Features: 11/64[Parallel(n_jobs=-1)]: Using backend LokyBackend with 4 concurrent workers.\n",
      "[Parallel(n_jobs=-1)]: Done  42 tasks      | elapsed:   27.9s\n",
      "[Parallel(n_jobs=-1)]: Done  53 out of  53 | elapsed:   35.2s finished\n",
      "Features: 12/64[Parallel(n_jobs=-1)]: Using backend LokyBackend with 4 concurrent workers.\n",
      "[Parallel(n_jobs=-1)]: Done  42 tasks      | elapsed:   32.9s\n",
      "[Parallel(n_jobs=-1)]: Done  52 out of  52 | elapsed:   37.5s finished\n",
      "Features: 13/64[Parallel(n_jobs=-1)]: Using backend LokyBackend with 4 concurrent workers.\n",
      "[Parallel(n_jobs=-1)]: Done  42 tasks      | elapsed:   20.9s\n",
      "[Parallel(n_jobs=-1)]: Done  51 out of  51 | elapsed:   25.2s finished\n",
      "Features: 14/64[Parallel(n_jobs=-1)]: Using backend LokyBackend with 4 concurrent workers.\n",
      "[Parallel(n_jobs=-1)]: Done  42 tasks      | elapsed:   26.7s\n",
      "[Parallel(n_jobs=-1)]: Done  50 out of  50 | elapsed:   32.1s finished\n",
      "Features: 15/64[Parallel(n_jobs=-1)]: Using backend LokyBackend with 4 concurrent workers.\n",
      "[Parallel(n_jobs=-1)]: Done  42 tasks      | elapsed:   31.7s\n",
      "[Parallel(n_jobs=-1)]: Done  49 out of  49 | elapsed:   37.3s finished\n",
      "Features: 16/64[Parallel(n_jobs=-1)]: Using backend LokyBackend with 4 concurrent workers.\n",
      "[Parallel(n_jobs=-1)]: Done  48 out of  48 | elapsed:   36.7s finished\n",
      "Features: 17/64[Parallel(n_jobs=-1)]: Using backend LokyBackend with 4 concurrent workers.\n",
      "[Parallel(n_jobs=-1)]: Done  47 out of  47 | elapsed:   37.8s finished\n",
      "Features: 18/64[Parallel(n_jobs=-1)]: Using backend LokyBackend with 4 concurrent workers.\n",
      "[Parallel(n_jobs=-1)]: Done  46 out of  46 | elapsed:   34.4s finished\n",
      "Features: 19/64[Parallel(n_jobs=-1)]: Using backend LokyBackend with 4 concurrent workers.\n",
      "[Parallel(n_jobs=-1)]: Done  45 out of  45 | elapsed:   34.0s finished\n",
      "Features: 20/64[Parallel(n_jobs=-1)]: Using backend LokyBackend with 4 concurrent workers.\n",
      "[Parallel(n_jobs=-1)]: Done  44 out of  44 | elapsed:   30.8s finished\n",
      "Features: 21/64[Parallel(n_jobs=-1)]: Using backend LokyBackend with 4 concurrent workers.\n",
      "[Parallel(n_jobs=-1)]: Done  43 out of  43 | elapsed:   22.2s finished\n",
      "Features: 22/64[Parallel(n_jobs=-1)]: Using backend LokyBackend with 4 concurrent workers.\n",
      "[Parallel(n_jobs=-1)]: Done  42 out of  42 | elapsed:   22.0s finished\n",
      "Features: 23/64[Parallel(n_jobs=-1)]: Using backend LokyBackend with 4 concurrent workers.\n",
      "[Parallel(n_jobs=-1)]: Done  41 out of  41 | elapsed:   21.4s finished\n",
      "Features: 24/64[Parallel(n_jobs=-1)]: Using backend LokyBackend with 4 concurrent workers.\n",
      "[Parallel(n_jobs=-1)]: Done  40 out of  40 | elapsed:   21.3s finished\n",
      "Features: 25/64[Parallel(n_jobs=-1)]: Using backend LokyBackend with 4 concurrent workers.\n",
      "[Parallel(n_jobs=-1)]: Done  39 out of  39 | elapsed:   20.8s finished\n",
      "Features: 26/64[Parallel(n_jobs=-1)]: Using backend LokyBackend with 4 concurrent workers.\n",
      "[Parallel(n_jobs=-1)]: Done  38 out of  38 | elapsed:   19.9s finished\n",
      "Features: 27/64[Parallel(n_jobs=-1)]: Using backend LokyBackend with 4 concurrent workers.\n",
      "[Parallel(n_jobs=-1)]: Done  37 out of  37 | elapsed:   19.6s finished\n",
      "Features: 28/64[Parallel(n_jobs=-1)]: Using backend LokyBackend with 4 concurrent workers.\n",
      "[Parallel(n_jobs=-1)]: Done  36 out of  36 | elapsed:   19.5s finished\n",
      "Features: 29/64[Parallel(n_jobs=-1)]: Using backend LokyBackend with 4 concurrent workers.\n",
      "[Parallel(n_jobs=-1)]: Done  35 out of  35 | elapsed:   18.4s finished\n",
      "Features: 30/64[Parallel(n_jobs=-1)]: Using backend LokyBackend with 4 concurrent workers.\n",
      "[Parallel(n_jobs=-1)]: Done  34 out of  34 | elapsed:   18.7s finished\n",
      "Features: 31/64[Parallel(n_jobs=-1)]: Using backend LokyBackend with 4 concurrent workers.\n",
      "[Parallel(n_jobs=-1)]: Done  33 out of  33 | elapsed:   17.6s finished\n",
      "Features: 32/64[Parallel(n_jobs=-1)]: Using backend LokyBackend with 4 concurrent workers.\n",
      "[Parallel(n_jobs=-1)]: Done  32 out of  32 | elapsed:   17.5s finished\n",
      "Features: 33/64[Parallel(n_jobs=-1)]: Using backend LokyBackend with 4 concurrent workers.\n",
      "[Parallel(n_jobs=-1)]: Done  31 out of  31 | elapsed:   16.8s finished\n",
      "Features: 34/64[Parallel(n_jobs=-1)]: Using backend LokyBackend with 4 concurrent workers.\n",
      "[Parallel(n_jobs=-1)]: Done  30 out of  30 | elapsed:   16.2s finished\n",
      "Features: 35/64[Parallel(n_jobs=-1)]: Using backend LokyBackend with 4 concurrent workers.\n",
      "[Parallel(n_jobs=-1)]: Done  29 out of  29 | elapsed:   15.7s finished\n",
      "Features: 36/64[Parallel(n_jobs=-1)]: Using backend LokyBackend with 4 concurrent workers.\n",
      "[Parallel(n_jobs=-1)]: Done  28 out of  28 | elapsed:   15.7s finished\n",
      "Features: 37/64[Parallel(n_jobs=-1)]: Using backend LokyBackend with 4 concurrent workers.\n",
      "[Parallel(n_jobs=-1)]: Done  27 out of  27 | elapsed:   15.0s finished\n",
      "Features: 38/64[Parallel(n_jobs=-1)]: Using backend LokyBackend with 4 concurrent workers.\n",
      "[Parallel(n_jobs=-1)]: Done  26 out of  26 | elapsed:   14.8s finished\n",
      "Features: 39/64[Parallel(n_jobs=-1)]: Using backend LokyBackend with 4 concurrent workers.\n",
      "[Parallel(n_jobs=-1)]: Done  25 out of  25 | elapsed:   14.3s finished\n",
      "Features: 40/64[Parallel(n_jobs=-1)]: Using backend LokyBackend with 4 concurrent workers.\n",
      "[Parallel(n_jobs=-1)]: Done  24 out of  24 | elapsed:   13.5s finished\n",
      "Features: 41/64[Parallel(n_jobs=-1)]: Using backend LokyBackend with 4 concurrent workers.\n",
      "[Parallel(n_jobs=-1)]: Done  23 out of  23 | elapsed:   12.9s finished\n",
      "Features: 42/64[Parallel(n_jobs=-1)]: Using backend LokyBackend with 4 concurrent workers.\n",
      "[Parallel(n_jobs=-1)]: Done  22 out of  22 | elapsed:   12.8s finished\n",
      "Features: 43/64[Parallel(n_jobs=-1)]: Using backend LokyBackend with 4 concurrent workers.\n",
      "[Parallel(n_jobs=-1)]: Done  21 out of  21 | elapsed:   12.2s finished\n",
      "Features: 44/64[Parallel(n_jobs=-1)]: Using backend LokyBackend with 4 concurrent workers.\n",
      "[Parallel(n_jobs=-1)]: Done  20 out of  20 | elapsed:   11.5s finished\n"
     ]
    },
    {
     "name": "stderr",
     "output_type": "stream",
     "text": [
      "Features: 45/64[Parallel(n_jobs=-1)]: Using backend LokyBackend with 4 concurrent workers.\n",
      "[Parallel(n_jobs=-1)]: Done  19 out of  19 | elapsed:   11.2s finished\n",
      "Features: 46/64[Parallel(n_jobs=-1)]: Using backend LokyBackend with 4 concurrent workers.\n",
      "[Parallel(n_jobs=-1)]: Done  18 out of  18 | elapsed:   10.9s finished\n",
      "Features: 47/64[Parallel(n_jobs=-1)]: Using backend LokyBackend with 4 concurrent workers.\n",
      "[Parallel(n_jobs=-1)]: Done  17 out of  17 | elapsed:   10.1s finished\n",
      "Features: 48/64[Parallel(n_jobs=-1)]: Using backend LokyBackend with 4 concurrent workers.\n",
      "[Parallel(n_jobs=-1)]: Done  16 out of  16 | elapsed:    9.4s finished\n",
      "Features: 49/64[Parallel(n_jobs=-1)]: Using backend LokyBackend with 4 concurrent workers.\n",
      "[Parallel(n_jobs=-1)]: Done  15 out of  15 | elapsed:    9.4s finished\n",
      "Features: 50/64[Parallel(n_jobs=-1)]: Using backend LokyBackend with 4 concurrent workers.\n",
      "[Parallel(n_jobs=-1)]: Done  14 out of  14 | elapsed:    8.8s finished\n",
      "Features: 51/64[Parallel(n_jobs=-1)]: Using backend LokyBackend with 4 concurrent workers.\n",
      "[Parallel(n_jobs=-1)]: Done  13 out of  13 | elapsed:    8.3s finished\n",
      "Features: 52/64[Parallel(n_jobs=-1)]: Using backend LokyBackend with 4 concurrent workers.\n",
      "[Parallel(n_jobs=-1)]: Done  12 out of  12 | elapsed:    7.5s finished\n",
      "Features: 53/64[Parallel(n_jobs=-1)]: Using backend LokyBackend with 4 concurrent workers.\n",
      "[Parallel(n_jobs=-1)]: Done  11 out of  11 | elapsed:    7.6s finished\n",
      "Features: 54/64[Parallel(n_jobs=-1)]: Using backend LokyBackend with 4 concurrent workers.\n",
      "[Parallel(n_jobs=-1)]: Done  10 out of  10 | elapsed:    6.4s finished\n",
      "Features: 55/64[Parallel(n_jobs=-1)]: Using backend LokyBackend with 4 concurrent workers.\n",
      "[Parallel(n_jobs=-1)]: Done   9 out of   9 | elapsed:    7.4s finished\n",
      "Features: 56/64[Parallel(n_jobs=-1)]: Using backend LokyBackend with 4 concurrent workers.\n",
      "[Parallel(n_jobs=-1)]: Done   8 out of   8 | elapsed:    8.1s finished\n",
      "Features: 57/64[Parallel(n_jobs=-1)]: Using backend LokyBackend with 4 concurrent workers.\n",
      "[Parallel(n_jobs=-1)]: Done   7 out of   7 | elapsed:    7.6s finished\n",
      "Features: 58/64[Parallel(n_jobs=-1)]: Using backend LokyBackend with 4 concurrent workers.\n",
      "[Parallel(n_jobs=-1)]: Done   6 out of   6 | elapsed:    6.2s remaining:    0.0s\n",
      "[Parallel(n_jobs=-1)]: Done   6 out of   6 | elapsed:    6.2s finished\n",
      "Features: 59/64[Parallel(n_jobs=-1)]: Using backend LokyBackend with 4 concurrent workers.\n",
      "[Parallel(n_jobs=-1)]: Done   5 out of   5 | elapsed:    5.3s finished\n",
      "Features: 60/64[Parallel(n_jobs=-1)]: Using backend LokyBackend with 4 concurrent workers.\n",
      "[Parallel(n_jobs=-1)]: Done   2 out of   4 | elapsed:    3.1s remaining:    3.1s\n",
      "[Parallel(n_jobs=-1)]: Done   4 out of   4 | elapsed:    3.6s finished\n",
      "Features: 61/64[Parallel(n_jobs=-1)]: Using backend LokyBackend with 4 concurrent workers.\n",
      "[Parallel(n_jobs=-1)]: Done   3 out of   3 | elapsed:    2.7s finished\n",
      "Features: 62/64[Parallel(n_jobs=-1)]: Using backend LokyBackend with 4 concurrent workers.\n",
      "[Parallel(n_jobs=-1)]: Done   2 out of   2 | elapsed:    2.1s finished\n",
      "Features: 63/64[Parallel(n_jobs=-1)]: Using backend LokyBackend with 4 concurrent workers.\n",
      "[Parallel(n_jobs=-1)]: Done   1 out of   1 | elapsed:    1.1s finished\n",
      "Features: 64/64"
     ]
    },
    {
     "name": "stdout",
     "output_type": "stream",
     "text": [
      "Wall time: 19min 27s\n"
     ]
    },
    {
     "data": {
      "text/plain": [
       "LogisticRegression(C=100.0, class_weight=None, dual=False, fit_intercept=True,\n",
       "                   intercept_scaling=1, l1_ratio=None, max_iter=100,\n",
       "                   multi_class='warn', n_jobs=None, penalty='l2',\n",
       "                   random_state=None, solver='liblinear', tol=0.0001, verbose=0,\n",
       "                   warm_start=False)"
      ]
     },
     "execution_count": 22,
     "metadata": {},
     "output_type": "execute_result"
    }
   ],
   "source": [
    "%%time\n",
    "\n",
    "model2 = LogisticRegression(C=best_C, solver='liblinear')\n",
    "skf = StratifiedKFold(n_splits=4)\n",
    "sfs_forward = SequentialFeatureSelector(model2, \n",
    "                  k_features=\"best\", \n",
    "                  forward=True, \n",
    "                  floating=False, \n",
    "                  verbose=1,\n",
    "                  scoring='roc_auc',\n",
    "                  cv=skf,\n",
    "                  n_jobs=-1)\n",
    "    \n",
    "sfs_forward = sfs_forward.fit(X_train.values, y_train.values, custom_feature_names=X_train.columns)\n",
    "\n",
    "X_train_filtered = sfs_forward.transform(X_train)\n",
    "model2.fit(X_train_filtered, y_train)"
   ]
  },
  {
   "cell_type": "code",
   "execution_count": 23,
   "metadata": {},
   "outputs": [
    {
     "data": {
      "text/plain": [
       "['age',\n",
       " 'educational-num',\n",
       " 'capital-gain',\n",
       " 'capital-loss',\n",
       " 'hours-per-week',\n",
       " 'workclass_?',\n",
       " 'workclass_Federal-gov',\n",
       " 'workclass_Local-gov',\n",
       " 'workclass_Never-worked',\n",
       " 'workclass_Private',\n",
       " 'workclass_Self-emp-inc',\n",
       " 'workclass_Self-emp-not-inc',\n",
       " 'workclass_State-gov',\n",
       " 'workclass_Without-pay',\n",
       " 'education_12th',\n",
       " 'education_1st-4th',\n",
       " 'education_5th-6th',\n",
       " 'education_7th-8th',\n",
       " 'education_9th',\n",
       " 'education_Assoc-acdm',\n",
       " 'education_Doctorate',\n",
       " 'education_Preschool',\n",
       " 'education_Prof-school',\n",
       " 'education_Some-college',\n",
       " 'marital-status_Married-AF-spouse',\n",
       " 'marital-status_Married-civ-spouse',\n",
       " 'marital-status_Married-spouse-absent',\n",
       " 'marital-status_Never-married',\n",
       " 'marital-status_Widowed',\n",
       " 'occupation_Armed-Forces',\n",
       " 'occupation_Exec-managerial',\n",
       " 'occupation_Farming-fishing',\n",
       " 'occupation_Handlers-cleaners',\n",
       " 'occupation_Machine-op-inspct',\n",
       " 'occupation_Other-service',\n",
       " 'occupation_Priv-house-serv',\n",
       " 'occupation_Prof-specialty',\n",
       " 'occupation_Protective-serv',\n",
       " 'occupation_Sales',\n",
       " 'occupation_Tech-support',\n",
       " 'occupation_Transport-moving',\n",
       " 'relationship_Husband',\n",
       " 'relationship_Not-in-family',\n",
       " 'relationship_Other-relative',\n",
       " 'relationship_Own-child',\n",
       " 'relationship_Wife',\n",
       " 'race_Amer-Indian-Eskimo',\n",
       " 'race_Asian-Pac-Islander',\n",
       " 'race_White']"
      ]
     },
     "execution_count": 23,
     "metadata": {},
     "output_type": "execute_result"
    }
   ],
   "source": [
    "# список отобранных фичей\n",
    "list(sfs_forward.k_feature_names_)"
   ]
  },
  {
   "cell_type": "code",
   "execution_count": 24,
   "metadata": {},
   "outputs": [],
   "source": [
    "y_predict = model2.predict(X_test[list(sfs_forward.k_feature_names_)])"
   ]
  },
  {
   "cell_type": "markdown",
   "metadata": {},
   "source": [
    "Считаем оценку"
   ]
  },
  {
   "cell_type": "code",
   "execution_count": 25,
   "metadata": {},
   "outputs": [
    {
     "data": {
      "text/html": [
       "<div>\n",
       "<style scoped>\n",
       "    .dataframe tbody tr th:only-of-type {\n",
       "        vertical-align: middle;\n",
       "    }\n",
       "\n",
       "    .dataframe tbody tr th {\n",
       "        vertical-align: top;\n",
       "    }\n",
       "\n",
       "    .dataframe thead th {\n",
       "        text-align: right;\n",
       "    }\n",
       "</style>\n",
       "<table border=\"1\" class=\"dataframe\">\n",
       "  <thead>\n",
       "    <tr style=\"text-align: right;\">\n",
       "      <th></th>\n",
       "      <th>f1-score</th>\n",
       "      <th>precision</th>\n",
       "      <th>recall</th>\n",
       "      <th>support</th>\n",
       "    </tr>\n",
       "  </thead>\n",
       "  <tbody>\n",
       "    <tr>\n",
       "      <th>0</th>\n",
       "      <td>0.907320</td>\n",
       "      <td>0.882167</td>\n",
       "      <td>0.933948</td>\n",
       "      <td>7479.000000</td>\n",
       "    </tr>\n",
       "    <tr>\n",
       "      <th>1</th>\n",
       "      <td>0.655397</td>\n",
       "      <td>0.733117</td>\n",
       "      <td>0.592576</td>\n",
       "      <td>2290.000000</td>\n",
       "    </tr>\n",
       "    <tr>\n",
       "      <th>accuracy</th>\n",
       "      <td>0.853926</td>\n",
       "      <td>0.853926</td>\n",
       "      <td>0.853926</td>\n",
       "      <td>0.853926</td>\n",
       "    </tr>\n",
       "    <tr>\n",
       "      <th>macro avg</th>\n",
       "      <td>0.781358</td>\n",
       "      <td>0.807642</td>\n",
       "      <td>0.763262</td>\n",
       "      <td>9769.000000</td>\n",
       "    </tr>\n",
       "    <tr>\n",
       "      <th>weighted avg</th>\n",
       "      <td>0.848265</td>\n",
       "      <td>0.847228</td>\n",
       "      <td>0.853926</td>\n",
       "      <td>9769.000000</td>\n",
       "    </tr>\n",
       "  </tbody>\n",
       "</table>\n",
       "</div>"
      ],
      "text/plain": [
       "              f1-score  precision    recall      support\n",
       "0             0.907320   0.882167  0.933948  7479.000000\n",
       "1             0.655397   0.733117  0.592576  2290.000000\n",
       "accuracy      0.853926   0.853926  0.853926     0.853926\n",
       "macro avg     0.781358   0.807642  0.763262  9769.000000\n",
       "weighted avg  0.848265   0.847228  0.853926  9769.000000"
      ]
     },
     "execution_count": 25,
     "metadata": {},
     "output_type": "execute_result"
    }
   ],
   "source": [
    "r2 = pd.DataFrame((classification_report(y_test, y_predict, output_dict=True))).T\n",
    "r2"
   ]
  },
  {
   "cell_type": "markdown",
   "metadata": {},
   "source": [
    "#### Сводная таблица"
   ]
  },
  {
   "cell_type": "code",
   "execution_count": 32,
   "metadata": {},
   "outputs": [],
   "source": [
    "regressors = ['default LogisticRegression', 'GridSearch+LogisticRegression', 'SequentialFeatureSelector+LogisticRegression']\n",
    "metrics = list(r0.index)\n",
    "idx = pd.MultiIndex.from_product([regressors, metrics], names=['regressors', 'metrics'])"
   ]
  },
  {
   "cell_type": "code",
   "execution_count": 33,
   "metadata": {},
   "outputs": [
    {
     "data": {
      "text/html": [
       "<div>\n",
       "<style scoped>\n",
       "    .dataframe tbody tr th:only-of-type {\n",
       "        vertical-align: middle;\n",
       "    }\n",
       "\n",
       "    .dataframe tbody tr th {\n",
       "        vertical-align: top;\n",
       "    }\n",
       "\n",
       "    .dataframe thead th {\n",
       "        text-align: right;\n",
       "    }\n",
       "</style>\n",
       "<table border=\"1\" class=\"dataframe\">\n",
       "  <thead>\n",
       "    <tr style=\"text-align: right;\">\n",
       "      <th></th>\n",
       "      <th></th>\n",
       "      <th>f1-score</th>\n",
       "      <th>precision</th>\n",
       "      <th>recall</th>\n",
       "      <th>support</th>\n",
       "    </tr>\n",
       "    <tr>\n",
       "      <th>regressors</th>\n",
       "      <th>metrics</th>\n",
       "      <th></th>\n",
       "      <th></th>\n",
       "      <th></th>\n",
       "      <th></th>\n",
       "    </tr>\n",
       "  </thead>\n",
       "  <tbody>\n",
       "    <tr>\n",
       "      <th rowspan=\"5\" valign=\"top\">default LogisticRegression</th>\n",
       "      <th>0</th>\n",
       "      <td>0.883042</td>\n",
       "      <td>0.812423</td>\n",
       "      <td>0.967108</td>\n",
       "      <td>7479.000000</td>\n",
       "    </tr>\n",
       "    <tr>\n",
       "      <th>1</th>\n",
       "      <td>0.392902</td>\n",
       "      <td>0.715935</td>\n",
       "      <td>0.270742</td>\n",
       "      <td>2290.000000</td>\n",
       "    </tr>\n",
       "    <tr>\n",
       "      <th>accuracy</th>\n",
       "      <td>0.803869</td>\n",
       "      <td>0.803869</td>\n",
       "      <td>0.803869</td>\n",
       "      <td>0.803869</td>\n",
       "    </tr>\n",
       "    <tr>\n",
       "      <th>macro avg</th>\n",
       "      <td>0.637972</td>\n",
       "      <td>0.764179</td>\n",
       "      <td>0.618925</td>\n",
       "      <td>9769.000000</td>\n",
       "    </tr>\n",
       "    <tr>\n",
       "      <th>weighted avg</th>\n",
       "      <td>0.768146</td>\n",
       "      <td>0.789805</td>\n",
       "      <td>0.803869</td>\n",
       "      <td>9769.000000</td>\n",
       "    </tr>\n",
       "    <tr>\n",
       "      <th rowspan=\"5\" valign=\"top\">GridSearch+LogisticRegression</th>\n",
       "      <th>0</th>\n",
       "      <td>0.883042</td>\n",
       "      <td>0.812423</td>\n",
       "      <td>0.967108</td>\n",
       "      <td>7479.000000</td>\n",
       "    </tr>\n",
       "    <tr>\n",
       "      <th>1</th>\n",
       "      <td>0.392902</td>\n",
       "      <td>0.715935</td>\n",
       "      <td>0.270742</td>\n",
       "      <td>2290.000000</td>\n",
       "    </tr>\n",
       "    <tr>\n",
       "      <th>accuracy</th>\n",
       "      <td>0.803869</td>\n",
       "      <td>0.803869</td>\n",
       "      <td>0.803869</td>\n",
       "      <td>0.803869</td>\n",
       "    </tr>\n",
       "    <tr>\n",
       "      <th>macro avg</th>\n",
       "      <td>0.637972</td>\n",
       "      <td>0.764179</td>\n",
       "      <td>0.618925</td>\n",
       "      <td>9769.000000</td>\n",
       "    </tr>\n",
       "    <tr>\n",
       "      <th>weighted avg</th>\n",
       "      <td>0.768146</td>\n",
       "      <td>0.789805</td>\n",
       "      <td>0.803869</td>\n",
       "      <td>9769.000000</td>\n",
       "    </tr>\n",
       "    <tr>\n",
       "      <th rowspan=\"5\" valign=\"top\">SequentialFeatureSelector+LogisticRegression</th>\n",
       "      <th>0</th>\n",
       "      <td>0.907320</td>\n",
       "      <td>0.882167</td>\n",
       "      <td>0.933948</td>\n",
       "      <td>7479.000000</td>\n",
       "    </tr>\n",
       "    <tr>\n",
       "      <th>1</th>\n",
       "      <td>0.655397</td>\n",
       "      <td>0.733117</td>\n",
       "      <td>0.592576</td>\n",
       "      <td>2290.000000</td>\n",
       "    </tr>\n",
       "    <tr>\n",
       "      <th>accuracy</th>\n",
       "      <td>0.853926</td>\n",
       "      <td>0.853926</td>\n",
       "      <td>0.853926</td>\n",
       "      <td>0.853926</td>\n",
       "    </tr>\n",
       "    <tr>\n",
       "      <th>macro avg</th>\n",
       "      <td>0.781358</td>\n",
       "      <td>0.807642</td>\n",
       "      <td>0.763262</td>\n",
       "      <td>9769.000000</td>\n",
       "    </tr>\n",
       "    <tr>\n",
       "      <th>weighted avg</th>\n",
       "      <td>0.848265</td>\n",
       "      <td>0.847228</td>\n",
       "      <td>0.853926</td>\n",
       "      <td>9769.000000</td>\n",
       "    </tr>\n",
       "  </tbody>\n",
       "</table>\n",
       "</div>"
      ],
      "text/plain": [
       "                                                           f1-score  \\\n",
       "regressors                                   metrics                  \n",
       "default LogisticRegression                   0             0.883042   \n",
       "                                             1             0.392902   \n",
       "                                             accuracy      0.803869   \n",
       "                                             macro avg     0.637972   \n",
       "                                             weighted avg  0.768146   \n",
       "GridSearch+LogisticRegression                0             0.883042   \n",
       "                                             1             0.392902   \n",
       "                                             accuracy      0.803869   \n",
       "                                             macro avg     0.637972   \n",
       "                                             weighted avg  0.768146   \n",
       "SequentialFeatureSelector+LogisticRegression 0             0.907320   \n",
       "                                             1             0.655397   \n",
       "                                             accuracy      0.853926   \n",
       "                                             macro avg     0.781358   \n",
       "                                             weighted avg  0.848265   \n",
       "\n",
       "                                                           precision  \\\n",
       "regressors                                   metrics                   \n",
       "default LogisticRegression                   0              0.812423   \n",
       "                                             1              0.715935   \n",
       "                                             accuracy       0.803869   \n",
       "                                             macro avg      0.764179   \n",
       "                                             weighted avg   0.789805   \n",
       "GridSearch+LogisticRegression                0              0.812423   \n",
       "                                             1              0.715935   \n",
       "                                             accuracy       0.803869   \n",
       "                                             macro avg      0.764179   \n",
       "                                             weighted avg   0.789805   \n",
       "SequentialFeatureSelector+LogisticRegression 0              0.882167   \n",
       "                                             1              0.733117   \n",
       "                                             accuracy       0.853926   \n",
       "                                             macro avg      0.807642   \n",
       "                                             weighted avg   0.847228   \n",
       "\n",
       "                                                             recall  \\\n",
       "regressors                                   metrics                  \n",
       "default LogisticRegression                   0             0.967108   \n",
       "                                             1             0.270742   \n",
       "                                             accuracy      0.803869   \n",
       "                                             macro avg     0.618925   \n",
       "                                             weighted avg  0.803869   \n",
       "GridSearch+LogisticRegression                0             0.967108   \n",
       "                                             1             0.270742   \n",
       "                                             accuracy      0.803869   \n",
       "                                             macro avg     0.618925   \n",
       "                                             weighted avg  0.803869   \n",
       "SequentialFeatureSelector+LogisticRegression 0             0.933948   \n",
       "                                             1             0.592576   \n",
       "                                             accuracy      0.853926   \n",
       "                                             macro avg     0.763262   \n",
       "                                             weighted avg  0.853926   \n",
       "\n",
       "                                                               support  \n",
       "regressors                                   metrics                    \n",
       "default LogisticRegression                   0             7479.000000  \n",
       "                                             1             2290.000000  \n",
       "                                             accuracy         0.803869  \n",
       "                                             macro avg     9769.000000  \n",
       "                                             weighted avg  9769.000000  \n",
       "GridSearch+LogisticRegression                0             7479.000000  \n",
       "                                             1             2290.000000  \n",
       "                                             accuracy         0.803869  \n",
       "                                             macro avg     9769.000000  \n",
       "                                             weighted avg  9769.000000  \n",
       "SequentialFeatureSelector+LogisticRegression 0             7479.000000  \n",
       "                                             1             2290.000000  \n",
       "                                             accuracy         0.853926  \n",
       "                                             macro avg     9769.000000  \n",
       "                                             weighted avg  9769.000000  "
      ]
     },
     "execution_count": 33,
     "metadata": {},
     "output_type": "execute_result"
    }
   ],
   "source": [
    "mt = r0.append(r1).append(r2)\n",
    "mt.index = idx\n",
    "mt"
   ]
  },
  {
   "cell_type": "markdown",
   "metadata": {},
   "source": [
    "<b>Итого:</b> первая и вторая модель выдали один и тот же результат, третья дала улучшение"
   ]
  }
 ],
 "metadata": {
  "kernelspec": {
   "display_name": "Python 3",
   "language": "python",
   "name": "python3"
  },
  "language_info": {
   "codemirror_mode": {
    "name": "ipython",
    "version": 3
   },
   "file_extension": ".py",
   "mimetype": "text/x-python",
   "name": "python",
   "nbconvert_exporter": "python",
   "pygments_lexer": "ipython3",
   "version": "3.7.3"
  }
 },
 "nbformat": 4,
 "nbformat_minor": 2
}
