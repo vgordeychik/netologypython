{
 "cells": [
  {
   "cell_type": "markdown",
   "metadata": {},
   "source": [
    "См. материалы к занятию.\n",
    "\n",
    "Для выполнения домашнего задания необходимо взять boston house-prices datase (sklearn.datasets.load_boston) и сделать тоже самое для задачи регрессии (попробовать разные алгоритмы, поподбирать параметры, вывести итоговое качество)."
   ]
  },
  {
   "cell_type": "code",
   "execution_count": 1,
   "metadata": {},
   "outputs": [],
   "source": [
    "from sklearn.datasets import load_boston\n",
    "from sklearn.model_selection import GridSearchCV, RandomizedSearchCV, train_test_split\n",
    "from sklearn.preprocessing import StandardScaler\n",
    "from sklearn.linear_model import ElasticNet, SGDRegressor\n",
    "from sklearn.svm import LinearSVR\n",
    "from sklearn.neighbors import KNeighborsRegressor\n",
    "from sklearn.tree import DecisionTreeRegressor\n",
    "from sklearn.ensemble import AdaBoostRegressor, BaggingRegressor\n",
    "from sklearn.metrics import r2_score, mean_squared_error\n",
    "from datetime import datetime\n",
    "import pandas as pd\n",
    "import random"
   ]
  },
  {
   "cell_type": "code",
   "execution_count": 2,
   "metadata": {},
   "outputs": [],
   "source": [
    "import warnings\n",
    "warnings.filterwarnings(\"ignore\")"
   ]
  },
  {
   "cell_type": "markdown",
   "metadata": {},
   "source": [
    "Загружаем данные и нормализуем"
   ]
  },
  {
   "cell_type": "code",
   "execution_count": 3,
   "metadata": {},
   "outputs": [],
   "source": [
    "data = load_boston()"
   ]
  },
  {
   "cell_type": "code",
   "execution_count": 4,
   "metadata": {},
   "outputs": [
    {
     "data": {
      "text/plain": [
       "((506, 13), (506,))"
      ]
     },
     "execution_count": 4,
     "metadata": {},
     "output_type": "execute_result"
    }
   ],
   "source": [
    "scaler = StandardScaler()\n",
    "X = scaler.fit_transform(data.data)\n",
    "y = data.target\n",
    "X.shape, y.shape"
   ]
  },
  {
   "cell_type": "code",
   "execution_count": 5,
   "metadata": {},
   "outputs": [],
   "source": [
    "random.seed(42)"
   ]
  },
  {
   "cell_type": "code",
   "execution_count": 6,
   "metadata": {},
   "outputs": [],
   "source": [
    "X_train, X_val, y_train, y_val = train_test_split(X, y, test_size = 0.2)"
   ]
  },
  {
   "cell_type": "code",
   "execution_count": 7,
   "metadata": {},
   "outputs": [],
   "source": [
    "models = [\n",
    "    (ElasticNet(), dict(\n",
    "        alpha=[0.2, 0.5, 1.0, 5.0],\n",
    "        l1_ratio=[0., 0.2, 0.5, 0.8, 1.],\n",
    "        max_iter=[100, 500, 1000]\n",
    "    )),\n",
    "    (SGDRegressor(max_iter=10000), dict(\n",
    "        loss=[\"squared_loss\", 'huber', 'epsilon_insensitive', 'squared_epsilon_insensitive'],\n",
    "        penalty=['none', 'l2', 'l1', 'elasticnet'],\n",
    "        alpha=[0.00001, 0.0001, 0.001, 0.01, 0.1],\n",
    "        eta0=[0.01, 0.1]\n",
    "    )),\n",
    "    (LinearSVR(max_iter=10000), dict(\n",
    "        C=[0.5, 1.0, 2.0],\n",
    "        loss=['epsilon_insensitive', 'squared_epsilon_insensitive']\n",
    "    )),\n",
    "    (KNeighborsRegressor(), dict(\n",
    "        n_neighbors=[5,10],\n",
    "        weights=['uniform', 'distance'],\n",
    "        algorithm=['ball_tree', 'kd_tree', 'brute'],\n",
    "        p=[1,2]\n",
    "    )),\n",
    "    (DecisionTreeRegressor(), dict(\n",
    "        criterion=['mse', 'friedman_mse'],\n",
    "        splitter = ['best', 'random'],\n",
    "        max_depth = [None, 100, 500, 1000],\n",
    "        min_samples_split = [2, 4, 8],\n",
    "        min_samples_leaf = [1, 2, 3]\n",
    "    )),\n",
    "    (AdaBoostRegressor(), dict(\n",
    "        n_estimators=[50, 100, 200, 500],\n",
    "        learning_rate=[1.0, 5.0, 10.],\n",
    "        loss=['linear', 'square', 'exponential']\n",
    "    )),\n",
    "    (BaggingRegressor(), dict(\n",
    "        n_estimators=[50, 100, 200, 500],\n",
    "        bootstrap=[False, True]\n",
    "    )),\n",
    "]"
   ]
  },
  {
   "cell_type": "code",
   "execution_count": 8,
   "metadata": {},
   "outputs": [
    {
     "data": {
      "text/plain": [
       "((404, 13), (404,))"
      ]
     },
     "execution_count": 8,
     "metadata": {},
     "output_type": "execute_result"
    }
   ],
   "source": [
    "X_train.shape, y_train.shape"
   ]
  },
  {
   "cell_type": "code",
   "execution_count": 9,
   "metadata": {},
   "outputs": [
    {
     "name": "stdout",
     "output_type": "stream",
     "text": [
      "Wall time: 37.6 s\n"
     ]
    }
   ],
   "source": [
    "%%time\n",
    "\n",
    "results = []\n",
    "for estimator, params in models:\n",
    "    start = datetime.now()\n",
    "    gs = GridSearchCV(estimator, params, cv=5, scoring='r2', n_jobs=-1)\n",
    "    gs.fit(X_train, y_train)\n",
    "    end = datetime.now()\n",
    "    y_pred = gs.predict(X_val)\n",
    "    r2, mse = r2_score(y_val, y_pred), mean_squared_error(y_val, y_pred)\n",
    "    results.append((estimator.__class__.__name__, gs.best_params_, r2, mse, end - start))"
   ]
  },
  {
   "cell_type": "code",
   "execution_count": 10,
   "metadata": {},
   "outputs": [
    {
     "data": {
      "text/html": [
       "<div>\n",
       "<style scoped>\n",
       "    .dataframe tbody tr th:only-of-type {\n",
       "        vertical-align: middle;\n",
       "    }\n",
       "\n",
       "    .dataframe tbody tr th {\n",
       "        vertical-align: top;\n",
       "    }\n",
       "\n",
       "    .dataframe thead th {\n",
       "        text-align: right;\n",
       "    }\n",
       "</style>\n",
       "<table border=\"1\" class=\"dataframe\">\n",
       "  <thead>\n",
       "    <tr style=\"text-align: right;\">\n",
       "      <th></th>\n",
       "      <th>Estimator</th>\n",
       "      <th>Best params</th>\n",
       "      <th>R2</th>\n",
       "      <th>MSE</th>\n",
       "      <th>Time</th>\n",
       "    </tr>\n",
       "  </thead>\n",
       "  <tbody>\n",
       "    <tr>\n",
       "      <td>5</td>\n",
       "      <td>AdaBoostRegressor</td>\n",
       "      <td>{'learning_rate': 1.0, 'loss': 'square', 'n_es...</td>\n",
       "      <td>0.867738</td>\n",
       "      <td>11.473510</td>\n",
       "      <td>00:00:18.852000</td>\n",
       "    </tr>\n",
       "    <tr>\n",
       "      <td>6</td>\n",
       "      <td>BaggingRegressor</td>\n",
       "      <td>{'bootstrap': True, 'n_estimators': 50}</td>\n",
       "      <td>0.859031</td>\n",
       "      <td>12.228897</td>\n",
       "      <td>00:00:11.323000</td>\n",
       "    </tr>\n",
       "    <tr>\n",
       "      <td>3</td>\n",
       "      <td>KNeighborsRegressor</td>\n",
       "      <td>{'algorithm': 'ball_tree', 'n_neighbors': 5, '...</td>\n",
       "      <td>0.796968</td>\n",
       "      <td>17.612770</td>\n",
       "      <td>00:00:00.271000</td>\n",
       "    </tr>\n",
       "    <tr>\n",
       "      <td>4</td>\n",
       "      <td>DecisionTreeRegressor</td>\n",
       "      <td>{'criterion': 'mse', 'max_depth': 100, 'min_sa...</td>\n",
       "      <td>0.761653</td>\n",
       "      <td>20.676255</td>\n",
       "      <td>00:00:00.828000</td>\n",
       "    </tr>\n",
       "    <tr>\n",
       "      <td>1</td>\n",
       "      <td>SGDRegressor</td>\n",
       "      <td>{'alpha': 0.0001, 'eta0': 0.01, 'loss': 'squar...</td>\n",
       "      <td>0.669809</td>\n",
       "      <td>28.643660</td>\n",
       "      <td>00:00:03.363000</td>\n",
       "    </tr>\n",
       "    <tr>\n",
       "      <td>2</td>\n",
       "      <td>LinearSVR</td>\n",
       "      <td>{'C': 0.5, 'loss': 'squared_epsilon_insensitive'}</td>\n",
       "      <td>0.666070</td>\n",
       "      <td>28.967939</td>\n",
       "      <td>00:00:00.301000</td>\n",
       "    </tr>\n",
       "    <tr>\n",
       "      <td>0</td>\n",
       "      <td>ElasticNet</td>\n",
       "      <td>{'alpha': 0.2, 'l1_ratio': 0.2, 'max_iter': 100}</td>\n",
       "      <td>0.656368</td>\n",
       "      <td>29.809602</td>\n",
       "      <td>00:00:02.608000</td>\n",
       "    </tr>\n",
       "  </tbody>\n",
       "</table>\n",
       "</div>"
      ],
      "text/plain": [
       "               Estimator                                        Best params  \\\n",
       "5      AdaBoostRegressor  {'learning_rate': 1.0, 'loss': 'square', 'n_es...   \n",
       "6       BaggingRegressor            {'bootstrap': True, 'n_estimators': 50}   \n",
       "3    KNeighborsRegressor  {'algorithm': 'ball_tree', 'n_neighbors': 5, '...   \n",
       "4  DecisionTreeRegressor  {'criterion': 'mse', 'max_depth': 100, 'min_sa...   \n",
       "1           SGDRegressor  {'alpha': 0.0001, 'eta0': 0.01, 'loss': 'squar...   \n",
       "2              LinearSVR  {'C': 0.5, 'loss': 'squared_epsilon_insensitive'}   \n",
       "0             ElasticNet   {'alpha': 0.2, 'l1_ratio': 0.2, 'max_iter': 100}   \n",
       "\n",
       "         R2        MSE            Time  \n",
       "5  0.867738  11.473510 00:00:18.852000  \n",
       "6  0.859031  12.228897 00:00:11.323000  \n",
       "3  0.796968  17.612770 00:00:00.271000  \n",
       "4  0.761653  20.676255 00:00:00.828000  \n",
       "1  0.669809  28.643660 00:00:03.363000  \n",
       "2  0.666070  28.967939 00:00:00.301000  \n",
       "0  0.656368  29.809602 00:00:02.608000  "
      ]
     },
     "execution_count": 10,
     "metadata": {},
     "output_type": "execute_result"
    }
   ],
   "source": [
    "pd.DataFrame(results, columns=['Estimator', 'Best params', 'R2', 'MSE', 'Time']).sort_values(by=['R2'], ascending=False)"
   ]
  },
  {
   "cell_type": "markdown",
   "metadata": {},
   "source": [
    "Ансамбли деревьев по итогу дают лучший результат"
   ]
  },
  {
   "cell_type": "code",
   "execution_count": null,
   "metadata": {},
   "outputs": [],
   "source": []
  }
 ],
 "metadata": {
  "kernelspec": {
   "display_name": "Python 3",
   "language": "python",
   "name": "python3"
  },
  "language_info": {
   "codemirror_mode": {
    "name": "ipython",
    "version": 3
   },
   "file_extension": ".py",
   "mimetype": "text/x-python",
   "name": "python",
   "nbconvert_exporter": "python",
   "pygments_lexer": "ipython3",
   "version": "3.7.4"
  }
 },
 "nbformat": 4,
 "nbformat_minor": 2
}
