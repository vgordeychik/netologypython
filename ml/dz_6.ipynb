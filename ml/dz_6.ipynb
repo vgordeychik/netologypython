{
 "cells": [
  {
   "cell_type": "markdown",
   "metadata": {},
   "source": [
    " 1. Теперь решаем задачу регрессии - предскажем цены на недвижимость. Использовать датасет https://www.kaggle.com/c/house-prices-advanced-regression-techniques/data (train.csv)\n",
    "  1. Данных немного, поэтому необходимо использовать 10-fold кросс-валидацию для оценки качества моделей\n",
    "  1. Построить случайный лес, вывести важность признаков\n",
    "  1. Обучить стекинг как минимум 3х моделей, использовать хотя бы 1 линейную модель и 1 нелинейную\n",
    "  1. Для валидации модели 2-го уровня использовать отдельный hold-out датасет, как на занятии\n",
    "  1. Показать, что использование ансамблей моделей действительно улучшает качество (стекинг vs другие модели сравнивать на hold-out)\n",
    "  1. В качестве решения: Jupyter notebook с кодом, комментариями и графиками, ссылка на гитхаб"
   ]
  },
  {
   "cell_type": "code",
   "execution_count": 1,
   "metadata": {},
   "outputs": [],
   "source": [
    "import numpy as np\n",
    "import pandas as pd\n",
    "import sys\n",
    "from sklearn.base import BaseEstimator, RegressorMixin, TransformerMixin\n",
    "from sklearn.compose import ColumnTransformer\n",
    "from sklearn.preprocessing import OneHotEncoder, OrdinalEncoder, StandardScaler\n",
    "from sklearn.impute import SimpleImputer\n",
    "from sklearn.pipeline import Pipeline\n",
    "from sklearn.ensemble import RandomForestRegressor \n",
    "from sklearn.model_selection import KFold, cross_val_predict, cross_val_score\n",
    "from sklearn.linear_model import LinearRegression, Lasso, SGDRegressor\n",
    "from sklearn.svm import LinearSVR\n",
    "from sklearn.tree import DecisionTreeRegressor\n",
    "from sklearn.neighbors import KNeighborsRegressor\n",
    "from sklearn.model_selection import train_test_split\n",
    "from sklearn.metrics import mean_squared_error\n",
    "import matplotlib.pyplot as plt\n",
    "%matplotlib inline"
   ]
  },
  {
   "cell_type": "code",
   "execution_count": null,
   "metadata": {},
   "outputs": [],
   "source": []
  },
  {
   "cell_type": "markdown",
   "metadata": {},
   "source": [
    " Теперь решаем задачу регрессии - предскажем цены на недвижимость. Использовать датасет https://www.kaggle.com/c/house-prices-advanced-regression-techniques/data (train.csv)"
   ]
  },
  {
   "cell_type": "code",
   "execution_count": 2,
   "metadata": {},
   "outputs": [],
   "source": [
    "data = pd.read_csv(\"train.csv\")"
   ]
  },
  {
   "cell_type": "code",
   "execution_count": 3,
   "metadata": {},
   "outputs": [
    {
     "name": "stdout",
     "output_type": "stream",
     "text": [
      "<class 'pandas.core.frame.DataFrame'>\n",
      "RangeIndex: 114321 entries, 0 to 114320\n",
      "Columns: 133 entries, ID to v131\n",
      "dtypes: float64(108), int64(6), object(19)\n",
      "memory usage: 116.0+ MB\n"
     ]
    }
   ],
   "source": [
    "data.info()"
   ]
  },
  {
   "cell_type": "code",
   "execution_count": 4,
   "metadata": {},
   "outputs": [
    {
     "data": {
      "text/html": [
       "<div>\n",
       "<style scoped>\n",
       "    .dataframe tbody tr th:only-of-type {\n",
       "        vertical-align: middle;\n",
       "    }\n",
       "\n",
       "    .dataframe tbody tr th {\n",
       "        vertical-align: top;\n",
       "    }\n",
       "\n",
       "    .dataframe thead th {\n",
       "        text-align: right;\n",
       "    }\n",
       "</style>\n",
       "<table border=\"1\" class=\"dataframe\">\n",
       "  <thead>\n",
       "    <tr style=\"text-align: right;\">\n",
       "      <th></th>\n",
       "      <th>ID</th>\n",
       "      <th>target</th>\n",
       "      <th>v1</th>\n",
       "      <th>v2</th>\n",
       "      <th>v3</th>\n",
       "      <th>v4</th>\n",
       "      <th>v5</th>\n",
       "      <th>v6</th>\n",
       "      <th>v7</th>\n",
       "      <th>v8</th>\n",
       "      <th>...</th>\n",
       "      <th>v122</th>\n",
       "      <th>v123</th>\n",
       "      <th>v124</th>\n",
       "      <th>v125</th>\n",
       "      <th>v126</th>\n",
       "      <th>v127</th>\n",
       "      <th>v128</th>\n",
       "      <th>v129</th>\n",
       "      <th>v130</th>\n",
       "      <th>v131</th>\n",
       "    </tr>\n",
       "  </thead>\n",
       "  <tbody>\n",
       "    <tr>\n",
       "      <td>0</td>\n",
       "      <td>3</td>\n",
       "      <td>1</td>\n",
       "      <td>1.335739</td>\n",
       "      <td>8.727474</td>\n",
       "      <td>C</td>\n",
       "      <td>3.921026</td>\n",
       "      <td>7.915266</td>\n",
       "      <td>2.599278</td>\n",
       "      <td>3.176895</td>\n",
       "      <td>0.012941</td>\n",
       "      <td>...</td>\n",
       "      <td>8.000000</td>\n",
       "      <td>1.989780</td>\n",
       "      <td>0.035754</td>\n",
       "      <td>AU</td>\n",
       "      <td>1.804126</td>\n",
       "      <td>3.113719</td>\n",
       "      <td>2.024285</td>\n",
       "      <td>0</td>\n",
       "      <td>0.636365</td>\n",
       "      <td>2.857144</td>\n",
       "    </tr>\n",
       "    <tr>\n",
       "      <td>1</td>\n",
       "      <td>4</td>\n",
       "      <td>1</td>\n",
       "      <td>NaN</td>\n",
       "      <td>NaN</td>\n",
       "      <td>C</td>\n",
       "      <td>NaN</td>\n",
       "      <td>9.191265</td>\n",
       "      <td>NaN</td>\n",
       "      <td>NaN</td>\n",
       "      <td>2.301630</td>\n",
       "      <td>...</td>\n",
       "      <td>NaN</td>\n",
       "      <td>NaN</td>\n",
       "      <td>0.598896</td>\n",
       "      <td>AF</td>\n",
       "      <td>NaN</td>\n",
       "      <td>NaN</td>\n",
       "      <td>1.957825</td>\n",
       "      <td>0</td>\n",
       "      <td>NaN</td>\n",
       "      <td>NaN</td>\n",
       "    </tr>\n",
       "    <tr>\n",
       "      <td>2</td>\n",
       "      <td>5</td>\n",
       "      <td>1</td>\n",
       "      <td>0.943877</td>\n",
       "      <td>5.310079</td>\n",
       "      <td>C</td>\n",
       "      <td>4.410969</td>\n",
       "      <td>5.326159</td>\n",
       "      <td>3.979592</td>\n",
       "      <td>3.928571</td>\n",
       "      <td>0.019645</td>\n",
       "      <td>...</td>\n",
       "      <td>9.333333</td>\n",
       "      <td>2.477596</td>\n",
       "      <td>0.013452</td>\n",
       "      <td>AE</td>\n",
       "      <td>1.773709</td>\n",
       "      <td>3.922193</td>\n",
       "      <td>1.120468</td>\n",
       "      <td>2</td>\n",
       "      <td>0.883118</td>\n",
       "      <td>1.176472</td>\n",
       "    </tr>\n",
       "    <tr>\n",
       "      <td>3</td>\n",
       "      <td>6</td>\n",
       "      <td>1</td>\n",
       "      <td>0.797415</td>\n",
       "      <td>8.304757</td>\n",
       "      <td>C</td>\n",
       "      <td>4.225930</td>\n",
       "      <td>11.627438</td>\n",
       "      <td>2.097700</td>\n",
       "      <td>1.987549</td>\n",
       "      <td>0.171947</td>\n",
       "      <td>...</td>\n",
       "      <td>7.018256</td>\n",
       "      <td>1.812795</td>\n",
       "      <td>0.002267</td>\n",
       "      <td>CJ</td>\n",
       "      <td>1.415230</td>\n",
       "      <td>2.954381</td>\n",
       "      <td>1.990847</td>\n",
       "      <td>1</td>\n",
       "      <td>1.677108</td>\n",
       "      <td>1.034483</td>\n",
       "    </tr>\n",
       "    <tr>\n",
       "      <td>4</td>\n",
       "      <td>8</td>\n",
       "      <td>1</td>\n",
       "      <td>NaN</td>\n",
       "      <td>NaN</td>\n",
       "      <td>C</td>\n",
       "      <td>NaN</td>\n",
       "      <td>NaN</td>\n",
       "      <td>NaN</td>\n",
       "      <td>NaN</td>\n",
       "      <td>NaN</td>\n",
       "      <td>...</td>\n",
       "      <td>NaN</td>\n",
       "      <td>NaN</td>\n",
       "      <td>NaN</td>\n",
       "      <td>Z</td>\n",
       "      <td>NaN</td>\n",
       "      <td>NaN</td>\n",
       "      <td>NaN</td>\n",
       "      <td>0</td>\n",
       "      <td>NaN</td>\n",
       "      <td>NaN</td>\n",
       "    </tr>\n",
       "  </tbody>\n",
       "</table>\n",
       "<p>5 rows × 133 columns</p>\n",
       "</div>"
      ],
      "text/plain": [
       "   ID  target        v1        v2 v3        v4         v5        v6        v7  \\\n",
       "0   3       1  1.335739  8.727474  C  3.921026   7.915266  2.599278  3.176895   \n",
       "1   4       1       NaN       NaN  C       NaN   9.191265       NaN       NaN   \n",
       "2   5       1  0.943877  5.310079  C  4.410969   5.326159  3.979592  3.928571   \n",
       "3   6       1  0.797415  8.304757  C  4.225930  11.627438  2.097700  1.987549   \n",
       "4   8       1       NaN       NaN  C       NaN        NaN       NaN       NaN   \n",
       "\n",
       "         v8  ...      v122      v123      v124  v125      v126      v127  \\\n",
       "0  0.012941  ...  8.000000  1.989780  0.035754    AU  1.804126  3.113719   \n",
       "1  2.301630  ...       NaN       NaN  0.598896    AF       NaN       NaN   \n",
       "2  0.019645  ...  9.333333  2.477596  0.013452    AE  1.773709  3.922193   \n",
       "3  0.171947  ...  7.018256  1.812795  0.002267    CJ  1.415230  2.954381   \n",
       "4       NaN  ...       NaN       NaN       NaN     Z       NaN       NaN   \n",
       "\n",
       "       v128  v129      v130      v131  \n",
       "0  2.024285     0  0.636365  2.857144  \n",
       "1  1.957825     0       NaN       NaN  \n",
       "2  1.120468     2  0.883118  1.176472  \n",
       "3  1.990847     1  1.677108  1.034483  \n",
       "4       NaN     0       NaN       NaN  \n",
       "\n",
       "[5 rows x 133 columns]"
      ]
     },
     "execution_count": 4,
     "metadata": {},
     "output_type": "execute_result"
    }
   ],
   "source": [
    "data.head()"
   ]
  },
  {
   "cell_type": "markdown",
   "metadata": {},
   "source": [
    " Исследуем столбцы object, следует ли их перобразовать через one-hot-encoding"
   ]
  },
  {
   "cell_type": "code",
   "execution_count": 5,
   "metadata": {},
   "outputs": [
    {
     "data": {
      "text/html": [
       "<div>\n",
       "<style scoped>\n",
       "    .dataframe tbody tr th:only-of-type {\n",
       "        vertical-align: middle;\n",
       "    }\n",
       "\n",
       "    .dataframe tbody tr th {\n",
       "        vertical-align: top;\n",
       "    }\n",
       "\n",
       "    .dataframe thead th {\n",
       "        text-align: right;\n",
       "    }\n",
       "</style>\n",
       "<table border=\"1\" class=\"dataframe\">\n",
       "  <thead>\n",
       "    <tr style=\"text-align: right;\">\n",
       "      <th></th>\n",
       "      <th>Имя столбца</th>\n",
       "      <th>Есть ли пропуски</th>\n",
       "      <th>Количество уникальных значений</th>\n",
       "    </tr>\n",
       "  </thead>\n",
       "  <tbody>\n",
       "    <tr>\n",
       "      <td>0</td>\n",
       "      <td>v3</td>\n",
       "      <td>True</td>\n",
       "      <td>4</td>\n",
       "    </tr>\n",
       "    <tr>\n",
       "      <td>1</td>\n",
       "      <td>v22</td>\n",
       "      <td>True</td>\n",
       "      <td>18211</td>\n",
       "    </tr>\n",
       "    <tr>\n",
       "      <td>2</td>\n",
       "      <td>v24</td>\n",
       "      <td>False</td>\n",
       "      <td>5</td>\n",
       "    </tr>\n",
       "    <tr>\n",
       "      <td>3</td>\n",
       "      <td>v30</td>\n",
       "      <td>True</td>\n",
       "      <td>8</td>\n",
       "    </tr>\n",
       "    <tr>\n",
       "      <td>4</td>\n",
       "      <td>v31</td>\n",
       "      <td>True</td>\n",
       "      <td>4</td>\n",
       "    </tr>\n",
       "    <tr>\n",
       "      <td>5</td>\n",
       "      <td>v47</td>\n",
       "      <td>False</td>\n",
       "      <td>10</td>\n",
       "    </tr>\n",
       "    <tr>\n",
       "      <td>6</td>\n",
       "      <td>v52</td>\n",
       "      <td>True</td>\n",
       "      <td>13</td>\n",
       "    </tr>\n",
       "    <tr>\n",
       "      <td>7</td>\n",
       "      <td>v56</td>\n",
       "      <td>True</td>\n",
       "      <td>123</td>\n",
       "    </tr>\n",
       "    <tr>\n",
       "      <td>8</td>\n",
       "      <td>v66</td>\n",
       "      <td>False</td>\n",
       "      <td>3</td>\n",
       "    </tr>\n",
       "    <tr>\n",
       "      <td>9</td>\n",
       "      <td>v71</td>\n",
       "      <td>False</td>\n",
       "      <td>9</td>\n",
       "    </tr>\n",
       "    <tr>\n",
       "      <td>10</td>\n",
       "      <td>v74</td>\n",
       "      <td>False</td>\n",
       "      <td>3</td>\n",
       "    </tr>\n",
       "    <tr>\n",
       "      <td>11</td>\n",
       "      <td>v75</td>\n",
       "      <td>False</td>\n",
       "      <td>4</td>\n",
       "    </tr>\n",
       "    <tr>\n",
       "      <td>12</td>\n",
       "      <td>v79</td>\n",
       "      <td>False</td>\n",
       "      <td>18</td>\n",
       "    </tr>\n",
       "    <tr>\n",
       "      <td>13</td>\n",
       "      <td>v91</td>\n",
       "      <td>True</td>\n",
       "      <td>8</td>\n",
       "    </tr>\n",
       "    <tr>\n",
       "      <td>14</td>\n",
       "      <td>v107</td>\n",
       "      <td>True</td>\n",
       "      <td>8</td>\n",
       "    </tr>\n",
       "    <tr>\n",
       "      <td>15</td>\n",
       "      <td>v110</td>\n",
       "      <td>False</td>\n",
       "      <td>3</td>\n",
       "    </tr>\n",
       "    <tr>\n",
       "      <td>16</td>\n",
       "      <td>v112</td>\n",
       "      <td>True</td>\n",
       "      <td>23</td>\n",
       "    </tr>\n",
       "    <tr>\n",
       "      <td>17</td>\n",
       "      <td>v113</td>\n",
       "      <td>True</td>\n",
       "      <td>37</td>\n",
       "    </tr>\n",
       "    <tr>\n",
       "      <td>18</td>\n",
       "      <td>v125</td>\n",
       "      <td>True</td>\n",
       "      <td>91</td>\n",
       "    </tr>\n",
       "  </tbody>\n",
       "</table>\n",
       "</div>"
      ],
      "text/plain": [
       "   Имя столбца  Есть ли пропуски  Количество уникальных значений\n",
       "0           v3              True                               4\n",
       "1          v22              True                           18211\n",
       "2          v24             False                               5\n",
       "3          v30              True                               8\n",
       "4          v31              True                               4\n",
       "5          v47             False                              10\n",
       "6          v52              True                              13\n",
       "7          v56              True                             123\n",
       "8          v66             False                               3\n",
       "9          v71             False                               9\n",
       "10         v74             False                               3\n",
       "11         v75             False                               4\n",
       "12         v79             False                              18\n",
       "13         v91              True                               8\n",
       "14        v107              True                               8\n",
       "15        v110             False                               3\n",
       "16        v112              True                              23\n",
       "17        v113              True                              37\n",
       "18        v125              True                              91"
      ]
     },
     "execution_count": 5,
     "metadata": {},
     "output_type": "execute_result"
    }
   ],
   "source": [
    "df_objects = data[data.select_dtypes(np.object).columns]\n",
    "pd.DataFrame(\n",
    "    [(c, df_objects[c].hasnans, len(df_objects[c].unique())) for c in df_objects.columns],\n",
    "    columns=[\"Имя столбца\", \"Есть ли пропуски\", \"Количество уникальных значений\"])"
   ]
  },
  {
   "cell_type": "markdown",
   "metadata": {},
   "source": [
    " Для one hote encoding возьмем все столбцы для которых количество уникальных значений < 40. Для оставшихся применим LabelEncoding. Пропуски заменим на предопределенное значение 'NAN'"
   ]
  },
  {
   "cell_type": "code",
   "execution_count": 6,
   "metadata": {},
   "outputs": [
    {
     "name": "stdout",
     "output_type": "stream",
     "text": [
      "['v3', 'v24', 'v30', 'v31', 'v47', 'v52', 'v66', 'v71', 'v74', 'v75', 'v79', 'v91', 'v107', 'v110', 'v112', 'v113']\n"
     ]
    }
   ],
   "source": [
    "object_columns_ohe = [c for c in df_objects.columns if len(df_objects[c].unique()) < 40]\n",
    "print(object_columns_ohe)"
   ]
  },
  {
   "cell_type": "code",
   "execution_count": 7,
   "metadata": {},
   "outputs": [
    {
     "name": "stdout",
     "output_type": "stream",
     "text": [
      "['v22', 'v56', 'v125']\n"
     ]
    }
   ],
   "source": [
    "object_columns_le = [c for c in df_objects.columns if c not in object_columns_ohe]\n",
    "print(object_columns_le)"
   ]
  },
  {
   "cell_type": "markdown",
   "metadata": {},
   "source": [
    " Также посмотрим на числовые фичи"
   ]
  },
  {
   "cell_type": "code",
   "execution_count": 8,
   "metadata": {},
   "outputs": [
    {
     "data": {
      "text/html": [
       "<div>\n",
       "<style scoped>\n",
       "    .dataframe tbody tr th:only-of-type {\n",
       "        vertical-align: middle;\n",
       "    }\n",
       "\n",
       "    .dataframe tbody tr th {\n",
       "        vertical-align: top;\n",
       "    }\n",
       "\n",
       "    .dataframe thead th {\n",
       "        text-align: right;\n",
       "    }\n",
       "</style>\n",
       "<table border=\"1\" class=\"dataframe\">\n",
       "  <thead>\n",
       "    <tr style=\"text-align: right;\">\n",
       "      <th></th>\n",
       "      <th>Имя столбца</th>\n",
       "      <th>Есть ли пропуски</th>\n",
       "      <th>Тип</th>\n",
       "    </tr>\n",
       "  </thead>\n",
       "  <tbody>\n",
       "    <tr>\n",
       "      <td>0</td>\n",
       "      <td>ID</td>\n",
       "      <td>False</td>\n",
       "      <td>int64</td>\n",
       "    </tr>\n",
       "    <tr>\n",
       "      <td>1</td>\n",
       "      <td>target</td>\n",
       "      <td>False</td>\n",
       "      <td>int64</td>\n",
       "    </tr>\n",
       "    <tr>\n",
       "      <td>2</td>\n",
       "      <td>v1</td>\n",
       "      <td>True</td>\n",
       "      <td>float64</td>\n",
       "    </tr>\n",
       "    <tr>\n",
       "      <td>3</td>\n",
       "      <td>v2</td>\n",
       "      <td>True</td>\n",
       "      <td>float64</td>\n",
       "    </tr>\n",
       "    <tr>\n",
       "      <td>4</td>\n",
       "      <td>v4</td>\n",
       "      <td>True</td>\n",
       "      <td>float64</td>\n",
       "    </tr>\n",
       "    <tr>\n",
       "      <td>...</td>\n",
       "      <td>...</td>\n",
       "      <td>...</td>\n",
       "      <td>...</td>\n",
       "    </tr>\n",
       "    <tr>\n",
       "      <td>109</td>\n",
       "      <td>v127</td>\n",
       "      <td>True</td>\n",
       "      <td>float64</td>\n",
       "    </tr>\n",
       "    <tr>\n",
       "      <td>110</td>\n",
       "      <td>v128</td>\n",
       "      <td>True</td>\n",
       "      <td>float64</td>\n",
       "    </tr>\n",
       "    <tr>\n",
       "      <td>111</td>\n",
       "      <td>v129</td>\n",
       "      <td>False</td>\n",
       "      <td>int64</td>\n",
       "    </tr>\n",
       "    <tr>\n",
       "      <td>112</td>\n",
       "      <td>v130</td>\n",
       "      <td>True</td>\n",
       "      <td>float64</td>\n",
       "    </tr>\n",
       "    <tr>\n",
       "      <td>113</td>\n",
       "      <td>v131</td>\n",
       "      <td>True</td>\n",
       "      <td>float64</td>\n",
       "    </tr>\n",
       "  </tbody>\n",
       "</table>\n",
       "<p>114 rows × 3 columns</p>\n",
       "</div>"
      ],
      "text/plain": [
       "    Имя столбца  Есть ли пропуски      Тип\n",
       "0            ID             False    int64\n",
       "1        target             False    int64\n",
       "2            v1              True  float64\n",
       "3            v2              True  float64\n",
       "4            v4              True  float64\n",
       "..          ...               ...      ...\n",
       "109        v127              True  float64\n",
       "110        v128              True  float64\n",
       "111        v129             False    int64\n",
       "112        v130              True  float64\n",
       "113        v131              True  float64\n",
       "\n",
       "[114 rows x 3 columns]"
      ]
     },
     "execution_count": 8,
     "metadata": {},
     "output_type": "execute_result"
    }
   ],
   "source": [
    "df_number = data[data.select_dtypes(np.number).columns]\n",
    "pd.DataFrame(\n",
    "    [(c, df_number[c].hasnans, df_number[c].dtype) for c in df_number.columns],\n",
    "    columns=[\"Имя столбца\", \"Есть ли пропуски\", \"Тип\"])"
   ]
  },
  {
   "cell_type": "markdown",
   "metadata": {},
   "source": [
    " target откладываем отдельно. ID столбец нам не нужен, его отбрасываем. Пропуски для числовых значений будем заполнять медианным значением. Полученное пространство фич нормализуем"
   ]
  },
  {
   "cell_type": "code",
   "execution_count": 9,
   "metadata": {},
   "outputs": [
    {
     "name": "stdout",
     "output_type": "stream",
     "text": [
      "['v1', 'v2', 'v4', 'v5', 'v6', 'v7', 'v8', 'v9', 'v10', 'v11', 'v12', 'v13', 'v14', 'v15', 'v16', 'v17', 'v18', 'v19', 'v20', 'v21', 'v23', 'v25', 'v26', 'v27', 'v28', 'v29', 'v32', 'v33', 'v34', 'v35', 'v36', 'v37', 'v38', 'v39', 'v40', 'v41', 'v42', 'v43', 'v44', 'v45', 'v46', 'v48', 'v49', 'v50', 'v51', 'v53', 'v54', 'v55', 'v57', 'v58', 'v59', 'v60', 'v61', 'v62', 'v63', 'v64', 'v65', 'v67', 'v68', 'v69', 'v70', 'v72', 'v73', 'v76', 'v77', 'v78', 'v80', 'v81', 'v82', 'v83', 'v84', 'v85', 'v86', 'v87', 'v88', 'v89', 'v90', 'v92', 'v93', 'v94', 'v95', 'v96', 'v97', 'v98', 'v99', 'v100', 'v101', 'v102', 'v103', 'v104', 'v105', 'v106', 'v108', 'v109', 'v111', 'v114', 'v115', 'v116', 'v117', 'v118', 'v119', 'v120', 'v121', 'v122', 'v123', 'v124', 'v126', 'v127', 'v128', 'v129', 'v130', 'v131']\n"
     ]
    }
   ],
   "source": [
    "object_columns_num = [c for c in df_number.columns if c not in ['target', 'ID']]\n",
    "print(object_columns_num)"
   ]
  },
  {
   "cell_type": "code",
   "execution_count": 10,
   "metadata": {},
   "outputs": [],
   "source": [
    "X = data[data.columns[~data.columns.isin(['target', 'ID'])]]\n",
    "y = data.target"
   ]
  },
  {
   "cell_type": "markdown",
   "metadata": {},
   "source": [
    " Состоявляем конвеер преобразующий данные"
   ]
  },
  {
   "cell_type": "code",
   "execution_count": 11,
   "metadata": {},
   "outputs": [],
   "source": [
    "data_preparation_pipeline = ColumnTransformer([\n",
    "    (\n",
    "        \"ohe\",\n",
    "        Pipeline([\n",
    "            (\"imp\", SimpleImputer(strategy='constant', fill_value=\"NAN\")),\n",
    "            (\"enc\", OneHotEncoder(sparse=False))\n",
    "        ]),\n",
    "        object_columns_ohe\n",
    "    ),\n",
    "    (\n",
    "        \"le\",\n",
    "        Pipeline([\n",
    "            (\"imp\", SimpleImputer(strategy='constant', fill_value=\"NAN\")),\n",
    "            (\"enc\", OrdinalEncoder()),\n",
    "        ]),\n",
    "        object_columns_le\n",
    "    ),\n",
    "    (\n",
    "        \"num\",\n",
    "        Pipeline([\n",
    "            (\"imp\", SimpleImputer(strategy='median')),\n",
    "            (\"scl\", StandardScaler())\n",
    "        ]),\n",
    "        object_columns_num\n",
    "    )\n",
    "])"
   ]
  },
  {
   "cell_type": "code",
   "execution_count": 12,
   "metadata": {},
   "outputs": [
    {
     "name": "stdout",
     "output_type": "stream",
     "text": [
      "Wall time: 4.69 s\n"
     ]
    }
   ],
   "source": [
    "%%time\n",
    "\n",
    "X_prepared = data_preparation_pipeline.fit_transform(X, y)"
   ]
  },
  {
   "cell_type": "code",
   "execution_count": 13,
   "metadata": {},
   "outputs": [],
   "source": [
    "X_prepared_names = list(data_preparation_pipeline.named_transformers_[\"ohe\"][\"enc\"].get_feature_names(object_columns_ohe))\n",
    "X_prepared_names.extend(object_columns_le)\n",
    "X_prepared_names.extend(object_columns_num)"
   ]
  },
  {
   "cell_type": "code",
   "execution_count": 14,
   "metadata": {},
   "outputs": [
    {
     "name": "stdout",
     "output_type": "stream",
     "text": [
      "['v3_A', 'v3_B', 'v3_C', 'v3_NAN', 'v24_A', 'v24_B', 'v24_C', 'v24_D', 'v24_E', 'v30_A', 'v30_B', 'v30_C', 'v30_D', 'v30_E', 'v30_F', 'v30_G', 'v30_NAN', 'v31_A', 'v31_B', 'v31_C', 'v31_NAN', 'v47_A', 'v47_B', 'v47_C', 'v47_D', 'v47_E', 'v47_F', 'v47_G', 'v47_H', 'v47_I', 'v47_J', 'v52_A', 'v52_B', 'v52_C', 'v52_D', 'v52_E', 'v52_F', 'v52_G', 'v52_H', 'v52_I', 'v52_J', 'v52_K', 'v52_L', 'v52_NAN', 'v66_A', 'v66_B', 'v66_C', 'v71_A', 'v71_B', 'v71_C', 'v71_D', 'v71_F', 'v71_G', 'v71_I', 'v71_K', 'v71_L', 'v74_A', 'v74_B', 'v74_C', 'v75_A', 'v75_B', 'v75_C', 'v75_D', 'v79_A', 'v79_B', 'v79_C', 'v79_D', 'v79_E', 'v79_F', 'v79_G', 'v79_H', 'v79_I', 'v79_J', 'v79_K', 'v79_L', 'v79_M', 'v79_N', 'v79_O', 'v79_P', 'v79_Q', 'v79_R', 'v91_A', 'v91_B', 'v91_C', 'v91_D', 'v91_E', 'v91_F', 'v91_G', 'v91_NAN', 'v107_A', 'v107_B', 'v107_C', 'v107_D', 'v107_E', 'v107_F', 'v107_G', 'v107_NAN', 'v110_A', 'v110_B', 'v110_C', 'v112_A', 'v112_B', 'v112_C', 'v112_D', 'v112_E', 'v112_F', 'v112_G', 'v112_H', 'v112_I', 'v112_J', 'v112_K', 'v112_L', 'v112_M', 'v112_N', 'v112_NAN', 'v112_O', 'v112_P', 'v112_Q', 'v112_R', 'v112_S', 'v112_T', 'v112_U', 'v112_V', 'v113_A', 'v113_AA', 'v113_AB', 'v113_AC', 'v113_AD', 'v113_AE', 'v113_AF', 'v113_AG', 'v113_AH', 'v113_AI', 'v113_AJ', 'v113_AK', 'v113_B', 'v113_C', 'v113_D', 'v113_E', 'v113_F', 'v113_G', 'v113_H', 'v113_I', 'v113_J', 'v113_L', 'v113_M', 'v113_N', 'v113_NAN', 'v113_O', 'v113_P', 'v113_Q', 'v113_R', 'v113_S', 'v113_T', 'v113_U', 'v113_V', 'v113_W', 'v113_X', 'v113_Y', 'v113_Z', 'v22', 'v56', 'v125', 'v1', 'v2', 'v4', 'v5', 'v6', 'v7', 'v8', 'v9', 'v10', 'v11', 'v12', 'v13', 'v14', 'v15', 'v16', 'v17', 'v18', 'v19', 'v20', 'v21', 'v23', 'v25', 'v26', 'v27', 'v28', 'v29', 'v32', 'v33', 'v34', 'v35', 'v36', 'v37', 'v38', 'v39', 'v40', 'v41', 'v42', 'v43', 'v44', 'v45', 'v46', 'v48', 'v49', 'v50', 'v51', 'v53', 'v54', 'v55', 'v57', 'v58', 'v59', 'v60', 'v61', 'v62', 'v63', 'v64', 'v65', 'v67', 'v68', 'v69', 'v70', 'v72', 'v73', 'v76', 'v77', 'v78', 'v80', 'v81', 'v82', 'v83', 'v84', 'v85', 'v86', 'v87', 'v88', 'v89', 'v90', 'v92', 'v93', 'v94', 'v95', 'v96', 'v97', 'v98', 'v99', 'v100', 'v101', 'v102', 'v103', 'v104', 'v105', 'v106', 'v108', 'v109', 'v111', 'v114', 'v115', 'v116', 'v117', 'v118', 'v119', 'v120', 'v121', 'v122', 'v123', 'v124', 'v126', 'v127', 'v128', 'v129', 'v130', 'v131']\n"
     ]
    }
   ],
   "source": [
    "print(X_prepared_names)"
   ]
  },
  {
   "cell_type": "code",
   "execution_count": 15,
   "metadata": {},
   "outputs": [
    {
     "data": {
      "text/html": [
       "<div>\n",
       "<style scoped>\n",
       "    .dataframe tbody tr th:only-of-type {\n",
       "        vertical-align: middle;\n",
       "    }\n",
       "\n",
       "    .dataframe tbody tr th {\n",
       "        vertical-align: top;\n",
       "    }\n",
       "\n",
       "    .dataframe thead th {\n",
       "        text-align: right;\n",
       "    }\n",
       "</style>\n",
       "<table border=\"1\" class=\"dataframe\">\n",
       "  <thead>\n",
       "    <tr style=\"text-align: right;\">\n",
       "      <th></th>\n",
       "      <th>v1</th>\n",
       "      <th>v2</th>\n",
       "      <th>v3</th>\n",
       "      <th>v4</th>\n",
       "      <th>v5</th>\n",
       "      <th>v6</th>\n",
       "      <th>v7</th>\n",
       "      <th>v8</th>\n",
       "      <th>v9</th>\n",
       "      <th>v10</th>\n",
       "      <th>...</th>\n",
       "      <th>v122</th>\n",
       "      <th>v123</th>\n",
       "      <th>v124</th>\n",
       "      <th>v125</th>\n",
       "      <th>v126</th>\n",
       "      <th>v127</th>\n",
       "      <th>v128</th>\n",
       "      <th>v129</th>\n",
       "      <th>v130</th>\n",
       "      <th>v131</th>\n",
       "    </tr>\n",
       "  </thead>\n",
       "  <tbody>\n",
       "    <tr>\n",
       "      <td>0</td>\n",
       "      <td>1.335739</td>\n",
       "      <td>8.727474</td>\n",
       "      <td>C</td>\n",
       "      <td>3.921026</td>\n",
       "      <td>7.915266</td>\n",
       "      <td>2.599278</td>\n",
       "      <td>3.176895</td>\n",
       "      <td>0.012941</td>\n",
       "      <td>9.999999</td>\n",
       "      <td>0.503281</td>\n",
       "      <td>...</td>\n",
       "      <td>8.000000</td>\n",
       "      <td>1.989780</td>\n",
       "      <td>0.035754</td>\n",
       "      <td>AU</td>\n",
       "      <td>1.804126</td>\n",
       "      <td>3.113719</td>\n",
       "      <td>2.024285</td>\n",
       "      <td>0</td>\n",
       "      <td>0.636365</td>\n",
       "      <td>2.857144</td>\n",
       "    </tr>\n",
       "    <tr>\n",
       "      <td>1</td>\n",
       "      <td>NaN</td>\n",
       "      <td>NaN</td>\n",
       "      <td>C</td>\n",
       "      <td>NaN</td>\n",
       "      <td>9.191265</td>\n",
       "      <td>NaN</td>\n",
       "      <td>NaN</td>\n",
       "      <td>2.301630</td>\n",
       "      <td>NaN</td>\n",
       "      <td>1.312910</td>\n",
       "      <td>...</td>\n",
       "      <td>NaN</td>\n",
       "      <td>NaN</td>\n",
       "      <td>0.598896</td>\n",
       "      <td>AF</td>\n",
       "      <td>NaN</td>\n",
       "      <td>NaN</td>\n",
       "      <td>1.957825</td>\n",
       "      <td>0</td>\n",
       "      <td>NaN</td>\n",
       "      <td>NaN</td>\n",
       "    </tr>\n",
       "    <tr>\n",
       "      <td>2</td>\n",
       "      <td>0.943877</td>\n",
       "      <td>5.310079</td>\n",
       "      <td>C</td>\n",
       "      <td>4.410969</td>\n",
       "      <td>5.326159</td>\n",
       "      <td>3.979592</td>\n",
       "      <td>3.928571</td>\n",
       "      <td>0.019645</td>\n",
       "      <td>12.666667</td>\n",
       "      <td>0.765864</td>\n",
       "      <td>...</td>\n",
       "      <td>9.333333</td>\n",
       "      <td>2.477596</td>\n",
       "      <td>0.013452</td>\n",
       "      <td>AE</td>\n",
       "      <td>1.773709</td>\n",
       "      <td>3.922193</td>\n",
       "      <td>1.120468</td>\n",
       "      <td>2</td>\n",
       "      <td>0.883118</td>\n",
       "      <td>1.176472</td>\n",
       "    </tr>\n",
       "    <tr>\n",
       "      <td>3</td>\n",
       "      <td>0.797415</td>\n",
       "      <td>8.304757</td>\n",
       "      <td>C</td>\n",
       "      <td>4.225930</td>\n",
       "      <td>11.627438</td>\n",
       "      <td>2.097700</td>\n",
       "      <td>1.987549</td>\n",
       "      <td>0.171947</td>\n",
       "      <td>8.965516</td>\n",
       "      <td>6.542669</td>\n",
       "      <td>...</td>\n",
       "      <td>7.018256</td>\n",
       "      <td>1.812795</td>\n",
       "      <td>0.002267</td>\n",
       "      <td>CJ</td>\n",
       "      <td>1.415230</td>\n",
       "      <td>2.954381</td>\n",
       "      <td>1.990847</td>\n",
       "      <td>1</td>\n",
       "      <td>1.677108</td>\n",
       "      <td>1.034483</td>\n",
       "    </tr>\n",
       "    <tr>\n",
       "      <td>4</td>\n",
       "      <td>NaN</td>\n",
       "      <td>NaN</td>\n",
       "      <td>C</td>\n",
       "      <td>NaN</td>\n",
       "      <td>NaN</td>\n",
       "      <td>NaN</td>\n",
       "      <td>NaN</td>\n",
       "      <td>NaN</td>\n",
       "      <td>NaN</td>\n",
       "      <td>1.050328</td>\n",
       "      <td>...</td>\n",
       "      <td>NaN</td>\n",
       "      <td>NaN</td>\n",
       "      <td>NaN</td>\n",
       "      <td>Z</td>\n",
       "      <td>NaN</td>\n",
       "      <td>NaN</td>\n",
       "      <td>NaN</td>\n",
       "      <td>0</td>\n",
       "      <td>NaN</td>\n",
       "      <td>NaN</td>\n",
       "    </tr>\n",
       "  </tbody>\n",
       "</table>\n",
       "<p>5 rows × 131 columns</p>\n",
       "</div>"
      ],
      "text/plain": [
       "         v1        v2 v3        v4         v5        v6        v7        v8  \\\n",
       "0  1.335739  8.727474  C  3.921026   7.915266  2.599278  3.176895  0.012941   \n",
       "1       NaN       NaN  C       NaN   9.191265       NaN       NaN  2.301630   \n",
       "2  0.943877  5.310079  C  4.410969   5.326159  3.979592  3.928571  0.019645   \n",
       "3  0.797415  8.304757  C  4.225930  11.627438  2.097700  1.987549  0.171947   \n",
       "4       NaN       NaN  C       NaN        NaN       NaN       NaN       NaN   \n",
       "\n",
       "          v9       v10  ...      v122      v123      v124  v125      v126  \\\n",
       "0   9.999999  0.503281  ...  8.000000  1.989780  0.035754    AU  1.804126   \n",
       "1        NaN  1.312910  ...       NaN       NaN  0.598896    AF       NaN   \n",
       "2  12.666667  0.765864  ...  9.333333  2.477596  0.013452    AE  1.773709   \n",
       "3   8.965516  6.542669  ...  7.018256  1.812795  0.002267    CJ  1.415230   \n",
       "4        NaN  1.050328  ...       NaN       NaN       NaN     Z       NaN   \n",
       "\n",
       "       v127      v128  v129      v130      v131  \n",
       "0  3.113719  2.024285     0  0.636365  2.857144  \n",
       "1       NaN  1.957825     0       NaN       NaN  \n",
       "2  3.922193  1.120468     2  0.883118  1.176472  \n",
       "3  2.954381  1.990847     1  1.677108  1.034483  \n",
       "4       NaN       NaN     0       NaN       NaN  \n",
       "\n",
       "[5 rows x 131 columns]"
      ]
     },
     "execution_count": 15,
     "metadata": {},
     "output_type": "execute_result"
    }
   ],
   "source": [
    "X.head()"
   ]
  },
  {
   "cell_type": "code",
   "execution_count": 16,
   "metadata": {},
   "outputs": [
    {
     "data": {
      "text/html": [
       "<div>\n",
       "<style scoped>\n",
       "    .dataframe tbody tr th:only-of-type {\n",
       "        vertical-align: middle;\n",
       "    }\n",
       "\n",
       "    .dataframe tbody tr th {\n",
       "        vertical-align: top;\n",
       "    }\n",
       "\n",
       "    .dataframe thead th {\n",
       "        text-align: right;\n",
       "    }\n",
       "</style>\n",
       "<table border=\"1\" class=\"dataframe\">\n",
       "  <thead>\n",
       "    <tr style=\"text-align: right;\">\n",
       "      <th></th>\n",
       "      <th>v3_A</th>\n",
       "      <th>v3_B</th>\n",
       "      <th>v3_C</th>\n",
       "      <th>v3_NAN</th>\n",
       "      <th>v24_A</th>\n",
       "      <th>v24_B</th>\n",
       "      <th>v24_C</th>\n",
       "      <th>v24_D</th>\n",
       "      <th>v24_E</th>\n",
       "      <th>v30_A</th>\n",
       "      <th>...</th>\n",
       "      <th>v121</th>\n",
       "      <th>v122</th>\n",
       "      <th>v123</th>\n",
       "      <th>v124</th>\n",
       "      <th>v126</th>\n",
       "      <th>v127</th>\n",
       "      <th>v128</th>\n",
       "      <th>v129</th>\n",
       "      <th>v130</th>\n",
       "      <th>v131</th>\n",
       "    </tr>\n",
       "  </thead>\n",
       "  <tbody>\n",
       "    <tr>\n",
       "      <td>0</td>\n",
       "      <td>0.0</td>\n",
       "      <td>0.0</td>\n",
       "      <td>1.0</td>\n",
       "      <td>0.0</td>\n",
       "      <td>0.0</td>\n",
       "      <td>0.0</td>\n",
       "      <td>1.0</td>\n",
       "      <td>0.0</td>\n",
       "      <td>0.0</td>\n",
       "      <td>0.0</td>\n",
       "      <td>...</td>\n",
       "      <td>-1.750960</td>\n",
       "      <td>0.896493</td>\n",
       "      <td>-0.605014</td>\n",
       "      <td>-0.337299</td>\n",
       "      <td>0.413424</td>\n",
       "      <td>-0.004516</td>\n",
       "      <td>0.112555</td>\n",
       "      <td>-0.447372</td>\n",
       "      <td>-1.168806</td>\n",
       "      <td>1.383783</td>\n",
       "    </tr>\n",
       "    <tr>\n",
       "      <td>1</td>\n",
       "      <td>0.0</td>\n",
       "      <td>0.0</td>\n",
       "      <td>1.0</td>\n",
       "      <td>0.0</td>\n",
       "      <td>0.0</td>\n",
       "      <td>0.0</td>\n",
       "      <td>1.0</td>\n",
       "      <td>0.0</td>\n",
       "      <td>0.0</td>\n",
       "      <td>0.0</td>\n",
       "      <td>...</td>\n",
       "      <td>-0.165128</td>\n",
       "      <td>-0.030647</td>\n",
       "      <td>-0.227398</td>\n",
       "      <td>0.006585</td>\n",
       "      <td>-0.086113</td>\n",
       "      <td>-0.126661</td>\n",
       "      <td>0.031739</td>\n",
       "      <td>-0.447372</td>\n",
       "      <td>-0.213300</td>\n",
       "      <td>-0.098853</td>\n",
       "    </tr>\n",
       "    <tr>\n",
       "      <td>2</td>\n",
       "      <td>0.0</td>\n",
       "      <td>0.0</td>\n",
       "      <td>1.0</td>\n",
       "      <td>0.0</td>\n",
       "      <td>0.0</td>\n",
       "      <td>0.0</td>\n",
       "      <td>0.0</td>\n",
       "      <td>0.0</td>\n",
       "      <td>1.0</td>\n",
       "      <td>0.0</td>\n",
       "      <td>...</td>\n",
       "      <td>-0.356860</td>\n",
       "      <td>1.884745</td>\n",
       "      <td>-0.359227</td>\n",
       "      <td>-0.350918</td>\n",
       "      <td>0.333169</td>\n",
       "      <td>0.653389</td>\n",
       "      <td>-0.986483</td>\n",
       "      <td>2.437555</td>\n",
       "      <td>-0.913577</td>\n",
       "      <td>-0.581781</td>\n",
       "    </tr>\n",
       "    <tr>\n",
       "      <td>3</td>\n",
       "      <td>0.0</td>\n",
       "      <td>0.0</td>\n",
       "      <td>1.0</td>\n",
       "      <td>0.0</td>\n",
       "      <td>0.0</td>\n",
       "      <td>0.0</td>\n",
       "      <td>0.0</td>\n",
       "      <td>1.0</td>\n",
       "      <td>0.0</td>\n",
       "      <td>0.0</td>\n",
       "      <td>...</td>\n",
       "      <td>-0.631055</td>\n",
       "      <td>0.168835</td>\n",
       "      <td>-0.694188</td>\n",
       "      <td>-0.357747</td>\n",
       "      <td>-0.612689</td>\n",
       "      <td>-0.134179</td>\n",
       "      <td>0.071894</td>\n",
       "      <td>0.995092</td>\n",
       "      <td>-0.092312</td>\n",
       "      <td>-0.747838</td>\n",
       "    </tr>\n",
       "    <tr>\n",
       "      <td>4</td>\n",
       "      <td>0.0</td>\n",
       "      <td>0.0</td>\n",
       "      <td>1.0</td>\n",
       "      <td>0.0</td>\n",
       "      <td>0.0</td>\n",
       "      <td>0.0</td>\n",
       "      <td>0.0</td>\n",
       "      <td>0.0</td>\n",
       "      <td>1.0</td>\n",
       "      <td>0.0</td>\n",
       "      <td>...</td>\n",
       "      <td>-0.165128</td>\n",
       "      <td>-0.030647</td>\n",
       "      <td>-0.227398</td>\n",
       "      <td>-0.273724</td>\n",
       "      <td>-0.086113</td>\n",
       "      <td>-0.126661</td>\n",
       "      <td>-0.162077</td>\n",
       "      <td>-0.447372</td>\n",
       "      <td>-0.213300</td>\n",
       "      <td>-0.098853</td>\n",
       "    </tr>\n",
       "  </tbody>\n",
       "</table>\n",
       "<p>5 rows × 275 columns</p>\n",
       "</div>"
      ],
      "text/plain": [
       "   v3_A  v3_B  v3_C  v3_NAN  v24_A  v24_B  v24_C  v24_D  v24_E  v30_A  ...  \\\n",
       "0   0.0   0.0   1.0     0.0    0.0    0.0    1.0    0.0    0.0    0.0  ...   \n",
       "1   0.0   0.0   1.0     0.0    0.0    0.0    1.0    0.0    0.0    0.0  ...   \n",
       "2   0.0   0.0   1.0     0.0    0.0    0.0    0.0    0.0    1.0    0.0  ...   \n",
       "3   0.0   0.0   1.0     0.0    0.0    0.0    0.0    1.0    0.0    0.0  ...   \n",
       "4   0.0   0.0   1.0     0.0    0.0    0.0    0.0    0.0    1.0    0.0  ...   \n",
       "\n",
       "       v121      v122      v123      v124      v126      v127      v128  \\\n",
       "0 -1.750960  0.896493 -0.605014 -0.337299  0.413424 -0.004516  0.112555   \n",
       "1 -0.165128 -0.030647 -0.227398  0.006585 -0.086113 -0.126661  0.031739   \n",
       "2 -0.356860  1.884745 -0.359227 -0.350918  0.333169  0.653389 -0.986483   \n",
       "3 -0.631055  0.168835 -0.694188 -0.357747 -0.612689 -0.134179  0.071894   \n",
       "4 -0.165128 -0.030647 -0.227398 -0.273724 -0.086113 -0.126661 -0.162077   \n",
       "\n",
       "       v129      v130      v131  \n",
       "0 -0.447372 -1.168806  1.383783  \n",
       "1 -0.447372 -0.213300 -0.098853  \n",
       "2  2.437555 -0.913577 -0.581781  \n",
       "3  0.995092 -0.092312 -0.747838  \n",
       "4 -0.447372 -0.213300 -0.098853  \n",
       "\n",
       "[5 rows x 275 columns]"
      ]
     },
     "execution_count": 16,
     "metadata": {},
     "output_type": "execute_result"
    }
   ],
   "source": [
    "pd.DataFrame(X_prepared, columns=X_prepared_names).head()"
   ]
  },
  {
   "cell_type": "markdown",
   "metadata": {},
   "source": [
    " Данных немного, поэтому необходимо использовать 10-fold кросс-валидацию для оценки качества моделей.\n",
    " Построить случайный лес, вывести важность признаков"
   ]
  },
  {
   "cell_type": "code",
   "execution_count": 17,
   "metadata": {},
   "outputs": [],
   "source": [
    "rf_regressor = RandomForestRegressor(n_estimators=10, max_depth=10)"
   ]
  },
  {
   "cell_type": "code",
   "execution_count": 18,
   "metadata": {},
   "outputs": [
    {
     "name": "stderr",
     "output_type": "stream",
     "text": [
      "[Parallel(n_jobs=-1)]: Using backend LokyBackend with 4 concurrent workers.\n",
      "[Parallel(n_jobs=-1)]: Done   5 out of  10 | elapsed:  4.6min remaining:  4.6min\n",
      "[Parallel(n_jobs=-1)]: Done   7 out of  10 | elapsed:  4.6min remaining:  2.0min\n"
     ]
    },
    {
     "name": "stdout",
     "output_type": "stream",
     "text": [
      "Wall time: 6min 9s\n"
     ]
    },
    {
     "name": "stderr",
     "output_type": "stream",
     "text": [
      "[Parallel(n_jobs=-1)]: Done  10 out of  10 | elapsed:  6.2min finished\n"
     ]
    },
    {
     "data": {
      "text/plain": [
       "array([0.14975159, 0.14465412, 0.13996896, 0.15342286, 0.1502312 ,\n",
       "       0.14615376, 0.14218301, 0.1485105 , 0.14611086, 0.15267731])"
      ]
     },
     "execution_count": 18,
     "metadata": {},
     "output_type": "execute_result"
    }
   ],
   "source": [
    "%%time\n",
    "\n",
    "rf_cv_score = cross_val_score(rf_regressor, X_prepared, y, cv=10, verbose=10, n_jobs=-1)\n",
    "rf_cv_score"
   ]
  },
  {
   "cell_type": "code",
   "execution_count": 19,
   "metadata": {},
   "outputs": [
    {
     "name": "stdout",
     "output_type": "stream",
     "text": [
      "Mean RF score(SME): 0.14736641598135738\n"
     ]
    }
   ],
   "source": [
    "print(\"Mean RF score(SME):\", np.mean(rf_cv_score))"
   ]
  },
  {
   "cell_type": "code",
   "execution_count": 20,
   "metadata": {},
   "outputs": [
    {
     "name": "stdout",
     "output_type": "stream",
     "text": [
      "Wall time: 1min 31s\n"
     ]
    },
    {
     "data": {
      "text/plain": [
       "RandomForestRegressor(bootstrap=True, criterion='mse', max_depth=10,\n",
       "                      max_features='auto', max_leaf_nodes=None,\n",
       "                      min_impurity_decrease=0.0, min_impurity_split=None,\n",
       "                      min_samples_leaf=1, min_samples_split=2,\n",
       "                      min_weight_fraction_leaf=0.0, n_estimators=10,\n",
       "                      n_jobs=None, oob_score=False, random_state=None,\n",
       "                      verbose=0, warm_start=False)"
      ]
     },
     "execution_count": 20,
     "metadata": {},
     "output_type": "execute_result"
    }
   ],
   "source": [
    "%%time\n",
    "\n",
    "rf_regressor.fit(X_prepared, y)"
   ]
  },
  {
   "cell_type": "code",
   "execution_count": 21,
   "metadata": {},
   "outputs": [],
   "source": [
    "feature_importances_list = list(zip(X_prepared_names, rf_regressor.feature_importances_))\n",
    "feature_importances_list.sort(key=lambda x: x[1], reverse=True)"
   ]
  },
  {
   "cell_type": "code",
   "execution_count": 22,
   "metadata": {},
   "outputs": [
    {
     "data": {
      "image/png": "[encoded data removed]",
      "text/plain": [
       "<Figure size 432x288 with 1 Axes>"
      ]
     },
     "metadata": {
      "needs_background": "light"
     },
     "output_type": "display_data"
    }
   ],
   "source": [
    "feature_importance_columns=['Фича', 'Значимость']\n",
    "pd.DataFrame(feature_importances_list, columns=feature_importance_columns).head(15).plot.barh(*feature_importance_columns)\n",
    "plt.show()"
   ]
  },
  {
   "cell_type": "markdown",
   "metadata": {},
   "source": [
    " Обучить стекинг как минимум 3х моделей, использовать хотя бы 1 линейную модель и 1 нелинейную.\n",
    " Для валидации модели 2-го уровня использовать отдельный hold-out датасет, как на занятии"
   ]
  },
  {
   "cell_type": "code",
   "execution_count": 23,
   "metadata": {},
   "outputs": [],
   "source": [
    "class StackingCVRegressor(RegressorMixin, TransformerMixin):\n",
    "    \"\"\"Регрессор реализующий stacking стратегию ансамблирования.\n",
    "\n",
    "    Параметры\n",
    "    ----------\n",
    "    regressors : список регрессоров, вырабатывающих метапризнаки\n",
    "    meta_regressor : метарегрессор, вырабатывающий прогнозы на основе мета признаков\n",
    "    cv : int, количество разбиений при cv прогнозировании метапризнаков\n",
    "    shuffle : bool, optional (default: False)\n",
    "        Нужно ли перемешивать данные перед разбиением\n",
    "    random_state : int, (default: None)\n",
    "        Контролирует начальное состояние генератора случайных чисел для разбиения на фолды.\n",
    "        Используется только если shuffle=True\n",
    "    verbose : int, optional (default=0)\n",
    "        Трассирование процесса обучения\n",
    "    n_jobs : int or None, optional (default=None)\n",
    "        Количество процессоров на которых будет осуществляться обучения. -1 на всех доступных\n",
    "    \"\"\"\n",
    "\n",
    "    def __init__(self, regressors, meta_regressor, cv=5,\n",
    "                 shuffle=False, random_state=None, verbose=0,\n",
    "                 n_jobs=None):\n",
    "\n",
    "        self.regressors = regressors\n",
    "        self.meta_regressor = meta_regressor\n",
    "        self.cv = cv\n",
    "        self.shuffle = shuffle\n",
    "        self.random_state = random_state\n",
    "        self.verbose = verbose\n",
    "        self.n_jobs = n_jobs\n",
    "\n",
    "    def _print(self, msg, msg_args=None):\n",
    "        if not self.verbose:\n",
    "            return\n",
    "        if self.verbose < 50:\n",
    "            writer = sys.stderr.write\n",
    "        else:\n",
    "            writer = sys.stdout.write\n",
    "        msg = msg if msg_args is None else msg % msg_args\n",
    "        writer('[%s]: %s\\n' % (self, msg))\n",
    "        \n",
    "    def _cross_val_predict(self, regressor, X, y, cv):\n",
    "        self._print(\"Predict meta using ''%s' regressor\", regressor.__class__.__name__)\n",
    "        return cross_val_predict(regressor, X, y, cv=cv,\n",
    "                verbose=self.verbose, n_jobs=self.n_jobs)\n",
    "    \n",
    "    def fit(self, X, y):\n",
    "        # Для регресси выбираем обычный KFold\n",
    "        kfold = KFold(self.cv, self.shuffle, self.random_state)\n",
    "        \n",
    "        # Формируем признаки размерностью [n_samples, regressors_count]\n",
    "        meta_features = np.column_stack([\n",
    "            self._cross_val_predict(regressor, X, y, kfold)\n",
    "                    for regressor in self.regressors])\n",
    "\n",
    "        self._print(\"Fit meta regressor '%s'\", self.meta_regressor.__class__.__name__)\n",
    "        # Обучаем метарегрессор\n",
    "        self.meta_regressor.fit(meta_features, y)\n",
    "\n",
    "        self._print(\"Preparing regressors for further prediction\")\n",
    "        # Обучаем регрессоры на данных для того чтобы работал predict всей модели\n",
    "        for regressor in self.regressors:\n",
    "            self._print(\"prepare '%s' regressor\", regressor.__class__.__name__)\n",
    "            regressor.fit(X, y)\n",
    "\n",
    "        return self\n",
    "\n",
    "    def predict(self, X):\n",
    "        # Получаем метапризнаки\n",
    "        meta_features = np.column_stack([regressor.predict(X) for regressor in self.regressors])\n",
    "\n",
    "        # Скармливаем полученные признаки метамодели\n",
    "        return self.meta_regressor.predict(meta_features)\n",
    "\n"
   ]
  },
  {
   "cell_type": "code",
   "execution_count": 24,
   "metadata": {},
   "outputs": [],
   "source": [
    "X_train, X_val, y_train, y_val = train_test_split(X_prepared, y, test_size=0.2)"
   ]
  },
  {
   "cell_type": "code",
   "execution_count": 25,
   "metadata": {},
   "outputs": [],
   "source": [
    "# Регрессоры вырабатывающие мета фичи\n",
    "stacking_regressors = [\n",
    "    # Линейная регрессия с регулиризацией Лассо\n",
    "    Lasso(alpha=1.0),\n",
    "    # Обычный SVM\n",
    "    LinearSVR(C=1.0),\n",
    "    # Дерево решений\n",
    "    DecisionTreeRegressor(max_depth=10),\n",
    "    # Регрессия на основе ближайших соседей\n",
    "    KNeighborsRegressor(n_neighbors=5)\n",
    "]\n",
    "\n",
    "# Мета регрессор\n",
    "stacking_meta_regressor = SGDRegressor()"
   ]
  },
  {
   "cell_type": "code",
   "execution_count": 26,
   "metadata": {},
   "outputs": [
    {
     "name": "stderr",
     "output_type": "stream",
     "text": [
      "[<__main__.StackingCVRegressor object at 0x0000000005351048>]: Predict meta using ''Lasso' regressor\n",
      "[Parallel(n_jobs=-1)]: Using backend LokyBackend with 4 concurrent workers.\n",
      "[Parallel(n_jobs=-1)]: Done   5 out of  10 | elapsed:    4.1s remaining:    4.1s\n",
      "[Parallel(n_jobs=-1)]: Done   7 out of  10 | elapsed:    4.2s remaining:    1.7s\n",
      "[Parallel(n_jobs=-1)]: Done  10 out of  10 | elapsed:    5.6s finished\n",
      "[<__main__.StackingCVRegressor object at 0x0000000005351048>]: Predict meta using ''LinearSVR' regressor\n",
      "[Parallel(n_jobs=-1)]: Using backend LokyBackend with 4 concurrent workers.\n",
      "[Parallel(n_jobs=-1)]: Done   5 out of  10 | elapsed:  2.7min remaining:  2.7min\n",
      "[Parallel(n_jobs=-1)]: Done   7 out of  10 | elapsed:  2.8min remaining:  1.2min\n",
      "[Parallel(n_jobs=-1)]: Done  10 out of  10 | elapsed:  3.8min finished\n",
      "[<__main__.StackingCVRegressor object at 0x0000000005351048>]: Predict meta using ''DecisionTreeRegressor' regressor\n",
      "[Parallel(n_jobs=-1)]: Using backend LokyBackend with 4 concurrent workers.\n",
      "[Parallel(n_jobs=-1)]: Done   5 out of  10 | elapsed:   33.0s remaining:   33.0s\n",
      "[Parallel(n_jobs=-1)]: Done   7 out of  10 | elapsed:   34.5s remaining:   14.7s\n",
      "[Parallel(n_jobs=-1)]: Done  10 out of  10 | elapsed:   45.5s finished\n",
      "[<__main__.StackingCVRegressor object at 0x0000000005351048>]: Predict meta using ''KNeighborsRegressor' regressor\n",
      "[Parallel(n_jobs=-1)]: Using backend LokyBackend with 4 concurrent workers.\n",
      "[Parallel(n_jobs=-1)]: Done   5 out of  10 | elapsed:   18.7s remaining:   18.7s\n",
      "[Parallel(n_jobs=-1)]: Done   7 out of  10 | elapsed:   19.1s remaining:    8.1s\n",
      "[Parallel(n_jobs=-1)]: Done  10 out of  10 | elapsed:   25.2s finished\n",
      "[<__main__.StackingCVRegressor object at 0x0000000005351048>]: Fit meta regressor 'SGDRegressor'\n",
      "[<__main__.StackingCVRegressor object at 0x0000000005351048>]: Preparing regressors for further prediction\n",
      "[<__main__.StackingCVRegressor object at 0x0000000005351048>]: prepare 'Lasso' regressor\n",
      "[<__main__.StackingCVRegressor object at 0x0000000005351048>]: prepare 'LinearSVR' regressor\n",
      "C:\\Users\\gvs\\Anaconda3\\lib\\site-packages\\sklearn\\svm\\base.py:929: ConvergenceWarning: Liblinear failed to converge, increase the number of iterations.\n",
      "  \"the number of iterations.\", ConvergenceWarning)\n",
      "[<__main__.StackingCVRegressor object at 0x0000000005351048>]: prepare 'DecisionTreeRegressor' regressor\n",
      "[<__main__.StackingCVRegressor object at 0x0000000005351048>]: prepare 'KNeighborsRegressor' regressor\n"
     ]
    },
    {
     "name": "stdout",
     "output_type": "stream",
     "text": [
      "Wall time: 6min 22s\n"
     ]
    },
    {
     "data": {
      "text/plain": [
       "<__main__.StackingCVRegressor at 0x5351048>"
      ]
     },
     "execution_count": 26,
     "metadata": {},
     "output_type": "execute_result"
    }
   ],
   "source": [
    "%%time\n",
    "\n",
    "stk_regressor = StackingCVRegressor(stacking_regressors, stacking_meta_regressor, cv=10, verbose=10, n_jobs=-1)\n",
    "stk_regressor.fit(X_train, y_train)"
   ]
  },
  {
   "cell_type": "markdown",
   "metadata": {},
   "source": [
    " Показать, что использование ансамблей моделей действительно улучшает качество (стекинг vs другие модели сравнивать на hold-out)"
   ]
  },
  {
   "cell_type": "code",
   "execution_count": 27,
   "metadata": {},
   "outputs": [
    {
     "name": "stdout",
     "output_type": "stream",
     "text": [
      "Wall time: 10.7 s\n"
     ]
    }
   ],
   "source": [
    "%%time\n",
    "\n",
    "regressors_quality = [(regressor.__class__.__name__, mean_squared_error(y_val, regressor.predict(X_val)))\n",
    "                      for regressor in [stk_regressor, *stacking_regressors]]"
   ]
  },
  {
   "cell_type": "code",
   "execution_count": 28,
   "metadata": {},
   "outputs": [
    {
     "data": {
      "text/html": [
       "<div>\n",
       "<style scoped>\n",
       "    .dataframe tbody tr th:only-of-type {\n",
       "        vertical-align: middle;\n",
       "    }\n",
       "\n",
       "    .dataframe tbody tr th {\n",
       "        vertical-align: top;\n",
       "    }\n",
       "\n",
       "    .dataframe thead th {\n",
       "        text-align: right;\n",
       "    }\n",
       "</style>\n",
       "<table border=\"1\" class=\"dataframe\">\n",
       "  <thead>\n",
       "    <tr style=\"text-align: right;\">\n",
       "      <th></th>\n",
       "      <th>Регрессор</th>\n",
       "      <th>MSE</th>\n",
       "    </tr>\n",
       "  </thead>\n",
       "  <tbody>\n",
       "    <tr>\n",
       "      <td>0</td>\n",
       "      <td>StackingCVRegressor</td>\n",
       "      <td>0.160463</td>\n",
       "    </tr>\n",
       "    <tr>\n",
       "      <td>1</td>\n",
       "      <td>Lasso</td>\n",
       "      <td>0.180854</td>\n",
       "    </tr>\n",
       "    <tr>\n",
       "      <td>2</td>\n",
       "      <td>LinearSVR</td>\n",
       "      <td>0.205864</td>\n",
       "    </tr>\n",
       "    <tr>\n",
       "      <td>3</td>\n",
       "      <td>DecisionTreeRegressor</td>\n",
       "      <td>0.164679</td>\n",
       "    </tr>\n",
       "    <tr>\n",
       "      <td>4</td>\n",
       "      <td>KNeighborsRegressor</td>\n",
       "      <td>0.207384</td>\n",
       "    </tr>\n",
       "  </tbody>\n",
       "</table>\n",
       "</div>"
      ],
      "text/plain": [
       "               Регрессор       MSE\n",
       "0    StackingCVRegressor  0.160463\n",
       "1                  Lasso  0.180854\n",
       "2              LinearSVR  0.205864\n",
       "3  DecisionTreeRegressor  0.164679\n",
       "4    KNeighborsRegressor  0.207384"
      ]
     },
     "execution_count": 28,
     "metadata": {},
     "output_type": "execute_result"
    }
   ],
   "source": [
    "pd.DataFrame(regressors_quality, columns=['Регрессор', 'MSE'])"
   ]
  },
  {
   "cell_type": "markdown",
   "metadata": {},
   "source": [
    "По результирующей таблице видим что stacking в целом улучшает качество ансамбля по отношению к отдельным моделям."
   ]
  },
  {
   "cell_type": "markdown",
   "metadata": {},
   "source": [
    " В качестве решения: Jupyter notebook с кодом, комментариями и графиками, ссылка на гитхаб"
   ]
  }
 ],
 "metadata": {
  "file_extension": ".py",
  "kernelspec": {
   "display_name": "Python 3",
   "language": "python",
   "name": "python3"
  },
  "language_info": {
   "codemirror_mode": {
    "name": "ipython",
    "version": 3
   },
   "file_extension": ".py",
   "mimetype": "text/x-python",
   "name": "python",
   "nbconvert_exporter": "python",
   "pygments_lexer": "ipython3",
   "version": "3.7.4"
  },
  "mimetype": "text/x-python",
  "name": "python",
  "npconvert_exporter": "python",
  "pygments_lexer": "ipython3",
  "version": 3
 },
 "nbformat": 4,
 "nbformat_minor": 2
}
