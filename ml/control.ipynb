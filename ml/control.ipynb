{
 "cells": [
  {
   "cell_type": "markdown",
   "metadata": {},
   "source": [
    "  Мы владеем сетью магазинов, в которых продаются различные товары. Наши сотрудники\n",
    "  собрали датасет из 8523 продаж товаров в различных магазинах нашей сети. Наша задача\n",
    "  построить модель, предсказывающую продажи каждого продукта в конкретном магазине.\n",
    "  Используя эту модель, попробовать выявить факторы, больше всего влияющие на увеличение\n",
    "  продаж. Описание датасета:\n",
    "\n",
    " | Variable | Description |\n",
    " | -------- |-------------|\n",
    " | Item_Identifier | Id продукта |\n",
    " | Item_Weight | Вес продукта |\n",
    " | Item_Fat_Content | Содержание жира в продукте|\n",
    " | Item_Visibility | %полок, отведенный под наш продукт в конкретном магазине |\n",
    " | Item_Type | Категория продукта |\n",
    " | Item_MRP | Максимальная цена продажи продукта |\n",
    " | Outlet_Identifier | Идентификатор магазина |\n",
    " | Outlet_Establishment_Year | Год открытия магазина |\n",
    " | Outlet_Size | Площадь магазина |\n",
    " | Outlet_Location_Type | Тип города, в котором расположен магазин |\n",
    " | Outlet_Type | Признак является ли магазин продуктовым или супермаркетом |\n",
    " | Item_Outlet_Sales | Продажи продукта в конкретном магазине. Именно ее и надо предсказывать |\n",
    "\n",
    "  В результате работы должен получиться:\n",
    "  + Jupyter-ноутбук с моделью\n",
    "  + Признаки, влияющие больше всего на уровень продаж\n",
    "  + Датасет, если после ваших манипуляций он отличается от исходного;\n",
    "  + Документ с обоснованием решения и краткими результатами: какие техники и почему\n",
    "    использовали, что получили, что можно улучшить (можно в рамках jupyter notebook’а)"
   ]
  },
  {
   "cell_type": "code",
   "execution_count": 1,
   "metadata": {},
   "outputs": [],
   "source": [
    "import warnings\n",
    "warnings.filterwarnings(\"ignore\")"
   ]
  },
  {
   "cell_type": "code",
   "execution_count": 2,
   "metadata": {},
   "outputs": [],
   "source": [
    "import pandas as pd\n",
    "import numpy as np\n",
    "from datetime import datetime\n",
    "from sklearn.compose import make_column_transformer\n",
    "from sklearn.impute import SimpleImputer\n",
    "from sklearn.preprocessing import OneHotEncoder, StandardScaler\n",
    "from sklearn.pipeline import make_pipeline\n",
    "from sklearn.model_selection import train_test_split, GridSearchCV\n",
    "from sklearn.tree import DecisionTreeRegressor\n",
    "from sklearn.ensemble import AdaBoostRegressor, ExtraTreesRegressor, GradientBoostingRegressor, RandomForestRegressor\n",
    "from sklearn.metrics import r2_score, mean_squared_error\n",
    "import matplotlib.pyplot as plt\n",
    "%matplotlib inline"
   ]
  },
  {
   "cell_type": "code",
   "execution_count": 3,
   "metadata": {},
   "outputs": [],
   "source": [
    "data = pd.read_csv(\"./data.csv\")"
   ]
  },
  {
   "cell_type": "code",
   "execution_count": 4,
   "metadata": {},
   "outputs": [
    {
     "name": "stdout",
     "output_type": "stream",
     "text": [
      "<class 'pandas.core.frame.DataFrame'>\n",
      "RangeIndex: 8523 entries, 0 to 8522\n",
      "Data columns (total 12 columns):\n",
      "Item_Identifier              8523 non-null object\n",
      "Item_Weight                  7060 non-null float64\n",
      "Item_Fat_Content             8523 non-null object\n",
      "Item_Visibility              8523 non-null float64\n",
      "Item_Type                    8523 non-null object\n",
      "Item_MRP                     8523 non-null float64\n",
      "Outlet_Identifier            8523 non-null object\n",
      "Outlet_Establishment_Year    8523 non-null int64\n",
      "Outlet_Size                  6113 non-null object\n",
      "Outlet_Location_Type         8523 non-null object\n",
      "Outlet_Type                  8523 non-null object\n",
      "Item_Outlet_Sales            8523 non-null float64\n",
      "dtypes: float64(4), int64(1), object(7)\n",
      "memory usage: 799.1+ KB\n"
     ]
    }
   ],
   "source": [
    "data.info()"
   ]
  },
  {
   "cell_type": "markdown",
   "metadata": {},
   "source": [
    "В данных есть пустые значения Item_Weight и Outlet_Size. Второе поле нечислового типа. Посмотрим на нечисловые поля (на их значения)"
   ]
  },
  {
   "cell_type": "code",
   "execution_count": 5,
   "metadata": {},
   "outputs": [
    {
     "data": {
      "text/html": [
       "<div>\n",
       "<style scoped>\n",
       "    .dataframe tbody tr th:only-of-type {\n",
       "        vertical-align: middle;\n",
       "    }\n",
       "\n",
       "    .dataframe tbody tr th {\n",
       "        vertical-align: top;\n",
       "    }\n",
       "\n",
       "    .dataframe thead th {\n",
       "        text-align: right;\n",
       "    }\n",
       "</style>\n",
       "<table border=\"1\" class=\"dataframe\">\n",
       "  <thead>\n",
       "    <tr style=\"text-align: right;\">\n",
       "      <th></th>\n",
       "      <th>Column name</th>\n",
       "      <th>Unique values count</th>\n",
       "    </tr>\n",
       "  </thead>\n",
       "  <tbody>\n",
       "    <tr>\n",
       "      <th>0</th>\n",
       "      <td>Item_Identifier</td>\n",
       "      <td>1559</td>\n",
       "    </tr>\n",
       "    <tr>\n",
       "      <th>1</th>\n",
       "      <td>Item_Fat_Content</td>\n",
       "      <td>5</td>\n",
       "    </tr>\n",
       "    <tr>\n",
       "      <th>2</th>\n",
       "      <td>Item_Type</td>\n",
       "      <td>16</td>\n",
       "    </tr>\n",
       "    <tr>\n",
       "      <th>3</th>\n",
       "      <td>Outlet_Identifier</td>\n",
       "      <td>10</td>\n",
       "    </tr>\n",
       "    <tr>\n",
       "      <th>4</th>\n",
       "      <td>Outlet_Size</td>\n",
       "      <td>4</td>\n",
       "    </tr>\n",
       "    <tr>\n",
       "      <th>5</th>\n",
       "      <td>Outlet_Location_Type</td>\n",
       "      <td>3</td>\n",
       "    </tr>\n",
       "    <tr>\n",
       "      <th>6</th>\n",
       "      <td>Outlet_Type</td>\n",
       "      <td>4</td>\n",
       "    </tr>\n",
       "  </tbody>\n",
       "</table>\n",
       "</div>"
      ],
      "text/plain": [
       "            Column name  Unique values count\n",
       "0       Item_Identifier                 1559\n",
       "1      Item_Fat_Content                    5\n",
       "2             Item_Type                   16\n",
       "3     Outlet_Identifier                   10\n",
       "4           Outlet_Size                    4\n",
       "5  Outlet_Location_Type                    3\n",
       "6           Outlet_Type                    4"
      ]
     },
     "execution_count": 5,
     "metadata": {},
     "output_type": "execute_result"
    }
   ],
   "source": [
    "df_objects = data[data.select_dtypes(np.object).columns]\n",
    "pd.DataFrame(\n",
    "    [(c, len(df_objects[c].unique())) for c in df_objects.columns],\n",
    "    columns=[\"Column name\", \"Unique values count\"])"
   ]
  },
  {
   "cell_type": "markdown",
   "metadata": {},
   "source": [
    " Идентификатор продукта(Item_Identifier) и идентификатор магазина(Outlet_Identifier) прокидывать смысла нет, т.к. они не несут для модели какую-то ценность."
   ]
  },
  {
   "cell_type": "code",
   "execution_count": 6,
   "metadata": {},
   "outputs": [],
   "source": [
    "df_target_column = 'Item_Outlet_Sales'\n",
    "df_identifier_columns = ['Item_Identifier', 'Outlet_Identifier']\n",
    "df_numeric_columns = ['Item_Visibility', 'Item_MRP', 'Outlet_Establishment_Year']\n",
    "df_numeric_columns_with_null = ['Item_Weight']\n",
    "df_enum_columns = ['Item_Fat_Content', 'Item_Type', 'Outlet_Location_Type', 'Outlet_Type']\n",
    "df_enum_columns_with_null = ['Outlet_Size']"
   ]
  },
  {
   "cell_type": "code",
   "execution_count": 7,
   "metadata": {},
   "outputs": [
    {
     "data": {
      "text/plain": [
       "<matplotlib.axes._subplots.AxesSubplot at 0x277fcd26940>"
      ]
     },
     "execution_count": 7,
     "metadata": {},
     "output_type": "execute_result"
    },
    {
     "data": {
      "image/png": "[encoded data removed]",
      "text/plain": [
       "<Figure size 432x288 with 1 Axes>"
      ]
     },
     "metadata": {
      "needs_background": "light"
     },
     "output_type": "display_data"
    }
   ],
   "source": [
    "data.Item_Weight.hist()"
   ]
  },
  {
   "cell_type": "code",
   "execution_count": 8,
   "metadata": {},
   "outputs": [
    {
     "data": {
      "text/plain": [
       "Medium    2793\n",
       "NaN       2410\n",
       "Small     2388\n",
       "High       932\n",
       "Name: Outlet_Size, dtype: int64"
      ]
     },
     "execution_count": 8,
     "metadata": {},
     "output_type": "execute_result"
    }
   ],
   "source": [
    "data.Outlet_Size.value_counts(dropna=False)"
   ]
  },
  {
   "cell_type": "markdown",
   "metadata": {},
   "source": [
    "В качестве заполнителя пустых ячеек для Item_Weight выберем среднее, а для Outlet_Size введем отдельное значение Unknown"
   ]
  },
  {
   "cell_type": "code",
   "execution_count": 9,
   "metadata": {},
   "outputs": [],
   "source": [
    "converter = make_pipeline(\n",
    "    make_column_transformer(\n",
    "        ('passthrough', df_numeric_columns),\n",
    "        (SimpleImputer(strategy='mean'), df_numeric_columns_with_null),\n",
    "        (OneHotEncoder(sparse=False), df_enum_columns),\n",
    "        (make_pipeline(\n",
    "            SimpleImputer(strategy='constant', fill_value='Unknown'),\n",
    "            OneHotEncoder(sparse=False)\n",
    "            ), df_enum_columns_with_null)\n",
    "    ),\n",
    "    StandardScaler()\n",
    ")"
   ]
  },
  {
   "cell_type": "code",
   "execution_count": 10,
   "metadata": {},
   "outputs": [],
   "source": [
    "converted_data = converter.fit_transform(data)"
   ]
  },
  {
   "cell_type": "code",
   "execution_count": 11,
   "metadata": {},
   "outputs": [
    {
     "data": {
      "text/plain": [
       "(8523, 36)"
      ]
     },
     "execution_count": 11,
     "metadata": {},
     "output_type": "execute_result"
    }
   ],
   "source": [
    "converted_data.shape"
   ]
  },
  {
   "cell_type": "markdown",
   "metadata": {},
   "source": [
    "Также потребуются имена полученных столбцов для дальнейшего анализа"
   ]
  },
  {
   "cell_type": "code",
   "execution_count": 12,
   "metadata": {},
   "outputs": [
    {
     "name": "stdout",
     "output_type": "stream",
     "text": [
      "['Item_Visibility', 'Item_MRP', 'Outlet_Establishment_Year', 'Item_Weight', 'Item_Fat_Content_LF', 'Item_Fat_Content_Low Fat', 'Item_Fat_Content_Regular', 'Item_Fat_Content_low fat', 'Item_Fat_Content_reg', 'Item_Type_Baking Goods', 'Item_Type_Breads', 'Item_Type_Breakfast', 'Item_Type_Canned', 'Item_Type_Dairy', 'Item_Type_Frozen Foods', 'Item_Type_Fruits and Vegetables', 'Item_Type_Hard Drinks', 'Item_Type_Health and Hygiene', 'Item_Type_Household', 'Item_Type_Meat', 'Item_Type_Others', 'Item_Type_Seafood', 'Item_Type_Snack Foods', 'Item_Type_Soft Drinks', 'Item_Type_Starchy Foods', 'Outlet_Location_Type_Tier 1', 'Outlet_Location_Type_Tier 2', 'Outlet_Location_Type_Tier 3', 'Outlet_Type_Grocery Store', 'Outlet_Type_Supermarket Type1', 'Outlet_Type_Supermarket Type2', 'Outlet_Type_Supermarket Type3', 'Outlet_Size_High', 'Outlet_Size_Medium', 'Outlet_Size_Small', 'Outlet_Size_Unknown']\n"
     ]
    }
   ],
   "source": [
    "inner_column_transformer = converter.named_steps['columntransformer']\n",
    "converted_data_columns = df_numeric_columns + df_numeric_columns_with_null\n",
    "converted_data_columns.extend(inner_column_transformer.named_transformers_['onehotencoder'].get_feature_names(df_enum_columns))\n",
    "converted_data_columns.extend(inner_column_transformer.named_transformers_['pipeline'].named_steps['onehotencoder'].get_feature_names(df_enum_columns_with_null))\n",
    "print(converted_data_columns)"
   ]
  },
  {
   "cell_type": "markdown",
   "metadata": {},
   "source": [
    "Делим данные на тренировочные и тестовые в соотношении 80/20"
   ]
  },
  {
   "cell_type": "code",
   "execution_count": 13,
   "metadata": {},
   "outputs": [],
   "source": [
    "X_train, X_val, y_train, y_val = train_test_split(converted_data, data[df_target_column], test_size=0.2)"
   ]
  },
  {
   "cell_type": "markdown",
   "metadata": {},
   "source": [
    "Далее нужно построить регрессионную модель. Модель должна кроме предсказания давать информацию о степени влияния параметра на результат. Модели на основе деревьев подходят по описанным критериям. В качестве метрики логично использовать mse. Также будем подбирать гиперпараметры решетчатым поиском."
   ]
  },
  {
   "cell_type": "code",
   "execution_count": 14,
   "metadata": {},
   "outputs": [],
   "source": [
    "models = [\n",
    "    (DecisionTreeRegressor(), [dict(), dict(\n",
    "        criterion=['mse', 'friedman_mse'],\n",
    "        splitter = ['best', 'random'],\n",
    "        max_depth = [None, 100, 500, 1000],\n",
    "        min_samples_split = [2, 4, 8],\n",
    "        min_samples_leaf = [1, 2, 3]\n",
    "    )]),\n",
    "    (AdaBoostRegressor(), [dict(), dict(\n",
    "        n_estimators=[50, 100, 200, 500],\n",
    "        learning_rate=[1.0, 5.0, 10.],\n",
    "        loss=['linear', 'square', 'exponential']\n",
    "    )]),\n",
    "    (ExtraTreesRegressor(), [dict(), dict(\n",
    "        n_estimators=[50, 100, 200, 500],\n",
    "        max_depth = [None, 10, 20, 50],\n",
    "        min_samples_split = [2, 4, 8],\n",
    "        min_samples_leaf = [1, 2, 3]\n",
    "    )]),\n",
    "    (GradientBoostingRegressor(), [dict(), dict(\n",
    "        n_estimators=[10, 100, 500],\n",
    "        loss=['ls', 'lad', 'huber', 'quantile'],\n",
    "        learning_rate=[0.1, 0.2, 1.],\n",
    "        criterion=['mse', 'friedman_mse'],\n",
    "    )]),\n",
    "    (RandomForestRegressor(), [dict(), dict(\n",
    "        n_estimators=[10, 100, 500],\n",
    "        max_depth = [None, 10, 20, 50],\n",
    "        min_samples_split = [2, 4, 8],\n",
    "        min_samples_leaf = [1, 2, 3]\n",
    "    )]),\n",
    "]"
   ]
  },
  {
   "cell_type": "code",
   "execution_count": 15,
   "metadata": {
    "scrolled": true
   },
   "outputs": [
    {
     "name": "stderr",
     "output_type": "stream",
     "text": [
      "C:\\Users\\Gordeychik\\AppData\\Local\\Continuum\\anaconda3\\lib\\site-packages\\sklearn\\model_selection\\_search.py:841: DeprecationWarning: The default of the `iid` parameter will change from True to False in version 0.22 and will be removed in 0.24. This will change numeric results when test-set sizes are unequal.\n",
      "  DeprecationWarning)\n"
     ]
    }
   ],
   "source": [
    "results = []\n",
    "for estimator, params in models:\n",
    "    start = datetime.now()\n",
    "    gs = GridSearchCV(estimator, params, cv=5, scoring='neg_mean_squared_error', n_jobs=-1, verbose=0)\n",
    "    gs.fit(X_train, y_train)\n",
    "    end = datetime.now()\n",
    "    y_pred = gs.predict(X_val)\n",
    "    r2, mse = r2_score(y_val, y_pred), mean_squared_error(y_val, y_pred)\n",
    "    results.append((gs.best_estimator_, gs.best_params_, r2, mse, end - start))"
   ]
  },
  {
   "cell_type": "code",
   "execution_count": 16,
   "metadata": {},
   "outputs": [
    {
     "data": {
      "text/html": [
       "<div>\n",
       "<style scoped>\n",
       "    .dataframe tbody tr th:only-of-type {\n",
       "        vertical-align: middle;\n",
       "    }\n",
       "\n",
       "    .dataframe tbody tr th {\n",
       "        vertical-align: top;\n",
       "    }\n",
       "\n",
       "    .dataframe thead th {\n",
       "        text-align: right;\n",
       "    }\n",
       "</style>\n",
       "<table border=\"1\" class=\"dataframe\">\n",
       "  <thead>\n",
       "    <tr style=\"text-align: right;\">\n",
       "      <th></th>\n",
       "      <th>estimator</th>\n",
       "      <th>best params</th>\n",
       "      <th>r2</th>\n",
       "      <th>mse</th>\n",
       "      <th>time</th>\n",
       "    </tr>\n",
       "  </thead>\n",
       "  <tbody>\n",
       "    <tr>\n",
       "      <th>3</th>\n",
       "      <td>GradientBoostingRegressor</td>\n",
       "      <td>{'criterion': 'mse', 'learning_rate': 0.1, 'lo...</td>\n",
       "      <td>0.582088</td>\n",
       "      <td>1.191422e+06</td>\n",
       "      <td>00:01:35.568409</td>\n",
       "    </tr>\n",
       "    <tr>\n",
       "      <th>4</th>\n",
       "      <td>RandomForestRegressor</td>\n",
       "      <td>{'max_depth': 10, 'min_samples_leaf': 3, 'min_...</td>\n",
       "      <td>0.567638</td>\n",
       "      <td>1.232617e+06</td>\n",
       "      <td>00:06:42.520634</td>\n",
       "    </tr>\n",
       "    <tr>\n",
       "      <th>2</th>\n",
       "      <td>ExtraTreesRegressor</td>\n",
       "      <td>{'max_depth': 10, 'min_samples_leaf': 3, 'min_...</td>\n",
       "      <td>0.566139</td>\n",
       "      <td>1.236892e+06</td>\n",
       "      <td>00:08:30.251478</td>\n",
       "    </tr>\n",
       "    <tr>\n",
       "      <th>0</th>\n",
       "      <td>DecisionTreeRegressor</td>\n",
       "      <td>{'criterion': 'mse', 'max_depth': None, 'min_s...</td>\n",
       "      <td>0.391432</td>\n",
       "      <td>1.734962e+06</td>\n",
       "      <td>00:00:12.131319</td>\n",
       "    </tr>\n",
       "    <tr>\n",
       "      <th>1</th>\n",
       "      <td>AdaBoostRegressor</td>\n",
       "      <td>{}</td>\n",
       "      <td>0.376827</td>\n",
       "      <td>1.776600e+06</td>\n",
       "      <td>00:00:29.870987</td>\n",
       "    </tr>\n",
       "  </tbody>\n",
       "</table>\n",
       "</div>"
      ],
      "text/plain": [
       "                   estimator  \\\n",
       "3  GradientBoostingRegressor   \n",
       "4      RandomForestRegressor   \n",
       "2        ExtraTreesRegressor   \n",
       "0      DecisionTreeRegressor   \n",
       "1          AdaBoostRegressor   \n",
       "\n",
       "                                         best params        r2           mse  \\\n",
       "3  {'criterion': 'mse', 'learning_rate': 0.1, 'lo...  0.582088  1.191422e+06   \n",
       "4  {'max_depth': 10, 'min_samples_leaf': 3, 'min_...  0.567638  1.232617e+06   \n",
       "2  {'max_depth': 10, 'min_samples_leaf': 3, 'min_...  0.566139  1.236892e+06   \n",
       "0  {'criterion': 'mse', 'max_depth': None, 'min_s...  0.391432  1.734962e+06   \n",
       "1                                                 {}  0.376827  1.776600e+06   \n",
       "\n",
       "             time  \n",
       "3 00:01:35.568409  \n",
       "4 00:06:42.520634  \n",
       "2 00:08:30.251478  \n",
       "0 00:00:12.131319  \n",
       "1 00:00:29.870987  "
      ]
     },
     "execution_count": 16,
     "metadata": {},
     "output_type": "execute_result"
    }
   ],
   "source": [
    "df_results = [(r[0].__class__.__name__, r[1], r[2], r[3], r[4]) for r in results]\n",
    "pd.DataFrame(df_results, columns=['estimator', 'best params', 'r2', 'mse', 'time']).sort_values(by=['mse'], ascending=True)"
   ]
  },
  {
   "cell_type": "code",
   "execution_count": 17,
   "metadata": {},
   "outputs": [],
   "source": [
    "best_model_tuple = min(results, key=lambda x: x[3])\n",
    "best_model = best_model_tuple[0]"
   ]
  },
  {
   "cell_type": "code",
   "execution_count": 18,
   "metadata": {},
   "outputs": [
    {
     "data": {
      "image/png": "[encoded data removed]",
      "text/plain": [
       "<Figure size 432x288 with 1 Axes>"
      ]
     },
     "metadata": {
      "needs_background": "light"
     },
     "output_type": "display_data"
    }
   ],
   "source": [
    "feature_importances_list = list(zip(converted_data_columns, best_model.feature_importances_))\n",
    "feature_importances_list.sort(key=lambda x: x[1], reverse=True)\n",
    "\n",
    "feature_importance_columns=['Фича', 'Значимость']\n",
    "pd.DataFrame(feature_importances_list, columns=feature_importance_columns).head(15).plot.barh(*feature_importance_columns)\n",
    "plt.show()"
   ]
  },
  {
   "cell_type": "code",
   "execution_count": 19,
   "metadata": {},
   "outputs": [
    {
     "data": {
      "text/plain": [
       "Supermarket Type1    5577\n",
       "Grocery Store        1083\n",
       "Supermarket Type3     935\n",
       "Supermarket Type2     928\n",
       "Name: Outlet_Type, dtype: int64"
      ]
     },
     "execution_count": 19,
     "metadata": {},
     "output_type": "execute_result"
    }
   ],
   "source": [
    "data.Outlet_Type.value_counts()"
   ]
  },
  {
   "cell_type": "markdown",
   "metadata": {},
   "source": [
    "Как показывает самая удачная получившаяся модель что самыми значимыми параметрами влияющие на продажи являются максимальная цена продажи продукта (Item_MRP) и тип магазина (Outlet_Type), а именно магазины типа Grocery Store. Остальные признаки имеют очень маленький вклад."
   ]
  }
 ],
 "metadata": {
  "file_extension": ".py",
  "kernelspec": {
   "display_name": "Python 3",
   "language": "python",
   "name": "python3"
  },
  "language_info": {
   "codemirror_mode": {
    "name": "ipython",
    "version": 3
   },
   "file_extension": ".py",
   "mimetype": "text/x-python",
   "name": "python",
   "nbconvert_exporter": "python",
   "pygments_lexer": "ipython3",
   "version": "3.7.3"
  },
  "mimetype": "text/x-python",
  "name": "python",
  "npconvert_exporter": "python",
  "pygments_lexer": "ipython3",
  "version": 3
 },
 "nbformat": 4,
 "nbformat_minor": 2
}
