{
 "cells": [
  {
   "cell_type": "markdown",
   "metadata": {},
   "source": [
    " Даны 2 строки long_phrase и short_phrase. Напишите код, который проверяет действительно ли длинная фраза long_phrase длиннее короткой short_phrase. И выводит True или False в зависимости от результата сравнения."
   ]
  },
  {
   "cell_type": "code",
   "execution_count": 39,
   "metadata": {},
   "outputs": [
    {
     "name": "stdout",
     "output_type": "stream",
     "text": [
      "True\n"
     ]
    }
   ],
   "source": [
    "long_phrase = 'Насколько проще было бы писать программы, если бы не заказчики'\n",
    "short_phrase = '640Кб должно хватить для любых задач. Билл Гейтс (по легенде)'\n",
    "\n",
    "print(len(long_phrase) > len(short_phrase))\n"
   ]
  },
  {
   "cell_type": "markdown",
   "metadata": {},
   "source": [
    " Дана строка text. Определите какая из двух букв встречается в нем чаще - 'а' или 'и'."
   ]
  },
  {
   "cell_type": "code",
   "execution_count": 40,
   "metadata": {},
   "outputs": [
    {
     "name": "stdout",
     "output_type": "stream",
     "text": [
      "Чаще встречается буква 'а'\n"
     ]
    }
   ],
   "source": [
    "text = 'Если программист в 9-00 утра на работе, значит, он там и ночевал'\n",
    "\n",
    "cnt = lambda s, a, b : s.count(a) > s.count(b)\n",
    "letter_a = 'а'\n",
    "letter_b = 'и'\n",
    "print(\"Чаще встречается буква '\" + (letter_a if cnt(text, letter_a, letter_b) else letter_b) + \"'\")\n"
   ]
  },
  {
   "cell_type": "markdown",
   "metadata": {},
   "source": [
    " Дано значение объема файла в байтах. Напишите перевод этого значения в мегабайты в формате:\n",
    " 'Объем файла равен 213.68Mb'"
   ]
  },
  {
   "cell_type": "code",
   "execution_count": 41,
   "metadata": {},
   "outputs": [
    {
     "name": "stdout",
     "output_type": "stream",
     "text": [
      "Объем файла равен 1.5Мб\n"
     ]
    }
   ],
   "source": [
    "file_size = 1024*1024 + 512*1024\n",
    "\n",
    "size_in_mb = file_size / (1024*1024.)\n",
    "\n",
    "print(\"Объем файла равен {0}Мб\".format(size_in_mb))\n",
    "\n"
   ]
  },
  {
   "cell_type": "markdown",
   "metadata": {},
   "source": [
    " Выведите на экран значение синуса 30 градусов с помощью метода math.sin"
   ]
  },
  {
   "cell_type": "code",
   "execution_count": 42,
   "metadata": {},
   "outputs": [
    {
     "name": "stdout",
     "output_type": "stream",
     "text": [
      "0.49999999999999994\n"
     ]
    }
   ],
   "source": [
    "import math\n",
    "\n",
    "# значение угла в градусах\n",
    "angle = 30  \n",
    "\n",
    "print(math.sin(math.radians(angle)))\n"
   ]
  },
  {
   "cell_type": "markdown",
   "metadata": {},
   "source": [
    " В прошлом задании у вас скорее всего не получилось точного значения 0.5 из-за конечной точности вычисления синуса. Но почему некоторые простые операции также могут давать неточный результат? Попробуйте вывести на экран результат операции 0.1 + 0.2. Почему результат неточен?"
   ]
  },
  {
   "cell_type": "code",
   "execution_count": 43,
   "metadata": {},
   "outputs": [
    {
     "name": "stdout",
     "output_type": "stream",
     "text": [
      "0.30000000000000004\n"
     ]
    }
   ],
   "source": [
    "print(.1+.2)\n",
    "\n",
    "# неточность заключается в способе хранения чисел с плавающей запятой, хранятся они как мантиса и степень, степень берется по какому то основанию, в данном случае\n",
    "# если не ошибаюсь основание 2, при переводе в десятичные дроби возникает неточность \n"
   ]
  },
  {
   "cell_type": "markdown",
   "metadata": {},
   "source": [
    " В переменных a и b записаны 2 различных числа. Вам необходимо написать код, который меняет значения a и b местами без использования третьей переменной."
   ]
  },
  {
   "cell_type": "code",
   "execution_count": 44,
   "metadata": {},
   "outputs": [
    {
     "name": "stdout",
     "output_type": "stream",
     "text": [
      "a=100, b=15\n",
      "a=15, b=100\n"
     ]
    }
   ],
   "source": [
    "a = 100\n",
    "b = 15\n",
    "\n",
    "print(\"a={0}, b={1}\".format(a, b))\n",
    "\n",
    "# меняем а и b через xor\n",
    "a ^= b\n",
    "b ^= a\n",
    "a ^= b\n",
    "\n",
    "print(\"a={0}, b={1}\".format(a, b))\n"
   ]
  },
  {
   "cell_type": "markdown",
   "metadata": {},
   "source": [
    " Дано число в двоичной системе счисления: num=10011. Напишите алгоритм перевода этого числа в привычную нам десятичную систему счисления."
   ]
  },
  {
   "cell_type": "code",
   "execution_count": 45,
   "metadata": {},
   "outputs": [
    {
     "name": "stdout",
     "output_type": "stream",
     "text": [
      "19\n"
     ]
    }
   ],
   "source": [
    "num = 10011\n",
    "\n",
    "dec = 0\n",
    "pow = 0\n",
    "while (num):\n",
    "    dec += (2**pow)*(num%2)\n",
    "    num //= 10\n",
    "    pow += 1\n",
    "\n",
    "print(dec)"
   ]
  },
  {
   "cell_type": "code",
   "execution_count": 46,
   "metadata": {},
   "outputs": [],
   "source": []
  }
 ],
 "metadata": {
  "file_extension": ".py",
  "kernelspec": {
   "display_name": "Python 3",
   "language": "python",
   "name": "python3"
  },
  "language_info": {
   "codemirror_mode": {
    "name": "ipython",
    "version": 3
   },
   "file_extension": ".py",
   "mimetype": "text/x-python",
   "name": "python",
   "nbconvert_exporter": "python",
   "pygments_lexer": "ipython3",
   "version": "3.7.3"
  },
  "mimetype": "text/x-python",
  "name": "python",
  "npconvert_exporter": "python",
  "pygments_lexer": "ipython3",
  "version": 3
 },
 "nbformat": 4,
 "nbformat_minor": 2
}
