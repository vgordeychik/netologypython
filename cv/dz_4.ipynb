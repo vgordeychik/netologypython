{
 "cells": [
  {
   "cell_type": "markdown",
   "metadata": {},
   "source": [
    "Реализация логистической регрессии в tensorflow.\n",
    "\n",
    "Реализовать модель логистической регрессии. На базе шаблона [004-classification.ipynb](https://github.com/a4tunado/lectures/blob/master/004/004-classification.ipynb) необходимо реализовать операцию [sigmoid](https://en.wikipedia.org/wiki/Sigmoid_function) в модели логистической регрессии."
   ]
  },
  {
   "cell_type": "markdown",
   "metadata": {},
   "source": [
    "### Решение"
   ]
  },
  {
   "cell_type": "markdown",
   "metadata": {},
   "source": [
    "Реализуем логистическую регрессию с использованием tensorflow."
   ]
  },
  {
   "cell_type": "code",
   "execution_count": 1,
   "metadata": {},
   "outputs": [],
   "source": [
    "import warnings\n",
    "warnings.filterwarnings(\"ignore\")"
   ]
  },
  {
   "cell_type": "code",
   "execution_count": 2,
   "metadata": {},
   "outputs": [],
   "source": [
    "import numpy as np\n",
    "from sklearn.base import BaseEstimator, ClassifierMixin\n",
    "from sklearn.datasets import load_iris\n",
    "from sklearn.linear_model import LogisticRegression\n",
    "from sklearn.model_selection import train_test_split, GridSearchCV\n",
    "from sklearn.metrics import accuracy_score, confusion_matrix\n",
    "import tensorflow.compat.v1 as tf\n",
    "import sys\n",
    "import matplotlib.pyplot as plt\n",
    "%matplotlib inline"
   ]
  },
  {
   "cell_type": "code",
   "execution_count": 3,
   "metadata": {},
   "outputs": [],
   "source": [
    "class TensorFlowLogisticRegression(BaseEstimator, ClassifierMixin):\n",
    "    \n",
    "    supported_optimizers = [\"sgd\", \"nesterov\", \"rmsprop\", \"adam\"]\n",
    "    \n",
    "    \"\"\"\n",
    "    Параметры:\n",
    "    ----------\n",
    "    epoch: количество эпох обучения методом mini-batch gradient descent\n",
    "    batch_size: размер батча данных\n",
    "    optimizer: используемый алгоритм, возможные значения \"sgd\",\"nesterov\",\"rmsprop\", \"adam\"\n",
    "    learning_rate: скорость обучения\n",
    "    momentum: параметр momentum в оптимизаторе Нестерова\n",
    "    verbose: вывод отладочной информации при работе алгоритма\n",
    "    \"\"\"\n",
    "    def __init__(self,\n",
    "                 epoch=100,\n",
    "                 batch_size=32,\n",
    "                 optimizer=\"nesterov\",\n",
    "                 learning_rate=0.01,\n",
    "                 momentum=0.9,\n",
    "                 shuffle=True,\n",
    "                 verbose=False):\n",
    "        \n",
    "        self.epoch = epoch\n",
    "        self.batch_size = batch_size\n",
    "        if optimizer not in self.supported_optimizers:\n",
    "            raise ValueError(\"Invalid solver '%s' specified.\" % optimizer)\n",
    "        self.optimizer = optimizer\n",
    "        self.learning_rate = learning_rate\n",
    "        self.momentum = momentum\n",
    "        self.shuffle = shuffle\n",
    "        self.verbose = verbose\n",
    "\n",
    "    def _print(self, msg, *msg_args):\n",
    "        if not self.verbose:\n",
    "            return\n",
    "        if self.verbose < 50:\n",
    "            writer = sys.stderr.write\n",
    "        else:\n",
    "            writer = sys.stdout.write\n",
    "        writer(msg.format(*msg_args) + \"\\n\")\n",
    "\n",
    "    def fit(self, X_val, y_val):\n",
    "        assert len(X_val.shape) == 2 and len(y_val.shape) == 1\n",
    "        assert X_val.shape[0] == y_val.shape[0]\n",
    "\n",
    "        # M - кол-во образцов, N - кол-во признаков\n",
    "        M, N = X_val.shape\n",
    "\n",
    "        self.class_values, y_idx = np.unique(y_val, return_inverse=True)\n",
    "        \n",
    "        # K - количество классов\n",
    "        K = len(self.class_values)\n",
    "        \n",
    "        if self.optimizer == \"sgd\":\n",
    "            solver = tf.train.GradientDescentOptimizer(self.learning_rate)\n",
    "        elif self.optimizer == \"nesterov\":\n",
    "            solver = tf.train.MomentumOptimizer(self.learning_rate, momentum=self.momentum)\n",
    "        elif self.optimizer == \"rmsprop\":\n",
    "            solver = tf.train.RMSPropOptimizer(self.learning_rate)\n",
    "        elif self.optimizer == \"adam\":\n",
    "            solver = tf.train.AdamOptimizer(self.learning_rate)\n",
    "\n",
    "        learning_curve, learning_accuracy = [], []\n",
    "\n",
    "        with tf.Session() as session:\n",
    "\n",
    "            X = tf.placeholder(dtype=tf.float32, shape=(None, N), name=\"X\")\n",
    "            y = tf.placeholder(dtype=tf.int64, shape=(None), name=\"y\")\n",
    "\n",
    "            # подготавливаем (n,k) матрицу коэффициентов, каждый столбец представляет коэффициенты k-го класса\n",
    "            # инициализируем веса с применением glorot инициализации\n",
    "            W = tf.Variable(tf.truncated_normal(shape=(N, K), stddev=np.sqrt(2 / (N + K))), dtype=tf.float32)\n",
    "\n",
    "            # коэффициенты смещения (k,)\n",
    "            b = tf.Variable(tf.zeros(shape=(K,), dtype=tf.float32))\n",
    "\n",
    "            # логиты логистической регрессии\n",
    "            logits = tf.nn.sigmoid(tf.add(tf.matmul(X, W), b))\n",
    "\n",
    "            # функция издержек, которую минимизируем\n",
    "            cost = tf.reduce_sum(tf.nn.sparse_softmax_cross_entropy_with_logits(logits=logits, labels=y))\n",
    "\n",
    "            # оптимизатор\n",
    "            optimizer = solver.minimize(cost)\n",
    "\n",
    "            # соберем отдельно также точность модели на обучаемых данных\n",
    "            correct_prediction = tf.equal(tf.argmax(logits, 1), y) \n",
    "            accuracy = tf.reduce_mean(tf.cast(correct_prediction, tf.float32)) \n",
    "\n",
    "            self._print(\"Старт обучения, solver '{}'\\n\", solver.get_name())\n",
    "\n",
    "            # инициализация\n",
    "            session.run(tf.global_variables_initializer())\n",
    "\n",
    "            # массив индексов для перемешивания\n",
    "            indices = np.arange(M)\n",
    "\n",
    "            # размер батча\n",
    "            batch_size = min(M, self.batch_size)\n",
    "\n",
    "            # цикл по эпохам\n",
    "            for epoch in range(self.epoch):\n",
    "\n",
    "                # перемешиваем индексы если нужно\n",
    "                if self.shuffle:\n",
    "                    np.random.shuffle(indices)\n",
    "                    \n",
    "                # внутри каждой эпохи данные разбиваются на батчи\n",
    "                for batch in range(M // batch_size):\n",
    "\n",
    "                    # выбираем индексы очередного батча\n",
    "                    batch_indices = indices[batch * batch_size : (batch + 1) * batch_size]\n",
    "\n",
    "                    # сам батч\n",
    "                    X_batch = X_val[batch_indices]\n",
    "                    y_batch = y_idx[batch_indices]\n",
    "\n",
    "                    # выполняем шаг обучения: вычисляем ошибку и обновляем веса\n",
    "                    loss, _ = session.run(\n",
    "                        [cost, optimizer],  # указываем, какие операции необходимо выполнить\n",
    "                        feed_dict={\n",
    "                            # передаем входные данные для вычисления\n",
    "                            X: X_batch,\n",
    "                            y: y_batch\n",
    "                        })\n",
    "\n",
    "                    # сохраняем занчения ошибки для построения кривой обучения\n",
    "                    learning_curve.append(loss)\n",
    "\n",
    "                    # точность считаем на всех обучаемых данных\n",
    "                    acc = session.run(accuracy, {X:X_val, y:y_idx})\n",
    "                    learning_accuracy.append(acc)\n",
    "\n",
    "                    # выводим текущее значение ошибки для каждого 10го шага\n",
    "                    if (len(learning_curve) - 1)  % 10 == 0:\n",
    "                        self._print(\"[{:0>3}] loss={}, accuracy={}\", len(learning_curve) - 1, loss, acc)\n",
    "\n",
    "            self.weight = W.eval()\n",
    "            self.bias = b.eval()\n",
    "        \n",
    "        self.learning_losses = learning_curve\n",
    "        self.learning_accuracy = learning_accuracy\n",
    "        self._print(\"Конец обучения.\\nweights={},\\nbias={}\\n\", str(self.weight), str(self.bias))\n",
    "\n",
    "    def predict(self, X_val):\n",
    "        assert(hasattr(self, \"class_values\"))\n",
    "        assert len(X_val.shape) == 2 and X_val.shape[1] == self.weight.shape[0]\n",
    "        \n",
    "        N, K = self.weight.shape\n",
    "\n",
    "        with tf.Session() as session:\n",
    "            X = tf.placeholder(dtype=tf.float32, shape=(None, N), name=\"X\")\n",
    "\n",
    "            W = tf.constant(self.weight)\n",
    "            b = tf.constant(self.bias)\n",
    "            classes = tf.constant(self.class_values.reshape(-1,1))\n",
    "\n",
    "            logits = tf.nn.sigmoid(tf.add(tf.matmul(X, W), b))\n",
    "            predict = tf.reshape(tf.gather_nd(classes, tf.reshape(tf.argmax(logits, 1), (-1, 1))), (-1,))\n",
    "\n",
    "            val = session.run(predict, feed_dict={X : X_val})\n",
    "            return val"
   ]
  },
  {
   "cell_type": "code",
   "execution_count": 4,
   "metadata": {},
   "outputs": [],
   "source": [
    "data = load_iris()\n",
    "X, y = data.data, data.target"
   ]
  },
  {
   "cell_type": "code",
   "execution_count": 5,
   "metadata": {},
   "outputs": [
    {
     "data": {
      "text/plain": [
       "(150, 4)"
      ]
     },
     "execution_count": 5,
     "metadata": {},
     "output_type": "execute_result"
    }
   ],
   "source": [
    "X.shape"
   ]
  },
  {
   "cell_type": "code",
   "execution_count": 6,
   "metadata": {},
   "outputs": [],
   "source": [
    "X_train, X_val, y_train, y_val = train_test_split(X, y, test_size=0.2)"
   ]
  },
  {
   "cell_type": "code",
   "execution_count": 7,
   "metadata": {},
   "outputs": [],
   "source": [
    "def visualize_learning_process(m):\n",
    "    fig = plt.figure(figsize=(20,10))\n",
    "\n",
    "    fig.add_subplot(121)\n",
    "    plt.xlabel(\"step\")\n",
    "    plt.ylabel(\"loss\")\n",
    "    plt.title(\"Learning losses\")\n",
    "    plt.plot(m.learning_losses)\n",
    "\n",
    "    fig.add_subplot(122)\n",
    "    plt.xlabel(\"step\")\n",
    "    plt.ylabel(\"accuracy\")\n",
    "    plt.title(\"Learning accuracy\")\n",
    "    plt.plot(m.learning_accuracy)\n",
    "    \n",
    "    plt.show()"
   ]
  },
  {
   "cell_type": "markdown",
   "metadata": {},
   "source": [
    "Подберем гиперпараметры модели"
   ]
  },
  {
   "cell_type": "code",
   "execution_count": 8,
   "metadata": {},
   "outputs": [
    {
     "name": "stdout",
     "output_type": "stream",
     "text": [
      "WARNING:tensorflow:From C:\\Users\\gvs\\Anaconda3\\lib\\site-packages\\tensorflow_core\\python\\ops\\resource_variable_ops.py:1630: calling BaseResourceVariable.__init__ (from tensorflow.python.ops.resource_variable_ops) with constraint is deprecated and will be removed in a future version.\n",
      "Instructions for updating:\n",
      "If using Keras pass *_constraint arguments to layers.\n"
     ]
    },
    {
     "name": "stderr",
     "output_type": "stream",
     "text": [
      "C:\\Users\\gvs\\Anaconda3\\lib\\site-packages\\sklearn\\model_selection\\_search.py:813: DeprecationWarning: The default of the `iid` parameter will change from True to False in version 0.22 and will be removed in 0.24. This will change numeric results when test-set sizes are unequal.\n",
      "  DeprecationWarning)\n"
     ]
    },
    {
     "name": "stdout",
     "output_type": "stream",
     "text": [
      "Wall time: 33.9 s\n"
     ]
    },
    {
     "data": {
      "text/plain": [
       "GridSearchCV(cv=4, error_score='raise-deprecating',\n",
       "             estimator=TensorFlowLogisticRegression(batch_size=32, epoch=100,\n",
       "                                                    learning_rate=0.01,\n",
       "                                                    momentum=0.9,\n",
       "                                                    optimizer='nesterov',\n",
       "                                                    shuffle=True,\n",
       "                                                    verbose=False),\n",
       "             iid='warn', n_jobs=-1,\n",
       "             param_grid={'batch_size': [16, 32, 64], 'epoch': [10, 100],\n",
       "                         'optimizer': ['sgd', 'nesterov', 'rmsprop', 'adam']},\n",
       "             pre_dispatch='2*n_jobs', refit=True, return_train_score=False,\n",
       "             scoring='accuracy', verbose=0)"
      ]
     },
     "execution_count": 8,
     "metadata": {},
     "output_type": "execute_result"
    }
   ],
   "source": [
    "%%time\n",
    "params=dict(\n",
    "    optimizer=TensorFlowLogisticRegression.supported_optimizers,\n",
    "    epoch=[10,100],\n",
    "    batch_size=[16, 32, 64],\n",
    "    )\n",
    "gs = GridSearchCV(\n",
    "    TensorFlowLogisticRegression(),\n",
    "    params,\n",
    "    scoring=\"accuracy\",\n",
    "    cv=4,\n",
    "    n_jobs=-1)\n",
    "gs.fit(X_train, y_train)"
   ]
  },
  {
   "cell_type": "markdown",
   "metadata": {},
   "source": [
    "Построим кривую обучения и изменение точности в процессе обучения"
   ]
  },
  {
   "cell_type": "code",
   "execution_count": 9,
   "metadata": {},
   "outputs": [
    {
     "data": {
      "image/png": "[encoded data removed]",
      "text/plain": [
       "<Figure size 1440x720 with 2 Axes>"
      ]
     },
     "metadata": {
      "needs_background": "light"
     },
     "output_type": "display_data"
    }
   ],
   "source": [
    "visualize_learning_process(gs.best_estimator_)"
   ]
  },
  {
   "cell_type": "markdown",
   "metadata": {},
   "source": [
    "Параметры подобранной модели"
   ]
  },
  {
   "cell_type": "code",
   "execution_count": 11,
   "metadata": {},
   "outputs": [
    {
     "name": "stdout",
     "output_type": "stream",
     "text": [
      "{'batch_size': 16, 'epoch': 100, 'optimizer': 'adam'}\n"
     ]
    }
   ],
   "source": [
    "print(gs.best_params_)"
   ]
  },
  {
   "cell_type": "markdown",
   "metadata": {},
   "source": [
    "Далее сравним полученную модель и реализацию логистической регресси из пакета sklearn"
   ]
  },
  {
   "cell_type": "code",
   "execution_count": 12,
   "metadata": {},
   "outputs": [],
   "source": [
    "models = [\n",
    "    TensorFlowLogisticRegression(**gs.best_params_),\n",
    "    LogisticRegression(multi_class=\"multinomial\", solver=\"lbfgs\")\n",
    "]"
   ]
  },
  {
   "cell_type": "code",
   "execution_count": 13,
   "metadata": {},
   "outputs": [],
   "source": [
    "results = []\n",
    "\n",
    "for m in models:\n",
    "    m.fit(X_train, y_train)\n",
    "\n",
    "    y_pred = m.predict(X_val)\n",
    "\n",
    "    score_train = m.score(X_train, y_train)\n",
    "    score_test = m.score(X_val, y_val)\n",
    "    cm = confusion_matrix(y_val, y_pred)\n",
    "\n",
    "    results.append((m.__class__.__name__, score_train, score_test, cm))"
   ]
  },
  {
   "cell_type": "code",
   "execution_count": 14,
   "metadata": {},
   "outputs": [
    {
     "name": "stdout",
     "output_type": "stream",
     "text": [
      "------------------\n",
      "Algorithm name: TensorFlowLogisticRegression\n",
      "Accuracy train: 0.6916666666666667\n",
      "Accuracy test: 0.7666666666666667\n",
      "Confusion matrix:\n",
      " [[ 8  0  0]\n",
      " [ 0 14  0]\n",
      " [ 0  7  1]]\n",
      "------------------\n",
      "Algorithm name: LogisticRegression\n",
      "Accuracy train: 0.9916666666666667\n",
      "Accuracy test: 0.9333333333333333\n",
      "Confusion matrix:\n",
      " [[ 8  0  0]\n",
      " [ 0 12  2]\n",
      " [ 0  0  8]]\n"
     ]
    }
   ],
   "source": [
    "for name, score_train, score_test, cm in results:\n",
    "  print(\"------------------\")\n",
    "  print(\"Algorithm name:\", name)\n",
    "  print(\"Accuracy train:\", score_train)\n",
    "  print(\"Accuracy test:\", score_test)\n",
    "  print(\"Confusion matrix:\\n\", cm)"
   ]
  },
  {
   "cell_type": "code",
   "execution_count": null,
   "metadata": {},
   "outputs": [],
   "source": []
  }
 ],
 "metadata": {
  "kernelspec": {
   "display_name": "Python 3",
   "language": "python",
   "name": "python3"
  },
  "language_info": {
   "codemirror_mode": {
    "name": "ipython",
    "version": 3
   },
   "file_extension": ".py",
   "mimetype": "text/x-python",
   "name": "python",
   "nbconvert_exporter": "python",
   "pygments_lexer": "ipython3",
   "version": "3.7.3"
  }
 },
 "nbformat": 4,
 "nbformat_minor": 2
}
